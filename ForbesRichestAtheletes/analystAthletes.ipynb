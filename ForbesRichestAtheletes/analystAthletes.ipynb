{
  "nbformat": 4,
  "nbformat_minor": 0,
  "metadata": {
    "colab": {
      "provenance": [],
      "toc_visible": true
    },
    "kernelspec": {
      "name": "python3",
      "display_name": "Python 3"
    },
    "language_info": {
      "name": "python"
    }
  },
  "cells": [
    {
      "cell_type": "markdown",
      "source": [
        "# Загрузка всех необходимых данных"
      ],
      "metadata": {
        "id": "Mn6Cfdj53eEP"
      }
    },
    {
      "cell_type": "code",
      "execution_count": 103,
      "metadata": {
        "id": "V8THh2jcc3-f"
      },
      "outputs": [],
      "source": [
        "import numpy as np\n",
        "import pandas as pd\n",
        "import matplotlib.pyplot as plt\n",
        "import seaborn as sns"
      ]
    },
    {
      "cell_type": "code",
      "source": [
        "import kagglehub\n",
        "\n",
        "path = kagglehub.dataset_download(\"parulpandey/forbes-highest-paid-athletes-19902019\")\n",
        "\n",
        "print(\"Path to dataset files:\", path)\n",
        "# path = kagglehub.dataset_download(\"parulpandey/forbes-highest-paid-athletes-19902019\")\n",
        "df = pd.read_csv(path + '/Forbes Richest Atheletes (Forbes Richest Athletes 1990-2020).csv')"
      ],
      "metadata": {
        "colab": {
          "base_uri": "https://localhost:8080/"
        },
        "id": "yKnM2UXgdOKH",
        "outputId": "0a029b28-d82e-4c08-88a8-f1a104e9e6a4"
      },
      "execution_count": 5,
      "outputs": [
        {
          "output_type": "stream",
          "name": "stdout",
          "text": [
            "Path to dataset files: /kaggle/input/forbes-highest-paid-athletes-19902019\n"
          ]
        }
      ]
    },
    {
      "cell_type": "markdown",
      "source": [
        "# EDA"
      ],
      "metadata": {
        "id": "_cmdSjLqf_Rw"
      }
    },
    {
      "cell_type": "markdown",
      "source": [
        "## Просмотр данных"
      ],
      "metadata": {
        "id": "e1uMPflHgJbF"
      }
    },
    {
      "cell_type": "code",
      "source": [
        "df.head()"
      ],
      "metadata": {
        "colab": {
          "base_uri": "https://localhost:8080/",
          "height": 206
        },
        "id": "LBxeq7UNdlEU",
        "outputId": "8ac9c67b-4f24-48e3-91cb-676468717313"
      },
      "execution_count": 7,
      "outputs": [
        {
          "output_type": "execute_result",
          "data": {
            "text/plain": [
              "   S.NO               Name Nationality  Current Rank Previous Year Rank  \\\n",
              "0     1         Mike Tyson         USA             1                NaN   \n",
              "1     2     Buster Douglas         USA             2                NaN   \n",
              "2     3  Sugar Ray Leonard         USA             3                NaN   \n",
              "3     4       Ayrton Senna      Brazil             4                NaN   \n",
              "4     5        Alain Prost      France             5                NaN   \n",
              "\n",
              "         Sport  Year  earnings ($ million)  \n",
              "0       boxing  1990                  28.6  \n",
              "1       boxing  1990                  26.0  \n",
              "2       boxing  1990                  13.0  \n",
              "3  auto racing  1990                  10.0  \n",
              "4  auto racing  1990                   9.0  "
            ],
            "text/html": [
              "\n",
              "  <div id=\"df-0968d9ee-e64b-46f8-8ed7-930664d3cb75\" class=\"colab-df-container\">\n",
              "    <div>\n",
              "<style scoped>\n",
              "    .dataframe tbody tr th:only-of-type {\n",
              "        vertical-align: middle;\n",
              "    }\n",
              "\n",
              "    .dataframe tbody tr th {\n",
              "        vertical-align: top;\n",
              "    }\n",
              "\n",
              "    .dataframe thead th {\n",
              "        text-align: right;\n",
              "    }\n",
              "</style>\n",
              "<table border=\"1\" class=\"dataframe\">\n",
              "  <thead>\n",
              "    <tr style=\"text-align: right;\">\n",
              "      <th></th>\n",
              "      <th>S.NO</th>\n",
              "      <th>Name</th>\n",
              "      <th>Nationality</th>\n",
              "      <th>Current Rank</th>\n",
              "      <th>Previous Year Rank</th>\n",
              "      <th>Sport</th>\n",
              "      <th>Year</th>\n",
              "      <th>earnings ($ million)</th>\n",
              "    </tr>\n",
              "  </thead>\n",
              "  <tbody>\n",
              "    <tr>\n",
              "      <th>0</th>\n",
              "      <td>1</td>\n",
              "      <td>Mike Tyson</td>\n",
              "      <td>USA</td>\n",
              "      <td>1</td>\n",
              "      <td>NaN</td>\n",
              "      <td>boxing</td>\n",
              "      <td>1990</td>\n",
              "      <td>28.6</td>\n",
              "    </tr>\n",
              "    <tr>\n",
              "      <th>1</th>\n",
              "      <td>2</td>\n",
              "      <td>Buster Douglas</td>\n",
              "      <td>USA</td>\n",
              "      <td>2</td>\n",
              "      <td>NaN</td>\n",
              "      <td>boxing</td>\n",
              "      <td>1990</td>\n",
              "      <td>26.0</td>\n",
              "    </tr>\n",
              "    <tr>\n",
              "      <th>2</th>\n",
              "      <td>3</td>\n",
              "      <td>Sugar Ray Leonard</td>\n",
              "      <td>USA</td>\n",
              "      <td>3</td>\n",
              "      <td>NaN</td>\n",
              "      <td>boxing</td>\n",
              "      <td>1990</td>\n",
              "      <td>13.0</td>\n",
              "    </tr>\n",
              "    <tr>\n",
              "      <th>3</th>\n",
              "      <td>4</td>\n",
              "      <td>Ayrton Senna</td>\n",
              "      <td>Brazil</td>\n",
              "      <td>4</td>\n",
              "      <td>NaN</td>\n",
              "      <td>auto racing</td>\n",
              "      <td>1990</td>\n",
              "      <td>10.0</td>\n",
              "    </tr>\n",
              "    <tr>\n",
              "      <th>4</th>\n",
              "      <td>5</td>\n",
              "      <td>Alain Prost</td>\n",
              "      <td>France</td>\n",
              "      <td>5</td>\n",
              "      <td>NaN</td>\n",
              "      <td>auto racing</td>\n",
              "      <td>1990</td>\n",
              "      <td>9.0</td>\n",
              "    </tr>\n",
              "  </tbody>\n",
              "</table>\n",
              "</div>\n",
              "    <div class=\"colab-df-buttons\">\n",
              "\n",
              "  <div class=\"colab-df-container\">\n",
              "    <button class=\"colab-df-convert\" onclick=\"convertToInteractive('df-0968d9ee-e64b-46f8-8ed7-930664d3cb75')\"\n",
              "            title=\"Convert this dataframe to an interactive table.\"\n",
              "            style=\"display:none;\">\n",
              "\n",
              "  <svg xmlns=\"http://www.w3.org/2000/svg\" height=\"24px\" viewBox=\"0 -960 960 960\">\n",
              "    <path d=\"M120-120v-720h720v720H120Zm60-500h600v-160H180v160Zm220 220h160v-160H400v160Zm0 220h160v-160H400v160ZM180-400h160v-160H180v160Zm440 0h160v-160H620v160ZM180-180h160v-160H180v160Zm440 0h160v-160H620v160Z\"/>\n",
              "  </svg>\n",
              "    </button>\n",
              "\n",
              "  <style>\n",
              "    .colab-df-container {\n",
              "      display:flex;\n",
              "      gap: 12px;\n",
              "    }\n",
              "\n",
              "    .colab-df-convert {\n",
              "      background-color: #E8F0FE;\n",
              "      border: none;\n",
              "      border-radius: 50%;\n",
              "      cursor: pointer;\n",
              "      display: none;\n",
              "      fill: #1967D2;\n",
              "      height: 32px;\n",
              "      padding: 0 0 0 0;\n",
              "      width: 32px;\n",
              "    }\n",
              "\n",
              "    .colab-df-convert:hover {\n",
              "      background-color: #E2EBFA;\n",
              "      box-shadow: 0px 1px 2px rgba(60, 64, 67, 0.3), 0px 1px 3px 1px rgba(60, 64, 67, 0.15);\n",
              "      fill: #174EA6;\n",
              "    }\n",
              "\n",
              "    .colab-df-buttons div {\n",
              "      margin-bottom: 4px;\n",
              "    }\n",
              "\n",
              "    [theme=dark] .colab-df-convert {\n",
              "      background-color: #3B4455;\n",
              "      fill: #D2E3FC;\n",
              "    }\n",
              "\n",
              "    [theme=dark] .colab-df-convert:hover {\n",
              "      background-color: #434B5C;\n",
              "      box-shadow: 0px 1px 3px 1px rgba(0, 0, 0, 0.15);\n",
              "      filter: drop-shadow(0px 1px 2px rgba(0, 0, 0, 0.3));\n",
              "      fill: #FFFFFF;\n",
              "    }\n",
              "  </style>\n",
              "\n",
              "    <script>\n",
              "      const buttonEl =\n",
              "        document.querySelector('#df-0968d9ee-e64b-46f8-8ed7-930664d3cb75 button.colab-df-convert');\n",
              "      buttonEl.style.display =\n",
              "        google.colab.kernel.accessAllowed ? 'block' : 'none';\n",
              "\n",
              "      async function convertToInteractive(key) {\n",
              "        const element = document.querySelector('#df-0968d9ee-e64b-46f8-8ed7-930664d3cb75');\n",
              "        const dataTable =\n",
              "          await google.colab.kernel.invokeFunction('convertToInteractive',\n",
              "                                                    [key], {});\n",
              "        if (!dataTable) return;\n",
              "\n",
              "        const docLinkHtml = 'Like what you see? Visit the ' +\n",
              "          '<a target=\"_blank\" href=https://colab.research.google.com/notebooks/data_table.ipynb>data table notebook</a>'\n",
              "          + ' to learn more about interactive tables.';\n",
              "        element.innerHTML = '';\n",
              "        dataTable['output_type'] = 'display_data';\n",
              "        await google.colab.output.renderOutput(dataTable, element);\n",
              "        const docLink = document.createElement('div');\n",
              "        docLink.innerHTML = docLinkHtml;\n",
              "        element.appendChild(docLink);\n",
              "      }\n",
              "    </script>\n",
              "  </div>\n",
              "\n",
              "\n",
              "    <div id=\"df-bf427440-5477-428a-a705-ca6b6b6b494f\">\n",
              "      <button class=\"colab-df-quickchart\" onclick=\"quickchart('df-bf427440-5477-428a-a705-ca6b6b6b494f')\"\n",
              "                title=\"Suggest charts\"\n",
              "                style=\"display:none;\">\n",
              "\n",
              "<svg xmlns=\"http://www.w3.org/2000/svg\" height=\"24px\"viewBox=\"0 0 24 24\"\n",
              "     width=\"24px\">\n",
              "    <g>\n",
              "        <path d=\"M19 3H5c-1.1 0-2 .9-2 2v14c0 1.1.9 2 2 2h14c1.1 0 2-.9 2-2V5c0-1.1-.9-2-2-2zM9 17H7v-7h2v7zm4 0h-2V7h2v10zm4 0h-2v-4h2v4z\"/>\n",
              "    </g>\n",
              "</svg>\n",
              "      </button>\n",
              "\n",
              "<style>\n",
              "  .colab-df-quickchart {\n",
              "      --bg-color: #E8F0FE;\n",
              "      --fill-color: #1967D2;\n",
              "      --hover-bg-color: #E2EBFA;\n",
              "      --hover-fill-color: #174EA6;\n",
              "      --disabled-fill-color: #AAA;\n",
              "      --disabled-bg-color: #DDD;\n",
              "  }\n",
              "\n",
              "  [theme=dark] .colab-df-quickchart {\n",
              "      --bg-color: #3B4455;\n",
              "      --fill-color: #D2E3FC;\n",
              "      --hover-bg-color: #434B5C;\n",
              "      --hover-fill-color: #FFFFFF;\n",
              "      --disabled-bg-color: #3B4455;\n",
              "      --disabled-fill-color: #666;\n",
              "  }\n",
              "\n",
              "  .colab-df-quickchart {\n",
              "    background-color: var(--bg-color);\n",
              "    border: none;\n",
              "    border-radius: 50%;\n",
              "    cursor: pointer;\n",
              "    display: none;\n",
              "    fill: var(--fill-color);\n",
              "    height: 32px;\n",
              "    padding: 0;\n",
              "    width: 32px;\n",
              "  }\n",
              "\n",
              "  .colab-df-quickchart:hover {\n",
              "    background-color: var(--hover-bg-color);\n",
              "    box-shadow: 0 1px 2px rgba(60, 64, 67, 0.3), 0 1px 3px 1px rgba(60, 64, 67, 0.15);\n",
              "    fill: var(--button-hover-fill-color);\n",
              "  }\n",
              "\n",
              "  .colab-df-quickchart-complete:disabled,\n",
              "  .colab-df-quickchart-complete:disabled:hover {\n",
              "    background-color: var(--disabled-bg-color);\n",
              "    fill: var(--disabled-fill-color);\n",
              "    box-shadow: none;\n",
              "  }\n",
              "\n",
              "  .colab-df-spinner {\n",
              "    border: 2px solid var(--fill-color);\n",
              "    border-color: transparent;\n",
              "    border-bottom-color: var(--fill-color);\n",
              "    animation:\n",
              "      spin 1s steps(1) infinite;\n",
              "  }\n",
              "\n",
              "  @keyframes spin {\n",
              "    0% {\n",
              "      border-color: transparent;\n",
              "      border-bottom-color: var(--fill-color);\n",
              "      border-left-color: var(--fill-color);\n",
              "    }\n",
              "    20% {\n",
              "      border-color: transparent;\n",
              "      border-left-color: var(--fill-color);\n",
              "      border-top-color: var(--fill-color);\n",
              "    }\n",
              "    30% {\n",
              "      border-color: transparent;\n",
              "      border-left-color: var(--fill-color);\n",
              "      border-top-color: var(--fill-color);\n",
              "      border-right-color: var(--fill-color);\n",
              "    }\n",
              "    40% {\n",
              "      border-color: transparent;\n",
              "      border-right-color: var(--fill-color);\n",
              "      border-top-color: var(--fill-color);\n",
              "    }\n",
              "    60% {\n",
              "      border-color: transparent;\n",
              "      border-right-color: var(--fill-color);\n",
              "    }\n",
              "    80% {\n",
              "      border-color: transparent;\n",
              "      border-right-color: var(--fill-color);\n",
              "      border-bottom-color: var(--fill-color);\n",
              "    }\n",
              "    90% {\n",
              "      border-color: transparent;\n",
              "      border-bottom-color: var(--fill-color);\n",
              "    }\n",
              "  }\n",
              "</style>\n",
              "\n",
              "      <script>\n",
              "        async function quickchart(key) {\n",
              "          const quickchartButtonEl =\n",
              "            document.querySelector('#' + key + ' button');\n",
              "          quickchartButtonEl.disabled = true;  // To prevent multiple clicks.\n",
              "          quickchartButtonEl.classList.add('colab-df-spinner');\n",
              "          try {\n",
              "            const charts = await google.colab.kernel.invokeFunction(\n",
              "                'suggestCharts', [key], {});\n",
              "          } catch (error) {\n",
              "            console.error('Error during call to suggestCharts:', error);\n",
              "          }\n",
              "          quickchartButtonEl.classList.remove('colab-df-spinner');\n",
              "          quickchartButtonEl.classList.add('colab-df-quickchart-complete');\n",
              "        }\n",
              "        (() => {\n",
              "          let quickchartButtonEl =\n",
              "            document.querySelector('#df-bf427440-5477-428a-a705-ca6b6b6b494f button');\n",
              "          quickchartButtonEl.style.display =\n",
              "            google.colab.kernel.accessAllowed ? 'block' : 'none';\n",
              "        })();\n",
              "      </script>\n",
              "    </div>\n",
              "    </div>\n",
              "  </div>\n"
            ],
            "application/vnd.google.colaboratory.intrinsic+json": {
              "type": "dataframe",
              "variable_name": "df",
              "summary": "{\n  \"name\": \"df\",\n  \"rows\": 301,\n  \"fields\": [\n    {\n      \"column\": \"S.NO\",\n      \"properties\": {\n        \"dtype\": \"number\",\n        \"std\": 87,\n        \"min\": 1,\n        \"max\": 301,\n        \"num_unique_values\": 301,\n        \"samples\": [\n          178,\n          290,\n          229\n        ],\n        \"semantic_type\": \"\",\n        \"description\": \"\"\n      }\n    },\n    {\n      \"column\": \"Name\",\n      \"properties\": {\n        \"dtype\": \"category\",\n        \"num_unique_values\": 82,\n        \"samples\": [\n          \"Oscar De La Hoya\",\n          \"Mike Tyson\",\n          \"Gerhard Berger\"\n        ],\n        \"semantic_type\": \"\",\n        \"description\": \"\"\n      }\n    },\n    {\n      \"column\": \"Nationality\",\n      \"properties\": {\n        \"dtype\": \"category\",\n        \"num_unique_values\": 22,\n        \"samples\": [\n          \"USA\",\n          \"Portugal\",\n          \"Russia\"\n        ],\n        \"semantic_type\": \"\",\n        \"description\": \"\"\n      }\n    },\n    {\n      \"column\": \"Current Rank\",\n      \"properties\": {\n        \"dtype\": \"number\",\n        \"std\": 2,\n        \"min\": 1,\n        \"max\": 10,\n        \"num_unique_values\": 10,\n        \"samples\": [\n          9,\n          2,\n          6\n        ],\n        \"semantic_type\": \"\",\n        \"description\": \"\"\n      }\n    },\n    {\n      \"column\": \"Previous Year Rank\",\n      \"properties\": {\n        \"dtype\": \"category\",\n        \"num_unique_values\": 36,\n        \"samples\": [\n          \"??\",\n          \"19\",\n          \"none\"\n        ],\n        \"semantic_type\": \"\",\n        \"description\": \"\"\n      }\n    },\n    {\n      \"column\": \"Sport\",\n      \"properties\": {\n        \"dtype\": \"category\",\n        \"num_unique_values\": 29,\n        \"samples\": [\n          \"Soccer\",\n          \"ice hockey\",\n          \"Baseball\"\n        ],\n        \"semantic_type\": \"\",\n        \"description\": \"\"\n      }\n    },\n    {\n      \"column\": \"Year\",\n      \"properties\": {\n        \"dtype\": \"number\",\n        \"std\": 9,\n        \"min\": 1990,\n        \"max\": 2020,\n        \"num_unique_values\": 30,\n        \"samples\": [\n          2018,\n          2006,\n          2014\n        ],\n        \"semantic_type\": \"\",\n        \"description\": \"\"\n      }\n    },\n    {\n      \"column\": \"earnings ($ million)\",\n      \"properties\": {\n        \"dtype\": \"number\",\n        \"std\": 33.525337196045136,\n        \"min\": 8.1,\n        \"max\": 300.0,\n        \"num_unique_values\": 198,\n        \"samples\": [\n          26.8,\n          39.0,\n          28.0\n        ],\n        \"semantic_type\": \"\",\n        \"description\": \"\"\n      }\n    }\n  ]\n}"
            }
          },
          "metadata": {},
          "execution_count": 7
        }
      ]
    },
    {
      "cell_type": "code",
      "source": [
        "df.info(memory_usage='deep')"
      ],
      "metadata": {
        "colab": {
          "base_uri": "https://localhost:8080/"
        },
        "id": "qqZV2yfEehIt",
        "outputId": "12e545ad-1267-43fc-944c-b225866658f4"
      },
      "execution_count": 8,
      "outputs": [
        {
          "output_type": "stream",
          "name": "stdout",
          "text": [
            "<class 'pandas.core.frame.DataFrame'>\n",
            "RangeIndex: 301 entries, 0 to 300\n",
            "Data columns (total 8 columns):\n",
            " #   Column                Non-Null Count  Dtype  \n",
            "---  ------                --------------  -----  \n",
            " 0   S.NO                  301 non-null    int64  \n",
            " 1   Name                  301 non-null    object \n",
            " 2   Nationality           301 non-null    object \n",
            " 3   Current Rank          301 non-null    int64  \n",
            " 4   Previous Year Rank    277 non-null    object \n",
            " 5   Sport                 301 non-null    object \n",
            " 6   Year                  301 non-null    int64  \n",
            " 7   earnings ($ million)  301 non-null    float64\n",
            "dtypes: float64(1), int64(3), object(4)\n",
            "memory usage: 84.0 KB\n"
          ]
        }
      ]
    },
    {
      "cell_type": "code",
      "source": [
        "df['Nationality'].unique()"
      ],
      "metadata": {
        "colab": {
          "base_uri": "https://localhost:8080/"
        },
        "id": "e4dhqlsMezuc",
        "outputId": "2a543ba5-3210-408b-838a-b6ca799c297e"
      },
      "execution_count": 9,
      "outputs": [
        {
          "output_type": "execute_result",
          "data": {
            "text/plain": [
              "array(['USA', 'Brazil', 'France', 'Australia', 'Canada', 'UK', 'Austria',\n",
              "       'Germany', 'Russia', 'Italy', 'Finland', 'Switzerland',\n",
              "       'Philippines', 'Portugal', 'Dominican', 'Argentina', 'Filipino',\n",
              "       'Spain', 'Serbia', 'Northern Ireland', 'Ireland', 'Mexico'],\n",
              "      dtype=object)"
            ]
          },
          "metadata": {},
          "execution_count": 9
        }
      ]
    },
    {
      "cell_type": "code",
      "source": [
        "df['Current Rank'].unique()"
      ],
      "metadata": {
        "colab": {
          "base_uri": "https://localhost:8080/"
        },
        "id": "Jfa0EJYQfF1_",
        "outputId": "51869186-e46e-45ab-84f0-16f748d3afe0"
      },
      "execution_count": 10,
      "outputs": [
        {
          "output_type": "execute_result",
          "data": {
            "text/plain": [
              "array([ 1,  2,  3,  4,  5,  6,  7,  8,  9, 10])"
            ]
          },
          "metadata": {},
          "execution_count": 10
        }
      ]
    },
    {
      "cell_type": "code",
      "source": [
        "df['Previous Year Rank'].unique()"
      ],
      "metadata": {
        "colab": {
          "base_uri": "https://localhost:8080/"
        },
        "id": "MLxGj4JWfKMO",
        "outputId": "d5c29750-83e2-4e91-ddf9-c0293220a2a0"
      },
      "execution_count": 11,
      "outputs": [
        {
          "output_type": "execute_result",
          "data": {
            "text/plain": [
              "array([nan, '8', '1', '>30', '4', '5', '12', '6', '3', '9', '17', '13',\n",
              "       '10', '>40', '19', '40', '7', '11', '30', '22', '20', 'not ranked',\n",
              "       '38', '2', '15', '14', '26', 'none', '18', '>10', '>20', '?', '24',\n",
              "       '21', '>14', '>100', '??'], dtype=object)"
            ]
          },
          "metadata": {},
          "execution_count": 11
        }
      ]
    },
    {
      "cell_type": "code",
      "source": [
        "df['Sport'].unique()"
      ],
      "metadata": {
        "colab": {
          "base_uri": "https://localhost:8080/"
        },
        "id": "mSPSccy5fOk3",
        "outputId": "b539e74d-eb1d-4aec-a610-223dfb186f9d"
      },
      "execution_count": 12,
      "outputs": [
        {
          "output_type": "execute_result",
          "data": {
            "text/plain": [
              "array(['boxing', 'auto racing', 'golf', 'basketball', 'Basketball',\n",
              "       'Boxing', 'Auto Racing', 'Golf', 'Tennis', 'NFL', 'Auto racing',\n",
              "       'NBA', 'Baseball', 'Ice Hockey', 'American Football / Baseball',\n",
              "       'tennis', 'ice hockey', 'F1 Motorsports', 'NASCAR', 'Hockey',\n",
              "       'Auto Racing (Nascar)', 'F1 racing', 'American Football', 'soccer',\n",
              "       'baseball', 'cycling', 'motorcycle gp', 'Soccer', 'MMA'],\n",
              "      dtype=object)"
            ]
          },
          "metadata": {},
          "execution_count": 12
        }
      ]
    },
    {
      "cell_type": "markdown",
      "source": [
        "### Вывод\n",
        "\n",
        "Просмотрев на данные можно сделать следующие выводы. Current Rank является категориальным данным. И его необходимо преобразовать на тип данных object"
      ],
      "metadata": {
        "id": "MdhJoHOwffov"
      }
    },
    {
      "cell_type": "markdown",
      "source": [
        "### Преобразование данных"
      ],
      "metadata": {
        "id": "KUa1JRTGgRzl"
      }
    },
    {
      "cell_type": "code",
      "source": [
        "df['Current Rank'] = df['Current Rank'].astype(object)"
      ],
      "metadata": {
        "id": "e-ntrSgWfe5X"
      },
      "execution_count": 13,
      "outputs": []
    },
    {
      "cell_type": "code",
      "source": [
        "df.info()"
      ],
      "metadata": {
        "colab": {
          "base_uri": "https://localhost:8080/"
        },
        "id": "0_8XGtZ2fYyl",
        "outputId": "58da9dda-20d2-4713-cf28-9fbdbb94553c"
      },
      "execution_count": 14,
      "outputs": [
        {
          "output_type": "stream",
          "name": "stdout",
          "text": [
            "<class 'pandas.core.frame.DataFrame'>\n",
            "RangeIndex: 301 entries, 0 to 300\n",
            "Data columns (total 8 columns):\n",
            " #   Column                Non-Null Count  Dtype  \n",
            "---  ------                --------------  -----  \n",
            " 0   S.NO                  301 non-null    int64  \n",
            " 1   Name                  301 non-null    object \n",
            " 2   Nationality           301 non-null    object \n",
            " 3   Current Rank          301 non-null    object \n",
            " 4   Previous Year Rank    277 non-null    object \n",
            " 5   Sport                 301 non-null    object \n",
            " 6   Year                  301 non-null    int64  \n",
            " 7   earnings ($ million)  301 non-null    float64\n",
            "dtypes: float64(1), int64(2), object(5)\n",
            "memory usage: 18.9+ KB\n"
          ]
        }
      ]
    },
    {
      "cell_type": "markdown",
      "source": [
        "## Работа с дубликатами и c пропущенными данными"
      ],
      "metadata": {
        "id": "d4XPRqDwhdyQ"
      }
    },
    {
      "cell_type": "code",
      "source": [
        "df.duplicated().sum()"
      ],
      "metadata": {
        "colab": {
          "base_uri": "https://localhost:8080/"
        },
        "id": "kktf9K--f7-h",
        "outputId": "bf1eaea1-0cf1-4799-ddc7-3836f2448093"
      },
      "execution_count": 15,
      "outputs": [
        {
          "output_type": "execute_result",
          "data": {
            "text/plain": [
              "np.int64(0)"
            ]
          },
          "metadata": {},
          "execution_count": 15
        }
      ]
    },
    {
      "cell_type": "code",
      "source": [
        "df.isnull().mean()"
      ],
      "metadata": {
        "colab": {
          "base_uri": "https://localhost:8080/",
          "height": 335
        },
        "id": "EMpFzIJlhqZB",
        "outputId": "ae5678d0-4ca8-450d-fa75-ff751955d47f"
      },
      "execution_count": 16,
      "outputs": [
        {
          "output_type": "execute_result",
          "data": {
            "text/plain": [
              "S.NO                    0.000000\n",
              "Name                    0.000000\n",
              "Nationality             0.000000\n",
              "Current Rank            0.000000\n",
              "Previous Year Rank      0.079734\n",
              "Sport                   0.000000\n",
              "Year                    0.000000\n",
              "earnings ($ million)    0.000000\n",
              "dtype: float64"
            ],
            "text/html": [
              "<div>\n",
              "<style scoped>\n",
              "    .dataframe tbody tr th:only-of-type {\n",
              "        vertical-align: middle;\n",
              "    }\n",
              "\n",
              "    .dataframe tbody tr th {\n",
              "        vertical-align: top;\n",
              "    }\n",
              "\n",
              "    .dataframe thead th {\n",
              "        text-align: right;\n",
              "    }\n",
              "</style>\n",
              "<table border=\"1\" class=\"dataframe\">\n",
              "  <thead>\n",
              "    <tr style=\"text-align: right;\">\n",
              "      <th></th>\n",
              "      <th>0</th>\n",
              "    </tr>\n",
              "  </thead>\n",
              "  <tbody>\n",
              "    <tr>\n",
              "      <th>S.NO</th>\n",
              "      <td>0.000000</td>\n",
              "    </tr>\n",
              "    <tr>\n",
              "      <th>Name</th>\n",
              "      <td>0.000000</td>\n",
              "    </tr>\n",
              "    <tr>\n",
              "      <th>Nationality</th>\n",
              "      <td>0.000000</td>\n",
              "    </tr>\n",
              "    <tr>\n",
              "      <th>Current Rank</th>\n",
              "      <td>0.000000</td>\n",
              "    </tr>\n",
              "    <tr>\n",
              "      <th>Previous Year Rank</th>\n",
              "      <td>0.079734</td>\n",
              "    </tr>\n",
              "    <tr>\n",
              "      <th>Sport</th>\n",
              "      <td>0.000000</td>\n",
              "    </tr>\n",
              "    <tr>\n",
              "      <th>Year</th>\n",
              "      <td>0.000000</td>\n",
              "    </tr>\n",
              "    <tr>\n",
              "      <th>earnings ($ million)</th>\n",
              "      <td>0.000000</td>\n",
              "    </tr>\n",
              "  </tbody>\n",
              "</table>\n",
              "</div><br><label><b>dtype:</b> float64</label>"
            ]
          },
          "metadata": {},
          "execution_count": 16
        }
      ]
    },
    {
      "cell_type": "markdown",
      "source": [
        "В столбце пропущенные данные в Previous Year Rank. Данный столбец является категориальными. Поэтому заполним пропущенные данные модой"
      ],
      "metadata": {
        "id": "1y-tEouhiFAW"
      }
    },
    {
      "cell_type": "code",
      "source": [
        "df['Previous Year Rank'] = df['Previous Year Rank'].fillna(df['Previous Year Rank'].mode().iloc[0])"
      ],
      "metadata": {
        "id": "iVFRtIz4hnMd"
      },
      "execution_count": 20,
      "outputs": []
    },
    {
      "cell_type": "code",
      "source": [
        "df.isnull().mean()"
      ],
      "metadata": {
        "colab": {
          "base_uri": "https://localhost:8080/",
          "height": 335
        },
        "id": "B2YQuqp8iZXW",
        "outputId": "90ec92b7-8b5b-4a85-f54a-09128212f651"
      },
      "execution_count": 21,
      "outputs": [
        {
          "output_type": "execute_result",
          "data": {
            "text/plain": [
              "S.NO                    0.0\n",
              "Name                    0.0\n",
              "Nationality             0.0\n",
              "Current Rank            0.0\n",
              "Previous Year Rank      0.0\n",
              "Sport                   0.0\n",
              "Year                    0.0\n",
              "earnings ($ million)    0.0\n",
              "dtype: float64"
            ],
            "text/html": [
              "<div>\n",
              "<style scoped>\n",
              "    .dataframe tbody tr th:only-of-type {\n",
              "        vertical-align: middle;\n",
              "    }\n",
              "\n",
              "    .dataframe tbody tr th {\n",
              "        vertical-align: top;\n",
              "    }\n",
              "\n",
              "    .dataframe thead th {\n",
              "        text-align: right;\n",
              "    }\n",
              "</style>\n",
              "<table border=\"1\" class=\"dataframe\">\n",
              "  <thead>\n",
              "    <tr style=\"text-align: right;\">\n",
              "      <th></th>\n",
              "      <th>0</th>\n",
              "    </tr>\n",
              "  </thead>\n",
              "  <tbody>\n",
              "    <tr>\n",
              "      <th>S.NO</th>\n",
              "      <td>0.0</td>\n",
              "    </tr>\n",
              "    <tr>\n",
              "      <th>Name</th>\n",
              "      <td>0.0</td>\n",
              "    </tr>\n",
              "    <tr>\n",
              "      <th>Nationality</th>\n",
              "      <td>0.0</td>\n",
              "    </tr>\n",
              "    <tr>\n",
              "      <th>Current Rank</th>\n",
              "      <td>0.0</td>\n",
              "    </tr>\n",
              "    <tr>\n",
              "      <th>Previous Year Rank</th>\n",
              "      <td>0.0</td>\n",
              "    </tr>\n",
              "    <tr>\n",
              "      <th>Sport</th>\n",
              "      <td>0.0</td>\n",
              "    </tr>\n",
              "    <tr>\n",
              "      <th>Year</th>\n",
              "      <td>0.0</td>\n",
              "    </tr>\n",
              "    <tr>\n",
              "      <th>earnings ($ million)</th>\n",
              "      <td>0.0</td>\n",
              "    </tr>\n",
              "  </tbody>\n",
              "</table>\n",
              "</div><br><label><b>dtype:</b> float64</label>"
            ]
          },
          "metadata": {},
          "execution_count": 21
        }
      ]
    },
    {
      "cell_type": "markdown",
      "source": [
        "### Вывод\n",
        "\n",
        "*   Посмотрели на дубликаты. Их нет\n",
        "*   Посмотрели на пропущенные данные и заполнили его модой, потому что столбец имеет категориальный\n",
        "\n",
        "\n"
      ],
      "metadata": {
        "id": "xA9PSpHgiqBF"
      }
    },
    {
      "cell_type": "markdown",
      "source": [
        "## Одномерный анализ"
      ],
      "metadata": {
        "id": "5J-jxOpPjBEO"
      }
    },
    {
      "cell_type": "markdown",
      "source": [
        "### Категориальные переменные"
      ],
      "metadata": {
        "id": "28ryR8NcjIeF"
      }
    },
    {
      "cell_type": "code",
      "source": [
        "df.info()"
      ],
      "metadata": {
        "colab": {
          "base_uri": "https://localhost:8080/"
        },
        "id": "IXsYWIXZipUd",
        "outputId": "bb60200e-8beb-48dd-cc50-67ebb7f8f757"
      },
      "execution_count": 22,
      "outputs": [
        {
          "output_type": "stream",
          "name": "stdout",
          "text": [
            "<class 'pandas.core.frame.DataFrame'>\n",
            "RangeIndex: 301 entries, 0 to 300\n",
            "Data columns (total 8 columns):\n",
            " #   Column                Non-Null Count  Dtype  \n",
            "---  ------                --------------  -----  \n",
            " 0   S.NO                  301 non-null    int64  \n",
            " 1   Name                  301 non-null    object \n",
            " 2   Nationality           301 non-null    object \n",
            " 3   Current Rank          301 non-null    object \n",
            " 4   Previous Year Rank    301 non-null    object \n",
            " 5   Sport                 301 non-null    object \n",
            " 6   Year                  301 non-null    int64  \n",
            " 7   earnings ($ million)  301 non-null    float64\n",
            "dtypes: float64(1), int64(2), object(5)\n",
            "memory usage: 18.9+ KB\n"
          ]
        }
      ]
    },
    {
      "cell_type": "code",
      "source": [
        "df.describe(include='object')"
      ],
      "metadata": {
        "colab": {
          "base_uri": "https://localhost:8080/",
          "height": 175
        },
        "id": "L7mWJn_Ek7hx",
        "outputId": "c540ab35-207e-45f7-a56b-4a5059022f2b"
      },
      "execution_count": 27,
      "outputs": [
        {
          "output_type": "execute_result",
          "data": {
            "text/plain": [
              "                  Name Nationality  Current Rank Previous Year Rank  \\\n",
              "count              301         301           301                301   \n",
              "unique              82          22            10                 36   \n",
              "top     Michael Jordan         USA             9                >10   \n",
              "freq                19         206            34                 60   \n",
              "\n",
              "             Sport  \n",
              "count          301  \n",
              "unique          29  \n",
              "top     Basketball  \n",
              "freq            54  "
            ],
            "text/html": [
              "\n",
              "  <div id=\"df-1773a7b5-6f75-47f4-b4e8-33a673226525\" class=\"colab-df-container\">\n",
              "    <div>\n",
              "<style scoped>\n",
              "    .dataframe tbody tr th:only-of-type {\n",
              "        vertical-align: middle;\n",
              "    }\n",
              "\n",
              "    .dataframe tbody tr th {\n",
              "        vertical-align: top;\n",
              "    }\n",
              "\n",
              "    .dataframe thead th {\n",
              "        text-align: right;\n",
              "    }\n",
              "</style>\n",
              "<table border=\"1\" class=\"dataframe\">\n",
              "  <thead>\n",
              "    <tr style=\"text-align: right;\">\n",
              "      <th></th>\n",
              "      <th>Name</th>\n",
              "      <th>Nationality</th>\n",
              "      <th>Current Rank</th>\n",
              "      <th>Previous Year Rank</th>\n",
              "      <th>Sport</th>\n",
              "    </tr>\n",
              "  </thead>\n",
              "  <tbody>\n",
              "    <tr>\n",
              "      <th>count</th>\n",
              "      <td>301</td>\n",
              "      <td>301</td>\n",
              "      <td>301</td>\n",
              "      <td>301</td>\n",
              "      <td>301</td>\n",
              "    </tr>\n",
              "    <tr>\n",
              "      <th>unique</th>\n",
              "      <td>82</td>\n",
              "      <td>22</td>\n",
              "      <td>10</td>\n",
              "      <td>36</td>\n",
              "      <td>29</td>\n",
              "    </tr>\n",
              "    <tr>\n",
              "      <th>top</th>\n",
              "      <td>Michael Jordan</td>\n",
              "      <td>USA</td>\n",
              "      <td>9</td>\n",
              "      <td>&gt;10</td>\n",
              "      <td>Basketball</td>\n",
              "    </tr>\n",
              "    <tr>\n",
              "      <th>freq</th>\n",
              "      <td>19</td>\n",
              "      <td>206</td>\n",
              "      <td>34</td>\n",
              "      <td>60</td>\n",
              "      <td>54</td>\n",
              "    </tr>\n",
              "  </tbody>\n",
              "</table>\n",
              "</div>\n",
              "    <div class=\"colab-df-buttons\">\n",
              "\n",
              "  <div class=\"colab-df-container\">\n",
              "    <button class=\"colab-df-convert\" onclick=\"convertToInteractive('df-1773a7b5-6f75-47f4-b4e8-33a673226525')\"\n",
              "            title=\"Convert this dataframe to an interactive table.\"\n",
              "            style=\"display:none;\">\n",
              "\n",
              "  <svg xmlns=\"http://www.w3.org/2000/svg\" height=\"24px\" viewBox=\"0 -960 960 960\">\n",
              "    <path d=\"M120-120v-720h720v720H120Zm60-500h600v-160H180v160Zm220 220h160v-160H400v160Zm0 220h160v-160H400v160ZM180-400h160v-160H180v160Zm440 0h160v-160H620v160ZM180-180h160v-160H180v160Zm440 0h160v-160H620v160Z\"/>\n",
              "  </svg>\n",
              "    </button>\n",
              "\n",
              "  <style>\n",
              "    .colab-df-container {\n",
              "      display:flex;\n",
              "      gap: 12px;\n",
              "    }\n",
              "\n",
              "    .colab-df-convert {\n",
              "      background-color: #E8F0FE;\n",
              "      border: none;\n",
              "      border-radius: 50%;\n",
              "      cursor: pointer;\n",
              "      display: none;\n",
              "      fill: #1967D2;\n",
              "      height: 32px;\n",
              "      padding: 0 0 0 0;\n",
              "      width: 32px;\n",
              "    }\n",
              "\n",
              "    .colab-df-convert:hover {\n",
              "      background-color: #E2EBFA;\n",
              "      box-shadow: 0px 1px 2px rgba(60, 64, 67, 0.3), 0px 1px 3px 1px rgba(60, 64, 67, 0.15);\n",
              "      fill: #174EA6;\n",
              "    }\n",
              "\n",
              "    .colab-df-buttons div {\n",
              "      margin-bottom: 4px;\n",
              "    }\n",
              "\n",
              "    [theme=dark] .colab-df-convert {\n",
              "      background-color: #3B4455;\n",
              "      fill: #D2E3FC;\n",
              "    }\n",
              "\n",
              "    [theme=dark] .colab-df-convert:hover {\n",
              "      background-color: #434B5C;\n",
              "      box-shadow: 0px 1px 3px 1px rgba(0, 0, 0, 0.15);\n",
              "      filter: drop-shadow(0px 1px 2px rgba(0, 0, 0, 0.3));\n",
              "      fill: #FFFFFF;\n",
              "    }\n",
              "  </style>\n",
              "\n",
              "    <script>\n",
              "      const buttonEl =\n",
              "        document.querySelector('#df-1773a7b5-6f75-47f4-b4e8-33a673226525 button.colab-df-convert');\n",
              "      buttonEl.style.display =\n",
              "        google.colab.kernel.accessAllowed ? 'block' : 'none';\n",
              "\n",
              "      async function convertToInteractive(key) {\n",
              "        const element = document.querySelector('#df-1773a7b5-6f75-47f4-b4e8-33a673226525');\n",
              "        const dataTable =\n",
              "          await google.colab.kernel.invokeFunction('convertToInteractive',\n",
              "                                                    [key], {});\n",
              "        if (!dataTable) return;\n",
              "\n",
              "        const docLinkHtml = 'Like what you see? Visit the ' +\n",
              "          '<a target=\"_blank\" href=https://colab.research.google.com/notebooks/data_table.ipynb>data table notebook</a>'\n",
              "          + ' to learn more about interactive tables.';\n",
              "        element.innerHTML = '';\n",
              "        dataTable['output_type'] = 'display_data';\n",
              "        await google.colab.output.renderOutput(dataTable, element);\n",
              "        const docLink = document.createElement('div');\n",
              "        docLink.innerHTML = docLinkHtml;\n",
              "        element.appendChild(docLink);\n",
              "      }\n",
              "    </script>\n",
              "  </div>\n",
              "\n",
              "\n",
              "    <div id=\"df-86a07e7d-06a9-41f8-b8c9-c3edd7c4e4a1\">\n",
              "      <button class=\"colab-df-quickchart\" onclick=\"quickchart('df-86a07e7d-06a9-41f8-b8c9-c3edd7c4e4a1')\"\n",
              "                title=\"Suggest charts\"\n",
              "                style=\"display:none;\">\n",
              "\n",
              "<svg xmlns=\"http://www.w3.org/2000/svg\" height=\"24px\"viewBox=\"0 0 24 24\"\n",
              "     width=\"24px\">\n",
              "    <g>\n",
              "        <path d=\"M19 3H5c-1.1 0-2 .9-2 2v14c0 1.1.9 2 2 2h14c1.1 0 2-.9 2-2V5c0-1.1-.9-2-2-2zM9 17H7v-7h2v7zm4 0h-2V7h2v10zm4 0h-2v-4h2v4z\"/>\n",
              "    </g>\n",
              "</svg>\n",
              "      </button>\n",
              "\n",
              "<style>\n",
              "  .colab-df-quickchart {\n",
              "      --bg-color: #E8F0FE;\n",
              "      --fill-color: #1967D2;\n",
              "      --hover-bg-color: #E2EBFA;\n",
              "      --hover-fill-color: #174EA6;\n",
              "      --disabled-fill-color: #AAA;\n",
              "      --disabled-bg-color: #DDD;\n",
              "  }\n",
              "\n",
              "  [theme=dark] .colab-df-quickchart {\n",
              "      --bg-color: #3B4455;\n",
              "      --fill-color: #D2E3FC;\n",
              "      --hover-bg-color: #434B5C;\n",
              "      --hover-fill-color: #FFFFFF;\n",
              "      --disabled-bg-color: #3B4455;\n",
              "      --disabled-fill-color: #666;\n",
              "  }\n",
              "\n",
              "  .colab-df-quickchart {\n",
              "    background-color: var(--bg-color);\n",
              "    border: none;\n",
              "    border-radius: 50%;\n",
              "    cursor: pointer;\n",
              "    display: none;\n",
              "    fill: var(--fill-color);\n",
              "    height: 32px;\n",
              "    padding: 0;\n",
              "    width: 32px;\n",
              "  }\n",
              "\n",
              "  .colab-df-quickchart:hover {\n",
              "    background-color: var(--hover-bg-color);\n",
              "    box-shadow: 0 1px 2px rgba(60, 64, 67, 0.3), 0 1px 3px 1px rgba(60, 64, 67, 0.15);\n",
              "    fill: var(--button-hover-fill-color);\n",
              "  }\n",
              "\n",
              "  .colab-df-quickchart-complete:disabled,\n",
              "  .colab-df-quickchart-complete:disabled:hover {\n",
              "    background-color: var(--disabled-bg-color);\n",
              "    fill: var(--disabled-fill-color);\n",
              "    box-shadow: none;\n",
              "  }\n",
              "\n",
              "  .colab-df-spinner {\n",
              "    border: 2px solid var(--fill-color);\n",
              "    border-color: transparent;\n",
              "    border-bottom-color: var(--fill-color);\n",
              "    animation:\n",
              "      spin 1s steps(1) infinite;\n",
              "  }\n",
              "\n",
              "  @keyframes spin {\n",
              "    0% {\n",
              "      border-color: transparent;\n",
              "      border-bottom-color: var(--fill-color);\n",
              "      border-left-color: var(--fill-color);\n",
              "    }\n",
              "    20% {\n",
              "      border-color: transparent;\n",
              "      border-left-color: var(--fill-color);\n",
              "      border-top-color: var(--fill-color);\n",
              "    }\n",
              "    30% {\n",
              "      border-color: transparent;\n",
              "      border-left-color: var(--fill-color);\n",
              "      border-top-color: var(--fill-color);\n",
              "      border-right-color: var(--fill-color);\n",
              "    }\n",
              "    40% {\n",
              "      border-color: transparent;\n",
              "      border-right-color: var(--fill-color);\n",
              "      border-top-color: var(--fill-color);\n",
              "    }\n",
              "    60% {\n",
              "      border-color: transparent;\n",
              "      border-right-color: var(--fill-color);\n",
              "    }\n",
              "    80% {\n",
              "      border-color: transparent;\n",
              "      border-right-color: var(--fill-color);\n",
              "      border-bottom-color: var(--fill-color);\n",
              "    }\n",
              "    90% {\n",
              "      border-color: transparent;\n",
              "      border-bottom-color: var(--fill-color);\n",
              "    }\n",
              "  }\n",
              "</style>\n",
              "\n",
              "      <script>\n",
              "        async function quickchart(key) {\n",
              "          const quickchartButtonEl =\n",
              "            document.querySelector('#' + key + ' button');\n",
              "          quickchartButtonEl.disabled = true;  // To prevent multiple clicks.\n",
              "          quickchartButtonEl.classList.add('colab-df-spinner');\n",
              "          try {\n",
              "            const charts = await google.colab.kernel.invokeFunction(\n",
              "                'suggestCharts', [key], {});\n",
              "          } catch (error) {\n",
              "            console.error('Error during call to suggestCharts:', error);\n",
              "          }\n",
              "          quickchartButtonEl.classList.remove('colab-df-spinner');\n",
              "          quickchartButtonEl.classList.add('colab-df-quickchart-complete');\n",
              "        }\n",
              "        (() => {\n",
              "          let quickchartButtonEl =\n",
              "            document.querySelector('#df-86a07e7d-06a9-41f8-b8c9-c3edd7c4e4a1 button');\n",
              "          quickchartButtonEl.style.display =\n",
              "            google.colab.kernel.accessAllowed ? 'block' : 'none';\n",
              "        })();\n",
              "      </script>\n",
              "    </div>\n",
              "    </div>\n",
              "  </div>\n"
            ],
            "application/vnd.google.colaboratory.intrinsic+json": {
              "type": "dataframe",
              "summary": "{\n  \"name\": \"df\",\n  \"rows\": 4,\n  \"fields\": [\n    {\n      \"column\": \"Name\",\n      \"properties\": {\n        \"dtype\": \"string\",\n        \"num_unique_values\": 4,\n        \"samples\": [\n          82,\n          \"19\",\n          \"301\"\n        ],\n        \"semantic_type\": \"\",\n        \"description\": \"\"\n      }\n    },\n    {\n      \"column\": \"Nationality\",\n      \"properties\": {\n        \"dtype\": \"string\",\n        \"num_unique_values\": 4,\n        \"samples\": [\n          22,\n          \"206\",\n          \"301\"\n        ],\n        \"semantic_type\": \"\",\n        \"description\": \"\"\n      }\n    },\n    {\n      \"column\": \"Current Rank\",\n      \"properties\": {\n        \"dtype\": \"number\",\n        \"std\": 142,\n        \"min\": 9,\n        \"max\": 301,\n        \"num_unique_values\": 4,\n        \"samples\": [\n          10,\n          34,\n          301\n        ],\n        \"semantic_type\": \"\",\n        \"description\": \"\"\n      }\n    },\n    {\n      \"column\": \"Previous Year Rank\",\n      \"properties\": {\n        \"dtype\": \"string\",\n        \"num_unique_values\": 4,\n        \"samples\": [\n          36,\n          \"60\",\n          \"301\"\n        ],\n        \"semantic_type\": \"\",\n        \"description\": \"\"\n      }\n    },\n    {\n      \"column\": \"Sport\",\n      \"properties\": {\n        \"dtype\": \"string\",\n        \"num_unique_values\": 4,\n        \"samples\": [\n          29,\n          \"54\",\n          \"301\"\n        ],\n        \"semantic_type\": \"\",\n        \"description\": \"\"\n      }\n    }\n  ]\n}"
            }
          },
          "metadata": {},
          "execution_count": 27
        }
      ]
    },
    {
      "cell_type": "markdown",
      "source": [
        "В данном датасете категориальные данные Name, Nationality, Current Rank, Previous Year Rank, Sport. Посмотрим только на некоторые. Например, исследовать Name бессмысленно\n"
      ],
      "metadata": {
        "id": "gvTLdAMrjTpM"
      }
    },
    {
      "cell_type": "markdown",
      "source": [
        "#### Столбец Nationality"
      ],
      "metadata": {
        "id": "kiQkXVW2kM6N"
      }
    },
    {
      "cell_type": "code",
      "source": [
        "df['Nationality'].unique()"
      ],
      "metadata": {
        "colab": {
          "base_uri": "https://localhost:8080/"
        },
        "id": "J8niNzokjRVV",
        "outputId": "40181309-627e-44d7-8126-a5320c82335d"
      },
      "execution_count": 23,
      "outputs": [
        {
          "output_type": "execute_result",
          "data": {
            "text/plain": [
              "array(['USA', 'Brazil', 'France', 'Australia', 'Canada', 'UK', 'Austria',\n",
              "       'Germany', 'Russia', 'Italy', 'Finland', 'Switzerland',\n",
              "       'Philippines', 'Portugal', 'Dominican', 'Argentina', 'Filipino',\n",
              "       'Spain', 'Serbia', 'Northern Ireland', 'Ireland', 'Mexico'],\n",
              "      dtype=object)"
            ]
          },
          "metadata": {},
          "execution_count": 23
        }
      ]
    },
    {
      "cell_type": "code",
      "source": [
        "df['Nationality'].value_counts(normalize=True)"
      ],
      "metadata": {
        "colab": {
          "base_uri": "https://localhost:8080/",
          "height": 805
        },
        "id": "N2C6x2qbkbbP",
        "outputId": "ed6d7dde-9f61-4f0f-b587-924ee74f9976"
      },
      "execution_count": 25,
      "outputs": [
        {
          "output_type": "execute_result",
          "data": {
            "text/plain": [
              "Nationality\n",
              "USA                 0.684385\n",
              "UK                  0.043189\n",
              "Germany             0.043189\n",
              "Switzerland         0.039867\n",
              "Portugal            0.033223\n",
              "Brazil              0.029900\n",
              "Argentina           0.029900\n",
              "Canada              0.019934\n",
              "Italy               0.013289\n",
              "France              0.009967\n",
              "Philippines         0.009967\n",
              "Finland             0.009967\n",
              "Australia           0.003322\n",
              "Russia              0.003322\n",
              "Austria             0.003322\n",
              "Dominican           0.003322\n",
              "Filipino            0.003322\n",
              "Spain               0.003322\n",
              "Serbia              0.003322\n",
              "Northern Ireland    0.003322\n",
              "Ireland             0.003322\n",
              "Mexico              0.003322\n",
              "Name: proportion, dtype: float64"
            ],
            "text/html": [
              "<div>\n",
              "<style scoped>\n",
              "    .dataframe tbody tr th:only-of-type {\n",
              "        vertical-align: middle;\n",
              "    }\n",
              "\n",
              "    .dataframe tbody tr th {\n",
              "        vertical-align: top;\n",
              "    }\n",
              "\n",
              "    .dataframe thead th {\n",
              "        text-align: right;\n",
              "    }\n",
              "</style>\n",
              "<table border=\"1\" class=\"dataframe\">\n",
              "  <thead>\n",
              "    <tr style=\"text-align: right;\">\n",
              "      <th></th>\n",
              "      <th>proportion</th>\n",
              "    </tr>\n",
              "    <tr>\n",
              "      <th>Nationality</th>\n",
              "      <th></th>\n",
              "    </tr>\n",
              "  </thead>\n",
              "  <tbody>\n",
              "    <tr>\n",
              "      <th>USA</th>\n",
              "      <td>0.684385</td>\n",
              "    </tr>\n",
              "    <tr>\n",
              "      <th>UK</th>\n",
              "      <td>0.043189</td>\n",
              "    </tr>\n",
              "    <tr>\n",
              "      <th>Germany</th>\n",
              "      <td>0.043189</td>\n",
              "    </tr>\n",
              "    <tr>\n",
              "      <th>Switzerland</th>\n",
              "      <td>0.039867</td>\n",
              "    </tr>\n",
              "    <tr>\n",
              "      <th>Portugal</th>\n",
              "      <td>0.033223</td>\n",
              "    </tr>\n",
              "    <tr>\n",
              "      <th>Brazil</th>\n",
              "      <td>0.029900</td>\n",
              "    </tr>\n",
              "    <tr>\n",
              "      <th>Argentina</th>\n",
              "      <td>0.029900</td>\n",
              "    </tr>\n",
              "    <tr>\n",
              "      <th>Canada</th>\n",
              "      <td>0.019934</td>\n",
              "    </tr>\n",
              "    <tr>\n",
              "      <th>Italy</th>\n",
              "      <td>0.013289</td>\n",
              "    </tr>\n",
              "    <tr>\n",
              "      <th>France</th>\n",
              "      <td>0.009967</td>\n",
              "    </tr>\n",
              "    <tr>\n",
              "      <th>Philippines</th>\n",
              "      <td>0.009967</td>\n",
              "    </tr>\n",
              "    <tr>\n",
              "      <th>Finland</th>\n",
              "      <td>0.009967</td>\n",
              "    </tr>\n",
              "    <tr>\n",
              "      <th>Australia</th>\n",
              "      <td>0.003322</td>\n",
              "    </tr>\n",
              "    <tr>\n",
              "      <th>Russia</th>\n",
              "      <td>0.003322</td>\n",
              "    </tr>\n",
              "    <tr>\n",
              "      <th>Austria</th>\n",
              "      <td>0.003322</td>\n",
              "    </tr>\n",
              "    <tr>\n",
              "      <th>Dominican</th>\n",
              "      <td>0.003322</td>\n",
              "    </tr>\n",
              "    <tr>\n",
              "      <th>Filipino</th>\n",
              "      <td>0.003322</td>\n",
              "    </tr>\n",
              "    <tr>\n",
              "      <th>Spain</th>\n",
              "      <td>0.003322</td>\n",
              "    </tr>\n",
              "    <tr>\n",
              "      <th>Serbia</th>\n",
              "      <td>0.003322</td>\n",
              "    </tr>\n",
              "    <tr>\n",
              "      <th>Northern Ireland</th>\n",
              "      <td>0.003322</td>\n",
              "    </tr>\n",
              "    <tr>\n",
              "      <th>Ireland</th>\n",
              "      <td>0.003322</td>\n",
              "    </tr>\n",
              "    <tr>\n",
              "      <th>Mexico</th>\n",
              "      <td>0.003322</td>\n",
              "    </tr>\n",
              "  </tbody>\n",
              "</table>\n",
              "</div><br><label><b>dtype:</b> float64</label>"
            ]
          },
          "metadata": {},
          "execution_count": 25
        }
      ]
    },
    {
      "cell_type": "code",
      "source": [
        "plot = sns.countplot(x = 'Nationality', data = df)\n",
        "plot.set_xticklabels(plot.get_xticklabels(), rotation=45, ha='right')\n",
        "plt.tight_layout()\n",
        "plt.show()"
      ],
      "metadata": {
        "colab": {
          "base_uri": "https://localhost:8080/",
          "height": 542
        },
        "id": "E_xYtRwEk3AY",
        "outputId": "9f78ab02-97f0-424c-a6be-c28f205be2bf"
      },
      "execution_count": 34,
      "outputs": [
        {
          "output_type": "stream",
          "name": "stderr",
          "text": [
            "<ipython-input-34-24027e670b1c>:2: UserWarning: set_ticklabels() should only be used with a fixed number of ticks, i.e. after set_ticks() or using a FixedLocator.\n",
            "  plot.set_xticklabels(plot.get_xticklabels(), rotation=45, ha='right')\n"
          ]
        },
        {
          "output_type": "display_data",
          "data": {
            "text/plain": [
              "<Figure size 640x480 with 1 Axes>"
            ],
            "image/png": "[encoded data removed]"
          },
          "metadata": {}
        }
      ]
    },
    {
      "cell_type": "markdown",
      "source": [
        "##### Вывод\n",
        "\n",
        "В данном столбце много стран, где мало данных. Можно их соедить в один, например, назвать \"Other\" (Другие)"
      ],
      "metadata": {
        "id": "isw_YfQ2mPFj"
      }
    },
    {
      "cell_type": "markdown",
      "source": [
        "#### Столбец Current Rank"
      ],
      "metadata": {
        "id": "N7nQV6ZsmeeU"
      }
    },
    {
      "cell_type": "code",
      "source": [
        "df['Current Rank'].unique()"
      ],
      "metadata": {
        "colab": {
          "base_uri": "https://localhost:8080/"
        },
        "id": "ptYgDGGpln5U",
        "outputId": "ebf6a424-c8d5-46ff-9744-724a32fa0101"
      },
      "execution_count": 32,
      "outputs": [
        {
          "output_type": "execute_result",
          "data": {
            "text/plain": [
              "array([1, 2, 3, 4, 5, 6, 7, 8, 9, 10], dtype=object)"
            ]
          },
          "metadata": {},
          "execution_count": 32
        }
      ]
    },
    {
      "cell_type": "code",
      "source": [
        "df['Current Rank'].value_counts(normalize=True)"
      ],
      "metadata": {
        "colab": {
          "base_uri": "https://localhost:8080/",
          "height": 429
        },
        "id": "9ZVj_4p7moCw",
        "outputId": "a9c1b2a0-9bcb-4079-d36c-4cff1b9d0ac2"
      },
      "execution_count": 33,
      "outputs": [
        {
          "output_type": "execute_result",
          "data": {
            "text/plain": [
              "Current Rank\n",
              "9     0.112957\n",
              "2     0.106312\n",
              "5     0.106312\n",
              "6     0.106312\n",
              "1     0.099668\n",
              "3     0.099668\n",
              "8     0.099668\n",
              "4     0.093023\n",
              "7     0.093023\n",
              "10    0.083056\n",
              "Name: proportion, dtype: float64"
            ],
            "text/html": [
              "<div>\n",
              "<style scoped>\n",
              "    .dataframe tbody tr th:only-of-type {\n",
              "        vertical-align: middle;\n",
              "    }\n",
              "\n",
              "    .dataframe tbody tr th {\n",
              "        vertical-align: top;\n",
              "    }\n",
              "\n",
              "    .dataframe thead th {\n",
              "        text-align: right;\n",
              "    }\n",
              "</style>\n",
              "<table border=\"1\" class=\"dataframe\">\n",
              "  <thead>\n",
              "    <tr style=\"text-align: right;\">\n",
              "      <th></th>\n",
              "      <th>proportion</th>\n",
              "    </tr>\n",
              "    <tr>\n",
              "      <th>Current Rank</th>\n",
              "      <th></th>\n",
              "    </tr>\n",
              "  </thead>\n",
              "  <tbody>\n",
              "    <tr>\n",
              "      <th>9</th>\n",
              "      <td>0.112957</td>\n",
              "    </tr>\n",
              "    <tr>\n",
              "      <th>2</th>\n",
              "      <td>0.106312</td>\n",
              "    </tr>\n",
              "    <tr>\n",
              "      <th>5</th>\n",
              "      <td>0.106312</td>\n",
              "    </tr>\n",
              "    <tr>\n",
              "      <th>6</th>\n",
              "      <td>0.106312</td>\n",
              "    </tr>\n",
              "    <tr>\n",
              "      <th>1</th>\n",
              "      <td>0.099668</td>\n",
              "    </tr>\n",
              "    <tr>\n",
              "      <th>3</th>\n",
              "      <td>0.099668</td>\n",
              "    </tr>\n",
              "    <tr>\n",
              "      <th>8</th>\n",
              "      <td>0.099668</td>\n",
              "    </tr>\n",
              "    <tr>\n",
              "      <th>4</th>\n",
              "      <td>0.093023</td>\n",
              "    </tr>\n",
              "    <tr>\n",
              "      <th>7</th>\n",
              "      <td>0.093023</td>\n",
              "    </tr>\n",
              "    <tr>\n",
              "      <th>10</th>\n",
              "      <td>0.083056</td>\n",
              "    </tr>\n",
              "  </tbody>\n",
              "</table>\n",
              "</div><br><label><b>dtype:</b> float64</label>"
            ]
          },
          "metadata": {},
          "execution_count": 33
        }
      ]
    },
    {
      "cell_type": "code",
      "source": [
        "plot = sns.countplot(x = 'Current Rank', data = df)\n",
        "plot.set_xticklabels(plot.get_xticklabels(), rotation=-45, ha='right')\n",
        "plt.tight_layout()\n",
        "plt.show()"
      ],
      "metadata": {
        "colab": {
          "base_uri": "https://localhost:8080/",
          "height": 542
        },
        "id": "CjO1CsRnmrMe",
        "outputId": "ea935763-758c-4383-d259-7fc0aa8b6bb1"
      },
      "execution_count": 40,
      "outputs": [
        {
          "output_type": "stream",
          "name": "stderr",
          "text": [
            "<ipython-input-40-9e96d572eb81>:2: UserWarning: set_ticklabels() should only be used with a fixed number of ticks, i.e. after set_ticks() or using a FixedLocator.\n",
            "  plot.set_xticklabels(plot.get_xticklabels(), rotation=-45, ha='right')\n"
          ]
        },
        {
          "output_type": "display_data",
          "data": {
            "text/plain": [
              "<Figure size 640x480 with 1 Axes>"
            ],
            "image/png": "[encoded data removed]"
          },
          "metadata": {}
        }
      ]
    },
    {
      "cell_type": "markdown",
      "source": [
        "##### Вывод\n",
        "\n",
        "В данном столбце данные имеет равномерное распределение"
      ],
      "metadata": {
        "id": "-uRbPvuhm7rd"
      }
    },
    {
      "cell_type": "markdown",
      "source": [
        "#### Столбец Previous Year Rank"
      ],
      "metadata": {
        "id": "_Xta_OjLnlr3"
      }
    },
    {
      "cell_type": "code",
      "source": [
        "df['Previous Year Rank'].unique()"
      ],
      "metadata": {
        "colab": {
          "base_uri": "https://localhost:8080/"
        },
        "id": "yDAnR1l5mwTx",
        "outputId": "9d4e11f3-4c33-49a9-a1ff-7447b8d9ac35"
      },
      "execution_count": 42,
      "outputs": [
        {
          "output_type": "execute_result",
          "data": {
            "text/plain": [
              "array(['>10', '8', '1', '>30', '4', '5', '12', '6', '3', '9', '17', '13',\n",
              "       '10', '>40', '19', '40', '7', '11', '30', '22', '20', 'not ranked',\n",
              "       '38', '2', '15', '14', '26', 'none', '18', '>20', '?', '24', '21',\n",
              "       '>14', '>100', '??'], dtype=object)"
            ]
          },
          "metadata": {},
          "execution_count": 42
        }
      ]
    },
    {
      "cell_type": "code",
      "source": [
        "df['Previous Year Rank'].value_counts(normalize=True)"
      ],
      "metadata": {
        "colab": {
          "base_uri": "https://localhost:8080/",
          "height": 1000
        },
        "id": "OezZhweKnxT1",
        "outputId": "780d6c5d-3099-454d-f597-fdd8c1f9ea18"
      },
      "execution_count": 43,
      "outputs": [
        {
          "output_type": "execute_result",
          "data": {
            "text/plain": [
              "Previous Year Rank\n",
              ">10           0.199336\n",
              "1             0.083056\n",
              "3             0.069767\n",
              "5             0.069767\n",
              "2             0.066445\n",
              "6             0.059801\n",
              "7             0.056478\n",
              "4             0.056478\n",
              "8             0.046512\n",
              "9             0.043189\n",
              "10            0.026578\n",
              ">40           0.019934\n",
              ">100          0.019934\n",
              "11            0.019934\n",
              "not ranked    0.013289\n",
              "12            0.013289\n",
              "13            0.013289\n",
              ">20           0.013289\n",
              "20            0.009967\n",
              "17            0.009967\n",
              "19            0.009967\n",
              "?             0.009967\n",
              ">30           0.006645\n",
              "30            0.006645\n",
              "24            0.006645\n",
              "??            0.006645\n",
              "14            0.006645\n",
              "15            0.006645\n",
              "18            0.006645\n",
              "40            0.003322\n",
              "22            0.003322\n",
              "38            0.003322\n",
              "none          0.003322\n",
              "26            0.003322\n",
              ">14           0.003322\n",
              "21            0.003322\n",
              "Name: proportion, dtype: float64"
            ],
            "text/html": [
              "<div>\n",
              "<style scoped>\n",
              "    .dataframe tbody tr th:only-of-type {\n",
              "        vertical-align: middle;\n",
              "    }\n",
              "\n",
              "    .dataframe tbody tr th {\n",
              "        vertical-align: top;\n",
              "    }\n",
              "\n",
              "    .dataframe thead th {\n",
              "        text-align: right;\n",
              "    }\n",
              "</style>\n",
              "<table border=\"1\" class=\"dataframe\">\n",
              "  <thead>\n",
              "    <tr style=\"text-align: right;\">\n",
              "      <th></th>\n",
              "      <th>proportion</th>\n",
              "    </tr>\n",
              "    <tr>\n",
              "      <th>Previous Year Rank</th>\n",
              "      <th></th>\n",
              "    </tr>\n",
              "  </thead>\n",
              "  <tbody>\n",
              "    <tr>\n",
              "      <th>&gt;10</th>\n",
              "      <td>0.199336</td>\n",
              "    </tr>\n",
              "    <tr>\n",
              "      <th>1</th>\n",
              "      <td>0.083056</td>\n",
              "    </tr>\n",
              "    <tr>\n",
              "      <th>3</th>\n",
              "      <td>0.069767</td>\n",
              "    </tr>\n",
              "    <tr>\n",
              "      <th>5</th>\n",
              "      <td>0.069767</td>\n",
              "    </tr>\n",
              "    <tr>\n",
              "      <th>2</th>\n",
              "      <td>0.066445</td>\n",
              "    </tr>\n",
              "    <tr>\n",
              "      <th>6</th>\n",
              "      <td>0.059801</td>\n",
              "    </tr>\n",
              "    <tr>\n",
              "      <th>7</th>\n",
              "      <td>0.056478</td>\n",
              "    </tr>\n",
              "    <tr>\n",
              "      <th>4</th>\n",
              "      <td>0.056478</td>\n",
              "    </tr>\n",
              "    <tr>\n",
              "      <th>8</th>\n",
              "      <td>0.046512</td>\n",
              "    </tr>\n",
              "    <tr>\n",
              "      <th>9</th>\n",
              "      <td>0.043189</td>\n",
              "    </tr>\n",
              "    <tr>\n",
              "      <th>10</th>\n",
              "      <td>0.026578</td>\n",
              "    </tr>\n",
              "    <tr>\n",
              "      <th>&gt;40</th>\n",
              "      <td>0.019934</td>\n",
              "    </tr>\n",
              "    <tr>\n",
              "      <th>&gt;100</th>\n",
              "      <td>0.019934</td>\n",
              "    </tr>\n",
              "    <tr>\n",
              "      <th>11</th>\n",
              "      <td>0.019934</td>\n",
              "    </tr>\n",
              "    <tr>\n",
              "      <th>not ranked</th>\n",
              "      <td>0.013289</td>\n",
              "    </tr>\n",
              "    <tr>\n",
              "      <th>12</th>\n",
              "      <td>0.013289</td>\n",
              "    </tr>\n",
              "    <tr>\n",
              "      <th>13</th>\n",
              "      <td>0.013289</td>\n",
              "    </tr>\n",
              "    <tr>\n",
              "      <th>&gt;20</th>\n",
              "      <td>0.013289</td>\n",
              "    </tr>\n",
              "    <tr>\n",
              "      <th>20</th>\n",
              "      <td>0.009967</td>\n",
              "    </tr>\n",
              "    <tr>\n",
              "      <th>17</th>\n",
              "      <td>0.009967</td>\n",
              "    </tr>\n",
              "    <tr>\n",
              "      <th>19</th>\n",
              "      <td>0.009967</td>\n",
              "    </tr>\n",
              "    <tr>\n",
              "      <th>?</th>\n",
              "      <td>0.009967</td>\n",
              "    </tr>\n",
              "    <tr>\n",
              "      <th>&gt;30</th>\n",
              "      <td>0.006645</td>\n",
              "    </tr>\n",
              "    <tr>\n",
              "      <th>30</th>\n",
              "      <td>0.006645</td>\n",
              "    </tr>\n",
              "    <tr>\n",
              "      <th>24</th>\n",
              "      <td>0.006645</td>\n",
              "    </tr>\n",
              "    <tr>\n",
              "      <th>??</th>\n",
              "      <td>0.006645</td>\n",
              "    </tr>\n",
              "    <tr>\n",
              "      <th>14</th>\n",
              "      <td>0.006645</td>\n",
              "    </tr>\n",
              "    <tr>\n",
              "      <th>15</th>\n",
              "      <td>0.006645</td>\n",
              "    </tr>\n",
              "    <tr>\n",
              "      <th>18</th>\n",
              "      <td>0.006645</td>\n",
              "    </tr>\n",
              "    <tr>\n",
              "      <th>40</th>\n",
              "      <td>0.003322</td>\n",
              "    </tr>\n",
              "    <tr>\n",
              "      <th>22</th>\n",
              "      <td>0.003322</td>\n",
              "    </tr>\n",
              "    <tr>\n",
              "      <th>38</th>\n",
              "      <td>0.003322</td>\n",
              "    </tr>\n",
              "    <tr>\n",
              "      <th>none</th>\n",
              "      <td>0.003322</td>\n",
              "    </tr>\n",
              "    <tr>\n",
              "      <th>26</th>\n",
              "      <td>0.003322</td>\n",
              "    </tr>\n",
              "    <tr>\n",
              "      <th>&gt;14</th>\n",
              "      <td>0.003322</td>\n",
              "    </tr>\n",
              "    <tr>\n",
              "      <th>21</th>\n",
              "      <td>0.003322</td>\n",
              "    </tr>\n",
              "  </tbody>\n",
              "</table>\n",
              "</div><br><label><b>dtype:</b> float64</label>"
            ]
          },
          "metadata": {},
          "execution_count": 43
        }
      ]
    },
    {
      "cell_type": "code",
      "source": [
        "plt.figure(figsize=(10, 8))\n",
        "plot = sns.countplot(x = 'Previous Year Rank', data = df)\n",
        "plot.set_xticklabels(plot.get_xticklabels(), rotation=-45, ha='right')\n",
        "plt.tight_layout()\n",
        "plt.show()"
      ],
      "metadata": {
        "colab": {
          "base_uri": "https://localhost:8080/",
          "height": 862
        },
        "id": "RHrReNbpnz2u",
        "outputId": "4569fc65-1991-483d-e4ed-5204ec00d76a"
      },
      "execution_count": 47,
      "outputs": [
        {
          "output_type": "stream",
          "name": "stderr",
          "text": [
            "<ipython-input-47-c093f7b08a3d>:3: UserWarning: set_ticklabels() should only be used with a fixed number of ticks, i.e. after set_ticks() or using a FixedLocator.\n",
            "  plot.set_xticklabels(plot.get_xticklabels(), rotation=-45, ha='right')\n"
          ]
        },
        {
          "output_type": "display_data",
          "data": {
            "text/plain": [
              "<Figure size 1000x800 with 1 Axes>"
            ],
            "image/png": "[encoded data removed]"
          },
          "metadata": {}
        }
      ]
    },
    {
      "cell_type": "markdown",
      "source": [
        "##### Вывод\n",
        "\n",
        "Очень много грязных данных. Даже непонятно"
      ],
      "metadata": {
        "id": "70TwdbiXoFHK"
      }
    },
    {
      "cell_type": "markdown",
      "source": [
        "#### Столбец Sport"
      ],
      "metadata": {
        "id": "ShZ3U9SuoMYV"
      }
    },
    {
      "cell_type": "code",
      "source": [
        "df['Sport'].unique()"
      ],
      "metadata": {
        "colab": {
          "base_uri": "https://localhost:8080/"
        },
        "id": "AQrWJD9koOUg",
        "outputId": "446daed0-08bf-4ec0-c289-197b0bdd7f10"
      },
      "execution_count": 49,
      "outputs": [
        {
          "output_type": "execute_result",
          "data": {
            "text/plain": [
              "array(['boxing', 'auto racing', 'golf', 'basketball', 'Basketball',\n",
              "       'Boxing', 'Auto Racing', 'Golf', 'Tennis', 'NFL', 'Auto racing',\n",
              "       'NBA', 'Baseball', 'Ice Hockey', 'American Football / Baseball',\n",
              "       'tennis', 'ice hockey', 'F1 Motorsports', 'NASCAR', 'Hockey',\n",
              "       'Auto Racing (Nascar)', 'F1 racing', 'American Football', 'soccer',\n",
              "       'baseball', 'cycling', 'motorcycle gp', 'Soccer', 'MMA'],\n",
              "      dtype=object)"
            ]
          },
          "metadata": {},
          "execution_count": 49
        }
      ]
    },
    {
      "cell_type": "code",
      "source": [
        "df['Sport'].value_counts()"
      ],
      "metadata": {
        "colab": {
          "base_uri": "https://localhost:8080/",
          "height": 1000
        },
        "id": "qS9_fBVjoUrH",
        "outputId": "0cb04625-89bd-4a48-d288-1e0e4c0d441e"
      },
      "execution_count": 50,
      "outputs": [
        {
          "output_type": "execute_result",
          "data": {
            "text/plain": [
              "Sport\n",
              "Basketball                      54\n",
              "Boxing                          29\n",
              "basketball                      27\n",
              "Golf                            24\n",
              "Soccer                          22\n",
              "golf                            20\n",
              "Tennis                          18\n",
              "American Football               17\n",
              "boxing                          17\n",
              "soccer                          11\n",
              "Auto Racing                     10\n",
              "F1 racing                        8\n",
              "auto racing                      7\n",
              "tennis                           5\n",
              "F1 Motorsports                   5\n",
              "motorcycle gp                    4\n",
              "NFL                              3\n",
              "baseball                         3\n",
              "NASCAR                           3\n",
              "Baseball                         3\n",
              "Ice Hockey                       2\n",
              "Auto Racing (Nascar)             2\n",
              "Auto racing                      1\n",
              "NBA                              1\n",
              "American Football / Baseball     1\n",
              "Hockey                           1\n",
              "ice hockey                       1\n",
              "cycling                          1\n",
              "MMA                              1\n",
              "Name: count, dtype: int64"
            ],
            "text/html": [
              "<div>\n",
              "<style scoped>\n",
              "    .dataframe tbody tr th:only-of-type {\n",
              "        vertical-align: middle;\n",
              "    }\n",
              "\n",
              "    .dataframe tbody tr th {\n",
              "        vertical-align: top;\n",
              "    }\n",
              "\n",
              "    .dataframe thead th {\n",
              "        text-align: right;\n",
              "    }\n",
              "</style>\n",
              "<table border=\"1\" class=\"dataframe\">\n",
              "  <thead>\n",
              "    <tr style=\"text-align: right;\">\n",
              "      <th></th>\n",
              "      <th>count</th>\n",
              "    </tr>\n",
              "    <tr>\n",
              "      <th>Sport</th>\n",
              "      <th></th>\n",
              "    </tr>\n",
              "  </thead>\n",
              "  <tbody>\n",
              "    <tr>\n",
              "      <th>Basketball</th>\n",
              "      <td>54</td>\n",
              "    </tr>\n",
              "    <tr>\n",
              "      <th>Boxing</th>\n",
              "      <td>29</td>\n",
              "    </tr>\n",
              "    <tr>\n",
              "      <th>basketball</th>\n",
              "      <td>27</td>\n",
              "    </tr>\n",
              "    <tr>\n",
              "      <th>Golf</th>\n",
              "      <td>24</td>\n",
              "    </tr>\n",
              "    <tr>\n",
              "      <th>Soccer</th>\n",
              "      <td>22</td>\n",
              "    </tr>\n",
              "    <tr>\n",
              "      <th>golf</th>\n",
              "      <td>20</td>\n",
              "    </tr>\n",
              "    <tr>\n",
              "      <th>Tennis</th>\n",
              "      <td>18</td>\n",
              "    </tr>\n",
              "    <tr>\n",
              "      <th>American Football</th>\n",
              "      <td>17</td>\n",
              "    </tr>\n",
              "    <tr>\n",
              "      <th>boxing</th>\n",
              "      <td>17</td>\n",
              "    </tr>\n",
              "    <tr>\n",
              "      <th>soccer</th>\n",
              "      <td>11</td>\n",
              "    </tr>\n",
              "    <tr>\n",
              "      <th>Auto Racing</th>\n",
              "      <td>10</td>\n",
              "    </tr>\n",
              "    <tr>\n",
              "      <th>F1 racing</th>\n",
              "      <td>8</td>\n",
              "    </tr>\n",
              "    <tr>\n",
              "      <th>auto racing</th>\n",
              "      <td>7</td>\n",
              "    </tr>\n",
              "    <tr>\n",
              "      <th>tennis</th>\n",
              "      <td>5</td>\n",
              "    </tr>\n",
              "    <tr>\n",
              "      <th>F1 Motorsports</th>\n",
              "      <td>5</td>\n",
              "    </tr>\n",
              "    <tr>\n",
              "      <th>motorcycle gp</th>\n",
              "      <td>4</td>\n",
              "    </tr>\n",
              "    <tr>\n",
              "      <th>NFL</th>\n",
              "      <td>3</td>\n",
              "    </tr>\n",
              "    <tr>\n",
              "      <th>baseball</th>\n",
              "      <td>3</td>\n",
              "    </tr>\n",
              "    <tr>\n",
              "      <th>NASCAR</th>\n",
              "      <td>3</td>\n",
              "    </tr>\n",
              "    <tr>\n",
              "      <th>Baseball</th>\n",
              "      <td>3</td>\n",
              "    </tr>\n",
              "    <tr>\n",
              "      <th>Ice Hockey</th>\n",
              "      <td>2</td>\n",
              "    </tr>\n",
              "    <tr>\n",
              "      <th>Auto Racing (Nascar)</th>\n",
              "      <td>2</td>\n",
              "    </tr>\n",
              "    <tr>\n",
              "      <th>Auto racing</th>\n",
              "      <td>1</td>\n",
              "    </tr>\n",
              "    <tr>\n",
              "      <th>NBA</th>\n",
              "      <td>1</td>\n",
              "    </tr>\n",
              "    <tr>\n",
              "      <th>American Football / Baseball</th>\n",
              "      <td>1</td>\n",
              "    </tr>\n",
              "    <tr>\n",
              "      <th>Hockey</th>\n",
              "      <td>1</td>\n",
              "    </tr>\n",
              "    <tr>\n",
              "      <th>ice hockey</th>\n",
              "      <td>1</td>\n",
              "    </tr>\n",
              "    <tr>\n",
              "      <th>cycling</th>\n",
              "      <td>1</td>\n",
              "    </tr>\n",
              "    <tr>\n",
              "      <th>MMA</th>\n",
              "      <td>1</td>\n",
              "    </tr>\n",
              "  </tbody>\n",
              "</table>\n",
              "</div><br><label><b>dtype:</b> int64</label>"
            ]
          },
          "metadata": {},
          "execution_count": 50
        }
      ]
    },
    {
      "cell_type": "code",
      "source": [
        "plt.figure(figsize=(10, 8))\n",
        "plot = sns.countplot(x = 'Sport', data = df)\n",
        "plot.set_xticklabels(plot.get_xticklabels(), rotation=-45, ha='right')\n",
        "plt.tight_layout()\n",
        "plt.show()"
      ],
      "metadata": {
        "colab": {
          "base_uri": "https://localhost:8080/",
          "height": 862
        },
        "id": "yRW4ySOHoXhU",
        "outputId": "26fe7681-48e8-43d2-9d94-592980baea95"
      },
      "execution_count": 52,
      "outputs": [
        {
          "output_type": "stream",
          "name": "stderr",
          "text": [
            "<ipython-input-52-ea3726295c50>:3: UserWarning: set_ticklabels() should only be used with a fixed number of ticks, i.e. after set_ticks() or using a FixedLocator.\n",
            "  plot.set_xticklabels(plot.get_xticklabels(), rotation=-45, ha='right')\n"
          ]
        },
        {
          "output_type": "display_data",
          "data": {
            "text/plain": [
              "<Figure size 1000x800 with 1 Axes>"
            ],
            "image/png": "[encoded data removed]"
          },
          "metadata": {}
        }
      ]
    },
    {
      "cell_type": "markdown",
      "source": [
        "##### Вывод\n",
        "\n",
        "В данном столбце много видов спорта, где мало данных. Можно их соедить в один, например, назвать \"Other\" (Другие)"
      ],
      "metadata": {
        "id": "7AjJIj2UoiTZ"
      }
    },
    {
      "cell_type": "markdown",
      "source": [
        "### Количественные переменные"
      ],
      "metadata": {
        "id": "JjhXDcvso-da"
      }
    },
    {
      "cell_type": "code",
      "source": [
        "df.info()"
      ],
      "metadata": {
        "colab": {
          "base_uri": "https://localhost:8080/"
        },
        "id": "jjr3T5edsZZH",
        "outputId": "239a842e-30b6-4abc-a1e8-2f56e8a7d5cc"
      },
      "execution_count": 57,
      "outputs": [
        {
          "output_type": "stream",
          "name": "stdout",
          "text": [
            "<class 'pandas.core.frame.DataFrame'>\n",
            "RangeIndex: 301 entries, 0 to 300\n",
            "Data columns (total 8 columns):\n",
            " #   Column                Non-Null Count  Dtype  \n",
            "---  ------                --------------  -----  \n",
            " 0   S.NO                  301 non-null    int64  \n",
            " 1   Name                  301 non-null    object \n",
            " 2   Nationality           301 non-null    object \n",
            " 3   Current Rank          301 non-null    object \n",
            " 4   Previous Year Rank    301 non-null    object \n",
            " 5   Sport                 301 non-null    object \n",
            " 6   Year                  301 non-null    int64  \n",
            " 7   earnings ($ million)  301 non-null    float64\n",
            "dtypes: float64(1), int64(2), object(5)\n",
            "memory usage: 18.9+ KB\n"
          ]
        }
      ]
    },
    {
      "cell_type": "code",
      "source": [
        "df.head()"
      ],
      "metadata": {
        "colab": {
          "base_uri": "https://localhost:8080/",
          "height": 206
        },
        "id": "da02QsMnrSIu",
        "outputId": "24525e5b-7f2e-4978-b755-e942e6ff8852"
      },
      "execution_count": 56,
      "outputs": [
        {
          "output_type": "execute_result",
          "data": {
            "text/plain": [
              "   S.NO               Name Nationality Current Rank Previous Year Rank  \\\n",
              "0     1         Mike Tyson         USA            1                >10   \n",
              "1     2     Buster Douglas         USA            2                >10   \n",
              "2     3  Sugar Ray Leonard         USA            3                >10   \n",
              "3     4       Ayrton Senna      Brazil            4                >10   \n",
              "4     5        Alain Prost      France            5                >10   \n",
              "\n",
              "         Sport  Year  earnings ($ million)  \n",
              "0       boxing  1990                  28.6  \n",
              "1       boxing  1990                  26.0  \n",
              "2       boxing  1990                  13.0  \n",
              "3  auto racing  1990                  10.0  \n",
              "4  auto racing  1990                   9.0  "
            ],
            "text/html": [
              "\n",
              "  <div id=\"df-7f2b58f3-7d40-4ecd-a9b7-854f920bb727\" class=\"colab-df-container\">\n",
              "    <div>\n",
              "<style scoped>\n",
              "    .dataframe tbody tr th:only-of-type {\n",
              "        vertical-align: middle;\n",
              "    }\n",
              "\n",
              "    .dataframe tbody tr th {\n",
              "        vertical-align: top;\n",
              "    }\n",
              "\n",
              "    .dataframe thead th {\n",
              "        text-align: right;\n",
              "    }\n",
              "</style>\n",
              "<table border=\"1\" class=\"dataframe\">\n",
              "  <thead>\n",
              "    <tr style=\"text-align: right;\">\n",
              "      <th></th>\n",
              "      <th>S.NO</th>\n",
              "      <th>Name</th>\n",
              "      <th>Nationality</th>\n",
              "      <th>Current Rank</th>\n",
              "      <th>Previous Year Rank</th>\n",
              "      <th>Sport</th>\n",
              "      <th>Year</th>\n",
              "      <th>earnings ($ million)</th>\n",
              "    </tr>\n",
              "  </thead>\n",
              "  <tbody>\n",
              "    <tr>\n",
              "      <th>0</th>\n",
              "      <td>1</td>\n",
              "      <td>Mike Tyson</td>\n",
              "      <td>USA</td>\n",
              "      <td>1</td>\n",
              "      <td>&gt;10</td>\n",
              "      <td>boxing</td>\n",
              "      <td>1990</td>\n",
              "      <td>28.6</td>\n",
              "    </tr>\n",
              "    <tr>\n",
              "      <th>1</th>\n",
              "      <td>2</td>\n",
              "      <td>Buster Douglas</td>\n",
              "      <td>USA</td>\n",
              "      <td>2</td>\n",
              "      <td>&gt;10</td>\n",
              "      <td>boxing</td>\n",
              "      <td>1990</td>\n",
              "      <td>26.0</td>\n",
              "    </tr>\n",
              "    <tr>\n",
              "      <th>2</th>\n",
              "      <td>3</td>\n",
              "      <td>Sugar Ray Leonard</td>\n",
              "      <td>USA</td>\n",
              "      <td>3</td>\n",
              "      <td>&gt;10</td>\n",
              "      <td>boxing</td>\n",
              "      <td>1990</td>\n",
              "      <td>13.0</td>\n",
              "    </tr>\n",
              "    <tr>\n",
              "      <th>3</th>\n",
              "      <td>4</td>\n",
              "      <td>Ayrton Senna</td>\n",
              "      <td>Brazil</td>\n",
              "      <td>4</td>\n",
              "      <td>&gt;10</td>\n",
              "      <td>auto racing</td>\n",
              "      <td>1990</td>\n",
              "      <td>10.0</td>\n",
              "    </tr>\n",
              "    <tr>\n",
              "      <th>4</th>\n",
              "      <td>5</td>\n",
              "      <td>Alain Prost</td>\n",
              "      <td>France</td>\n",
              "      <td>5</td>\n",
              "      <td>&gt;10</td>\n",
              "      <td>auto racing</td>\n",
              "      <td>1990</td>\n",
              "      <td>9.0</td>\n",
              "    </tr>\n",
              "  </tbody>\n",
              "</table>\n",
              "</div>\n",
              "    <div class=\"colab-df-buttons\">\n",
              "\n",
              "  <div class=\"colab-df-container\">\n",
              "    <button class=\"colab-df-convert\" onclick=\"convertToInteractive('df-7f2b58f3-7d40-4ecd-a9b7-854f920bb727')\"\n",
              "            title=\"Convert this dataframe to an interactive table.\"\n",
              "            style=\"display:none;\">\n",
              "\n",
              "  <svg xmlns=\"http://www.w3.org/2000/svg\" height=\"24px\" viewBox=\"0 -960 960 960\">\n",
              "    <path d=\"M120-120v-720h720v720H120Zm60-500h600v-160H180v160Zm220 220h160v-160H400v160Zm0 220h160v-160H400v160ZM180-400h160v-160H180v160Zm440 0h160v-160H620v160ZM180-180h160v-160H180v160Zm440 0h160v-160H620v160Z\"/>\n",
              "  </svg>\n",
              "    </button>\n",
              "\n",
              "  <style>\n",
              "    .colab-df-container {\n",
              "      display:flex;\n",
              "      gap: 12px;\n",
              "    }\n",
              "\n",
              "    .colab-df-convert {\n",
              "      background-color: #E8F0FE;\n",
              "      border: none;\n",
              "      border-radius: 50%;\n",
              "      cursor: pointer;\n",
              "      display: none;\n",
              "      fill: #1967D2;\n",
              "      height: 32px;\n",
              "      padding: 0 0 0 0;\n",
              "      width: 32px;\n",
              "    }\n",
              "\n",
              "    .colab-df-convert:hover {\n",
              "      background-color: #E2EBFA;\n",
              "      box-shadow: 0px 1px 2px rgba(60, 64, 67, 0.3), 0px 1px 3px 1px rgba(60, 64, 67, 0.15);\n",
              "      fill: #174EA6;\n",
              "    }\n",
              "\n",
              "    .colab-df-buttons div {\n",
              "      margin-bottom: 4px;\n",
              "    }\n",
              "\n",
              "    [theme=dark] .colab-df-convert {\n",
              "      background-color: #3B4455;\n",
              "      fill: #D2E3FC;\n",
              "    }\n",
              "\n",
              "    [theme=dark] .colab-df-convert:hover {\n",
              "      background-color: #434B5C;\n",
              "      box-shadow: 0px 1px 3px 1px rgba(0, 0, 0, 0.15);\n",
              "      filter: drop-shadow(0px 1px 2px rgba(0, 0, 0, 0.3));\n",
              "      fill: #FFFFFF;\n",
              "    }\n",
              "  </style>\n",
              "\n",
              "    <script>\n",
              "      const buttonEl =\n",
              "        document.querySelector('#df-7f2b58f3-7d40-4ecd-a9b7-854f920bb727 button.colab-df-convert');\n",
              "      buttonEl.style.display =\n",
              "        google.colab.kernel.accessAllowed ? 'block' : 'none';\n",
              "\n",
              "      async function convertToInteractive(key) {\n",
              "        const element = document.querySelector('#df-7f2b58f3-7d40-4ecd-a9b7-854f920bb727');\n",
              "        const dataTable =\n",
              "          await google.colab.kernel.invokeFunction('convertToInteractive',\n",
              "                                                    [key], {});\n",
              "        if (!dataTable) return;\n",
              "\n",
              "        const docLinkHtml = 'Like what you see? Visit the ' +\n",
              "          '<a target=\"_blank\" href=https://colab.research.google.com/notebooks/data_table.ipynb>data table notebook</a>'\n",
              "          + ' to learn more about interactive tables.';\n",
              "        element.innerHTML = '';\n",
              "        dataTable['output_type'] = 'display_data';\n",
              "        await google.colab.output.renderOutput(dataTable, element);\n",
              "        const docLink = document.createElement('div');\n",
              "        docLink.innerHTML = docLinkHtml;\n",
              "        element.appendChild(docLink);\n",
              "      }\n",
              "    </script>\n",
              "  </div>\n",
              "\n",
              "\n",
              "    <div id=\"df-4d3f0009-1708-44b6-8247-3562de32e826\">\n",
              "      <button class=\"colab-df-quickchart\" onclick=\"quickchart('df-4d3f0009-1708-44b6-8247-3562de32e826')\"\n",
              "                title=\"Suggest charts\"\n",
              "                style=\"display:none;\">\n",
              "\n",
              "<svg xmlns=\"http://www.w3.org/2000/svg\" height=\"24px\"viewBox=\"0 0 24 24\"\n",
              "     width=\"24px\">\n",
              "    <g>\n",
              "        <path d=\"M19 3H5c-1.1 0-2 .9-2 2v14c0 1.1.9 2 2 2h14c1.1 0 2-.9 2-2V5c0-1.1-.9-2-2-2zM9 17H7v-7h2v7zm4 0h-2V7h2v10zm4 0h-2v-4h2v4z\"/>\n",
              "    </g>\n",
              "</svg>\n",
              "      </button>\n",
              "\n",
              "<style>\n",
              "  .colab-df-quickchart {\n",
              "      --bg-color: #E8F0FE;\n",
              "      --fill-color: #1967D2;\n",
              "      --hover-bg-color: #E2EBFA;\n",
              "      --hover-fill-color: #174EA6;\n",
              "      --disabled-fill-color: #AAA;\n",
              "      --disabled-bg-color: #DDD;\n",
              "  }\n",
              "\n",
              "  [theme=dark] .colab-df-quickchart {\n",
              "      --bg-color: #3B4455;\n",
              "      --fill-color: #D2E3FC;\n",
              "      --hover-bg-color: #434B5C;\n",
              "      --hover-fill-color: #FFFFFF;\n",
              "      --disabled-bg-color: #3B4455;\n",
              "      --disabled-fill-color: #666;\n",
              "  }\n",
              "\n",
              "  .colab-df-quickchart {\n",
              "    background-color: var(--bg-color);\n",
              "    border: none;\n",
              "    border-radius: 50%;\n",
              "    cursor: pointer;\n",
              "    display: none;\n",
              "    fill: var(--fill-color);\n",
              "    height: 32px;\n",
              "    padding: 0;\n",
              "    width: 32px;\n",
              "  }\n",
              "\n",
              "  .colab-df-quickchart:hover {\n",
              "    background-color: var(--hover-bg-color);\n",
              "    box-shadow: 0 1px 2px rgba(60, 64, 67, 0.3), 0 1px 3px 1px rgba(60, 64, 67, 0.15);\n",
              "    fill: var(--button-hover-fill-color);\n",
              "  }\n",
              "\n",
              "  .colab-df-quickchart-complete:disabled,\n",
              "  .colab-df-quickchart-complete:disabled:hover {\n",
              "    background-color: var(--disabled-bg-color);\n",
              "    fill: var(--disabled-fill-color);\n",
              "    box-shadow: none;\n",
              "  }\n",
              "\n",
              "  .colab-df-spinner {\n",
              "    border: 2px solid var(--fill-color);\n",
              "    border-color: transparent;\n",
              "    border-bottom-color: var(--fill-color);\n",
              "    animation:\n",
              "      spin 1s steps(1) infinite;\n",
              "  }\n",
              "\n",
              "  @keyframes spin {\n",
              "    0% {\n",
              "      border-color: transparent;\n",
              "      border-bottom-color: var(--fill-color);\n",
              "      border-left-color: var(--fill-color);\n",
              "    }\n",
              "    20% {\n",
              "      border-color: transparent;\n",
              "      border-left-color: var(--fill-color);\n",
              "      border-top-color: var(--fill-color);\n",
              "    }\n",
              "    30% {\n",
              "      border-color: transparent;\n",
              "      border-left-color: var(--fill-color);\n",
              "      border-top-color: var(--fill-color);\n",
              "      border-right-color: var(--fill-color);\n",
              "    }\n",
              "    40% {\n",
              "      border-color: transparent;\n",
              "      border-right-color: var(--fill-color);\n",
              "      border-top-color: var(--fill-color);\n",
              "    }\n",
              "    60% {\n",
              "      border-color: transparent;\n",
              "      border-right-color: var(--fill-color);\n",
              "    }\n",
              "    80% {\n",
              "      border-color: transparent;\n",
              "      border-right-color: var(--fill-color);\n",
              "      border-bottom-color: var(--fill-color);\n",
              "    }\n",
              "    90% {\n",
              "      border-color: transparent;\n",
              "      border-bottom-color: var(--fill-color);\n",
              "    }\n",
              "  }\n",
              "</style>\n",
              "\n",
              "      <script>\n",
              "        async function quickchart(key) {\n",
              "          const quickchartButtonEl =\n",
              "            document.querySelector('#' + key + ' button');\n",
              "          quickchartButtonEl.disabled = true;  // To prevent multiple clicks.\n",
              "          quickchartButtonEl.classList.add('colab-df-spinner');\n",
              "          try {\n",
              "            const charts = await google.colab.kernel.invokeFunction(\n",
              "                'suggestCharts', [key], {});\n",
              "          } catch (error) {\n",
              "            console.error('Error during call to suggestCharts:', error);\n",
              "          }\n",
              "          quickchartButtonEl.classList.remove('colab-df-spinner');\n",
              "          quickchartButtonEl.classList.add('colab-df-quickchart-complete');\n",
              "        }\n",
              "        (() => {\n",
              "          let quickchartButtonEl =\n",
              "            document.querySelector('#df-4d3f0009-1708-44b6-8247-3562de32e826 button');\n",
              "          quickchartButtonEl.style.display =\n",
              "            google.colab.kernel.accessAllowed ? 'block' : 'none';\n",
              "        })();\n",
              "      </script>\n",
              "    </div>\n",
              "    </div>\n",
              "  </div>\n"
            ],
            "application/vnd.google.colaboratory.intrinsic+json": {
              "type": "dataframe",
              "variable_name": "df",
              "summary": "{\n  \"name\": \"df\",\n  \"rows\": 301,\n  \"fields\": [\n    {\n      \"column\": \"S.NO\",\n      \"properties\": {\n        \"dtype\": \"number\",\n        \"std\": 87,\n        \"min\": 1,\n        \"max\": 301,\n        \"num_unique_values\": 301,\n        \"samples\": [\n          178,\n          290,\n          229\n        ],\n        \"semantic_type\": \"\",\n        \"description\": \"\"\n      }\n    },\n    {\n      \"column\": \"Name\",\n      \"properties\": {\n        \"dtype\": \"category\",\n        \"num_unique_values\": 82,\n        \"samples\": [\n          \"Oscar De La Hoya\",\n          \"Mike Tyson\",\n          \"Gerhard Berger\"\n        ],\n        \"semantic_type\": \"\",\n        \"description\": \"\"\n      }\n    },\n    {\n      \"column\": \"Nationality\",\n      \"properties\": {\n        \"dtype\": \"category\",\n        \"num_unique_values\": 22,\n        \"samples\": [\n          \"USA\",\n          \"Portugal\",\n          \"Russia\"\n        ],\n        \"semantic_type\": \"\",\n        \"description\": \"\"\n      }\n    },\n    {\n      \"column\": \"Current Rank\",\n      \"properties\": {\n        \"dtype\": \"date\",\n        \"min\": 1,\n        \"max\": 10,\n        \"num_unique_values\": 10,\n        \"samples\": [\n          9,\n          2,\n          6\n        ],\n        \"semantic_type\": \"\",\n        \"description\": \"\"\n      }\n    },\n    {\n      \"column\": \"Previous Year Rank\",\n      \"properties\": {\n        \"dtype\": \"category\",\n        \"num_unique_values\": 36,\n        \"samples\": [\n          \"??\",\n          \">40\",\n          \"26\"\n        ],\n        \"semantic_type\": \"\",\n        \"description\": \"\"\n      }\n    },\n    {\n      \"column\": \"Sport\",\n      \"properties\": {\n        \"dtype\": \"category\",\n        \"num_unique_values\": 29,\n        \"samples\": [\n          \"Soccer\",\n          \"ice hockey\",\n          \"Baseball\"\n        ],\n        \"semantic_type\": \"\",\n        \"description\": \"\"\n      }\n    },\n    {\n      \"column\": \"Year\",\n      \"properties\": {\n        \"dtype\": \"number\",\n        \"std\": 9,\n        \"min\": 1990,\n        \"max\": 2020,\n        \"num_unique_values\": 30,\n        \"samples\": [\n          2018,\n          2006,\n          2014\n        ],\n        \"semantic_type\": \"\",\n        \"description\": \"\"\n      }\n    },\n    {\n      \"column\": \"earnings ($ million)\",\n      \"properties\": {\n        \"dtype\": \"number\",\n        \"std\": 33.525337196045136,\n        \"min\": 8.1,\n        \"max\": 300.0,\n        \"num_unique_values\": 198,\n        \"samples\": [\n          26.8,\n          39.0,\n          28.0\n        ],\n        \"semantic_type\": \"\",\n        \"description\": \"\"\n      }\n    }\n  ]\n}"
            }
          },
          "metadata": {},
          "execution_count": 56
        }
      ]
    },
    {
      "cell_type": "code",
      "source": [
        "numeric_cols = df.select_dtypes(include=['number'])\n",
        "\n",
        "list_percintil = numeric_cols.describe(percentiles=[0.10, 0.25, 0.50, 0.75, 0.90]).T\n",
        "\n",
        "list_percintil['median'] = numeric_cols.median()\n",
        "list_percintil['variance'] = numeric_cols.var()\n",
        "list_percintil['missing'] = numeric_cols.isna().sum()\n",
        "\n",
        "list_percintil = list_percintil[['missing', 'min', 'max', 'mean', 'median', 'variance', '10%', '25%', '50%', '75%', '90%']]\n",
        "\n",
        "list_percintil = list_percintil.T\n",
        "list_percintil"
      ],
      "metadata": {
        "colab": {
          "base_uri": "https://localhost:8080/",
          "height": 394
        },
        "id": "WvkCPHUJoccN",
        "outputId": "e3446639-bf43-4233-da6e-72c402d3e6b8"
      },
      "execution_count": 55,
      "outputs": [
        {
          "output_type": "execute_result",
          "data": {
            "text/plain": [
              "                 S.NO         Year  earnings ($ million)\n",
              "missing      0.000000     0.000000              0.000000\n",
              "min          1.000000  1990.000000              8.100000\n",
              "max        301.000000  2020.000000            300.000000\n",
              "mean       151.000000  2005.122924             45.516279\n",
              "median     151.000000  2005.000000             39.000000\n",
              "variance  7575.166667    82.148173           1123.948234\n",
              "10%         31.000000  1993.000000             13.500000\n",
              "25%         76.000000  1997.000000             24.000000\n",
              "50%        151.000000  2005.000000             39.000000\n",
              "75%        226.000000  2013.000000             59.400000\n",
              "90%        271.000000  2017.000000             85.500000"
            ],
            "text/html": [
              "\n",
              "  <div id=\"df-915336ea-e588-4703-98ca-7b9a5c088fee\" class=\"colab-df-container\">\n",
              "    <div>\n",
              "<style scoped>\n",
              "    .dataframe tbody tr th:only-of-type {\n",
              "        vertical-align: middle;\n",
              "    }\n",
              "\n",
              "    .dataframe tbody tr th {\n",
              "        vertical-align: top;\n",
              "    }\n",
              "\n",
              "    .dataframe thead th {\n",
              "        text-align: right;\n",
              "    }\n",
              "</style>\n",
              "<table border=\"1\" class=\"dataframe\">\n",
              "  <thead>\n",
              "    <tr style=\"text-align: right;\">\n",
              "      <th></th>\n",
              "      <th>S.NO</th>\n",
              "      <th>Year</th>\n",
              "      <th>earnings ($ million)</th>\n",
              "    </tr>\n",
              "  </thead>\n",
              "  <tbody>\n",
              "    <tr>\n",
              "      <th>missing</th>\n",
              "      <td>0.000000</td>\n",
              "      <td>0.000000</td>\n",
              "      <td>0.000000</td>\n",
              "    </tr>\n",
              "    <tr>\n",
              "      <th>min</th>\n",
              "      <td>1.000000</td>\n",
              "      <td>1990.000000</td>\n",
              "      <td>8.100000</td>\n",
              "    </tr>\n",
              "    <tr>\n",
              "      <th>max</th>\n",
              "      <td>301.000000</td>\n",
              "      <td>2020.000000</td>\n",
              "      <td>300.000000</td>\n",
              "    </tr>\n",
              "    <tr>\n",
              "      <th>mean</th>\n",
              "      <td>151.000000</td>\n",
              "      <td>2005.122924</td>\n",
              "      <td>45.516279</td>\n",
              "    </tr>\n",
              "    <tr>\n",
              "      <th>median</th>\n",
              "      <td>151.000000</td>\n",
              "      <td>2005.000000</td>\n",
              "      <td>39.000000</td>\n",
              "    </tr>\n",
              "    <tr>\n",
              "      <th>variance</th>\n",
              "      <td>7575.166667</td>\n",
              "      <td>82.148173</td>\n",
              "      <td>1123.948234</td>\n",
              "    </tr>\n",
              "    <tr>\n",
              "      <th>10%</th>\n",
              "      <td>31.000000</td>\n",
              "      <td>1993.000000</td>\n",
              "      <td>13.500000</td>\n",
              "    </tr>\n",
              "    <tr>\n",
              "      <th>25%</th>\n",
              "      <td>76.000000</td>\n",
              "      <td>1997.000000</td>\n",
              "      <td>24.000000</td>\n",
              "    </tr>\n",
              "    <tr>\n",
              "      <th>50%</th>\n",
              "      <td>151.000000</td>\n",
              "      <td>2005.000000</td>\n",
              "      <td>39.000000</td>\n",
              "    </tr>\n",
              "    <tr>\n",
              "      <th>75%</th>\n",
              "      <td>226.000000</td>\n",
              "      <td>2013.000000</td>\n",
              "      <td>59.400000</td>\n",
              "    </tr>\n",
              "    <tr>\n",
              "      <th>90%</th>\n",
              "      <td>271.000000</td>\n",
              "      <td>2017.000000</td>\n",
              "      <td>85.500000</td>\n",
              "    </tr>\n",
              "  </tbody>\n",
              "</table>\n",
              "</div>\n",
              "    <div class=\"colab-df-buttons\">\n",
              "\n",
              "  <div class=\"colab-df-container\">\n",
              "    <button class=\"colab-df-convert\" onclick=\"convertToInteractive('df-915336ea-e588-4703-98ca-7b9a5c088fee')\"\n",
              "            title=\"Convert this dataframe to an interactive table.\"\n",
              "            style=\"display:none;\">\n",
              "\n",
              "  <svg xmlns=\"http://www.w3.org/2000/svg\" height=\"24px\" viewBox=\"0 -960 960 960\">\n",
              "    <path d=\"M120-120v-720h720v720H120Zm60-500h600v-160H180v160Zm220 220h160v-160H400v160Zm0 220h160v-160H400v160ZM180-400h160v-160H180v160Zm440 0h160v-160H620v160ZM180-180h160v-160H180v160Zm440 0h160v-160H620v160Z\"/>\n",
              "  </svg>\n",
              "    </button>\n",
              "\n",
              "  <style>\n",
              "    .colab-df-container {\n",
              "      display:flex;\n",
              "      gap: 12px;\n",
              "    }\n",
              "\n",
              "    .colab-df-convert {\n",
              "      background-color: #E8F0FE;\n",
              "      border: none;\n",
              "      border-radius: 50%;\n",
              "      cursor: pointer;\n",
              "      display: none;\n",
              "      fill: #1967D2;\n",
              "      height: 32px;\n",
              "      padding: 0 0 0 0;\n",
              "      width: 32px;\n",
              "    }\n",
              "\n",
              "    .colab-df-convert:hover {\n",
              "      background-color: #E2EBFA;\n",
              "      box-shadow: 0px 1px 2px rgba(60, 64, 67, 0.3), 0px 1px 3px 1px rgba(60, 64, 67, 0.15);\n",
              "      fill: #174EA6;\n",
              "    }\n",
              "\n",
              "    .colab-df-buttons div {\n",
              "      margin-bottom: 4px;\n",
              "    }\n",
              "\n",
              "    [theme=dark] .colab-df-convert {\n",
              "      background-color: #3B4455;\n",
              "      fill: #D2E3FC;\n",
              "    }\n",
              "\n",
              "    [theme=dark] .colab-df-convert:hover {\n",
              "      background-color: #434B5C;\n",
              "      box-shadow: 0px 1px 3px 1px rgba(0, 0, 0, 0.15);\n",
              "      filter: drop-shadow(0px 1px 2px rgba(0, 0, 0, 0.3));\n",
              "      fill: #FFFFFF;\n",
              "    }\n",
              "  </style>\n",
              "\n",
              "    <script>\n",
              "      const buttonEl =\n",
              "        document.querySelector('#df-915336ea-e588-4703-98ca-7b9a5c088fee button.colab-df-convert');\n",
              "      buttonEl.style.display =\n",
              "        google.colab.kernel.accessAllowed ? 'block' : 'none';\n",
              "\n",
              "      async function convertToInteractive(key) {\n",
              "        const element = document.querySelector('#df-915336ea-e588-4703-98ca-7b9a5c088fee');\n",
              "        const dataTable =\n",
              "          await google.colab.kernel.invokeFunction('convertToInteractive',\n",
              "                                                    [key], {});\n",
              "        if (!dataTable) return;\n",
              "\n",
              "        const docLinkHtml = 'Like what you see? Visit the ' +\n",
              "          '<a target=\"_blank\" href=https://colab.research.google.com/notebooks/data_table.ipynb>data table notebook</a>'\n",
              "          + ' to learn more about interactive tables.';\n",
              "        element.innerHTML = '';\n",
              "        dataTable['output_type'] = 'display_data';\n",
              "        await google.colab.output.renderOutput(dataTable, element);\n",
              "        const docLink = document.createElement('div');\n",
              "        docLink.innerHTML = docLinkHtml;\n",
              "        element.appendChild(docLink);\n",
              "      }\n",
              "    </script>\n",
              "  </div>\n",
              "\n",
              "\n",
              "    <div id=\"df-9abc13af-e62f-47a2-b1d6-2e5196047a67\">\n",
              "      <button class=\"colab-df-quickchart\" onclick=\"quickchart('df-9abc13af-e62f-47a2-b1d6-2e5196047a67')\"\n",
              "                title=\"Suggest charts\"\n",
              "                style=\"display:none;\">\n",
              "\n",
              "<svg xmlns=\"http://www.w3.org/2000/svg\" height=\"24px\"viewBox=\"0 0 24 24\"\n",
              "     width=\"24px\">\n",
              "    <g>\n",
              "        <path d=\"M19 3H5c-1.1 0-2 .9-2 2v14c0 1.1.9 2 2 2h14c1.1 0 2-.9 2-2V5c0-1.1-.9-2-2-2zM9 17H7v-7h2v7zm4 0h-2V7h2v10zm4 0h-2v-4h2v4z\"/>\n",
              "    </g>\n",
              "</svg>\n",
              "      </button>\n",
              "\n",
              "<style>\n",
              "  .colab-df-quickchart {\n",
              "      --bg-color: #E8F0FE;\n",
              "      --fill-color: #1967D2;\n",
              "      --hover-bg-color: #E2EBFA;\n",
              "      --hover-fill-color: #174EA6;\n",
              "      --disabled-fill-color: #AAA;\n",
              "      --disabled-bg-color: #DDD;\n",
              "  }\n",
              "\n",
              "  [theme=dark] .colab-df-quickchart {\n",
              "      --bg-color: #3B4455;\n",
              "      --fill-color: #D2E3FC;\n",
              "      --hover-bg-color: #434B5C;\n",
              "      --hover-fill-color: #FFFFFF;\n",
              "      --disabled-bg-color: #3B4455;\n",
              "      --disabled-fill-color: #666;\n",
              "  }\n",
              "\n",
              "  .colab-df-quickchart {\n",
              "    background-color: var(--bg-color);\n",
              "    border: none;\n",
              "    border-radius: 50%;\n",
              "    cursor: pointer;\n",
              "    display: none;\n",
              "    fill: var(--fill-color);\n",
              "    height: 32px;\n",
              "    padding: 0;\n",
              "    width: 32px;\n",
              "  }\n",
              "\n",
              "  .colab-df-quickchart:hover {\n",
              "    background-color: var(--hover-bg-color);\n",
              "    box-shadow: 0 1px 2px rgba(60, 64, 67, 0.3), 0 1px 3px 1px rgba(60, 64, 67, 0.15);\n",
              "    fill: var(--button-hover-fill-color);\n",
              "  }\n",
              "\n",
              "  .colab-df-quickchart-complete:disabled,\n",
              "  .colab-df-quickchart-complete:disabled:hover {\n",
              "    background-color: var(--disabled-bg-color);\n",
              "    fill: var(--disabled-fill-color);\n",
              "    box-shadow: none;\n",
              "  }\n",
              "\n",
              "  .colab-df-spinner {\n",
              "    border: 2px solid var(--fill-color);\n",
              "    border-color: transparent;\n",
              "    border-bottom-color: var(--fill-color);\n",
              "    animation:\n",
              "      spin 1s steps(1) infinite;\n",
              "  }\n",
              "\n",
              "  @keyframes spin {\n",
              "    0% {\n",
              "      border-color: transparent;\n",
              "      border-bottom-color: var(--fill-color);\n",
              "      border-left-color: var(--fill-color);\n",
              "    }\n",
              "    20% {\n",
              "      border-color: transparent;\n",
              "      border-left-color: var(--fill-color);\n",
              "      border-top-color: var(--fill-color);\n",
              "    }\n",
              "    30% {\n",
              "      border-color: transparent;\n",
              "      border-left-color: var(--fill-color);\n",
              "      border-top-color: var(--fill-color);\n",
              "      border-right-color: var(--fill-color);\n",
              "    }\n",
              "    40% {\n",
              "      border-color: transparent;\n",
              "      border-right-color: var(--fill-color);\n",
              "      border-top-color: var(--fill-color);\n",
              "    }\n",
              "    60% {\n",
              "      border-color: transparent;\n",
              "      border-right-color: var(--fill-color);\n",
              "    }\n",
              "    80% {\n",
              "      border-color: transparent;\n",
              "      border-right-color: var(--fill-color);\n",
              "      border-bottom-color: var(--fill-color);\n",
              "    }\n",
              "    90% {\n",
              "      border-color: transparent;\n",
              "      border-bottom-color: var(--fill-color);\n",
              "    }\n",
              "  }\n",
              "</style>\n",
              "\n",
              "      <script>\n",
              "        async function quickchart(key) {\n",
              "          const quickchartButtonEl =\n",
              "            document.querySelector('#' + key + ' button');\n",
              "          quickchartButtonEl.disabled = true;  // To prevent multiple clicks.\n",
              "          quickchartButtonEl.classList.add('colab-df-spinner');\n",
              "          try {\n",
              "            const charts = await google.colab.kernel.invokeFunction(\n",
              "                'suggestCharts', [key], {});\n",
              "          } catch (error) {\n",
              "            console.error('Error during call to suggestCharts:', error);\n",
              "          }\n",
              "          quickchartButtonEl.classList.remove('colab-df-spinner');\n",
              "          quickchartButtonEl.classList.add('colab-df-quickchart-complete');\n",
              "        }\n",
              "        (() => {\n",
              "          let quickchartButtonEl =\n",
              "            document.querySelector('#df-9abc13af-e62f-47a2-b1d6-2e5196047a67 button');\n",
              "          quickchartButtonEl.style.display =\n",
              "            google.colab.kernel.accessAllowed ? 'block' : 'none';\n",
              "        })();\n",
              "      </script>\n",
              "    </div>\n",
              "    </div>\n",
              "  </div>\n"
            ],
            "application/vnd.google.colaboratory.intrinsic+json": {
              "type": "dataframe",
              "variable_name": "list_percintil",
              "summary": "{\n  \"name\": \"list_percintil\",\n  \"rows\": 11,\n  \"fields\": [\n    {\n      \"column\": \"S.NO\",\n      \"properties\": {\n        \"dtype\": \"number\",\n        \"std\": 2245.375379181473,\n        \"min\": 0.0,\n        \"max\": 7575.166666666667,\n        \"num_unique_values\": 9,\n        \"samples\": [\n          226.0,\n          1.0,\n          31.0\n        ],\n        \"semantic_type\": \"\",\n        \"description\": \"\"\n      }\n    },\n    {\n      \"column\": \"Year\",\n      \"properties\": {\n        \"dtype\": \"number\",\n        \"std\": 794.719490080039,\n        \"min\": 0.0,\n        \"max\": 2020.0,\n        \"num_unique_values\": 10,\n        \"samples\": [\n          2013.0,\n          1990.0,\n          82.1481727574753\n        ],\n        \"semantic_type\": \"\",\n        \"description\": \"\"\n      }\n    },\n    {\n      \"column\": \"earnings ($ million)\",\n      \"properties\": {\n        \"dtype\": \"number\",\n        \"std\": 330.97477975477375,\n        \"min\": 0.0,\n        \"max\": 1123.9482341085275,\n        \"num_unique_values\": 10,\n        \"samples\": [\n          59.4,\n          8.1,\n          1123.9482341085275\n        ],\n        \"semantic_type\": \"\",\n        \"description\": \"\"\n      }\n    }\n  ]\n}"
            }
          },
          "metadata": {},
          "execution_count": 55
        }
      ]
    },
    {
      "cell_type": "markdown",
      "source": [
        "Посмотрев на данные уже можно делать выводы. S.NO бессмысленный, потому что идентификационный номер, с Year явно какие-то проблемы. Так и непонятно что он ознается год рождения или год получения прибыли или что-то еще. С earnings все понятно. По кванлям понятно, что 10% получают выше 85 млн.$. Исследование подробнее проведем только заработку"
      ],
      "metadata": {
        "id": "5NBXqlxSrYo-"
      }
    },
    {
      "cell_type": "markdown",
      "source": [
        "В данном случае лишь три столбца"
      ],
      "metadata": {
        "id": "tizjbQORpHuI"
      }
    },
    {
      "cell_type": "markdown",
      "source": [
        "#### Столбец earnings ($ million)"
      ],
      "metadata": {
        "id": "futPkBEvpOA3"
      }
    },
    {
      "cell_type": "code",
      "source": [
        "import plotly.express as px"
      ],
      "metadata": {
        "id": "U26j_mG2s3G7"
      },
      "execution_count": 61,
      "outputs": []
    },
    {
      "cell_type": "code",
      "source": [
        "px.histogram(data_frame = df, x = 'earnings ($ million)', marginal = 'box')"
      ],
      "metadata": {
        "colab": {
          "base_uri": "https://localhost:8080/",
          "height": 542
        },
        "id": "0rQOCsAfpF0Z",
        "outputId": "3740c434-efa4-4076-c2b1-68aacd4de85e"
      },
      "execution_count": 65,
      "outputs": [
        {
          "output_type": "display_data",
          "data": {
            "text/html": [
              "<html>\n",
              "<head><meta charset=\"utf-8\" /></head>\n",
              "<body>\n",
              "    <div>            <script src=\"https://cdnjs.cloudflare.com/ajax/libs/mathjax/2.7.5/MathJax.js?config=TeX-AMS-MML_SVG\"></script><script type=\"text/javascript\">if (window.MathJax && window.MathJax.Hub && window.MathJax.Hub.Config) {window.MathJax.Hub.Config({SVG: {font: \"STIX-Web\"}});}</script>                <script type=\"text/javascript\">window.PlotlyConfig = {MathJaxConfig: 'local'};</script>\n",
              "        <script charset=\"utf-8\" src=\"https://cdn.plot.ly/plotly-2.35.2.min.js\"></script>                <div id=\"8bfcee33-efb3-46f2-a66c-eef2e9643fe2\" class=\"plotly-graph-div\" style=\"height:525px; width:100%;\"></div>            <script type=\"text/javascript\">                                    window.PLOTLYENV=window.PLOTLYENV || {};                                    if (document.getElementById(\"8bfcee33-efb3-46f2-a66c-eef2e9643fe2\")) {                    Plotly.newPlot(                        \"8bfcee33-efb3-46f2-a66c-eef2e9643fe2\",                        [{\"alignmentgroup\":\"True\",\"bingroup\":\"x\",\"hovertemplate\":\"earnings ($ million)=%{x}\\u003cbr\\u003ecount=%{y}\\u003cextra\\u003e\\u003c\\u002fextra\\u003e\",\"legendgroup\":\"\",\"marker\":{\"color\":\"#636efa\",\"pattern\":{\"shape\":\"\"}},\"name\":\"\",\"offsetgroup\":\"\",\"orientation\":\"v\",\"showlegend\":false,\"x\":[28.6,26.0,13.0,10.0,9.0,8.6,8.5,8.1,8.1,8.1,60.5,31.5,16.0,14.5,13.0,11.0,10.2,9.3,9.0,8.5,35.9,28.0,22.0,14.5,11.1,11.0,9.5,9.2,9.0,8.5,36.0,25.0,18.5,16.0,15.8,15.2,15.0,12.7,12.6,11.5,30.0,16.7,14.8,13.6,13.5,13.5,12.1,12.0,11.4,11.3,43.9,40.0,22.5,22.2,21.9,18.0,16.0,15.1,15.0,14.5,75.0,52.6,33.0,24.4,16.5,15.5,15.2,15.1,12.9,12.9,78.3,54.3,38.0,35.0,27.0,26.1,25.4,19.1,17.9,17.0,69.0,38.0,29.8,26.8,24.1,21.6,18.5,18.3,18.1,17.2,49.0,47.0,43.5,40.0,35.5,33.0,31.0,29.0,26.5,23.0,59.0,53.0,48.0,37.0,26.0,24.5,24.0,23.0,23.0,21.0,69.0,67.0,36.0,28.0,24.0,24.0,23.0,23.0,22.0,20.0,20.0,78.0,75.0,35.0,30.5,30.0,28.0,26.0,25.5,24.0,23.0,80.3,80.0,42.0,35.0,31.9,29.7,28.2,28.0,26.2,26.1,87.0,60.0,38.0,37.5,33.4,33.0,32.5,28.8,28.0,28.0,90.0,58.0,55.0,47.0,32.0,31.0,30.0,30.0,29.0,29.0,100.0,43.0,42.0,40.0,36.0,33.0,33.0,32.0,31.0,31.0,115.0,50.0,45.0,45.0,44.0,39.0,38.0,37.0,35.0,35.0,110.0,45.0,45.0,45.0,42.0,40.0,40.0,40.0,35.0,34.0,105.0,65.0,48.0,46.0,43.7,43.0,42.8,42.0,39.9,38.3,75.0,53.0,48.0,47.0,46.5,40.0,38.0,35.0,34.0,32.3,85.0,62.0,59.4,53.0,52.7,52.3,47.8,46.0,42.5,42.4,78.1,71.5,61.9,59.8,51.0,49.0,48.7,47.2,44.0,41.3,105.0,80.0,72.3,64.7,61.5,61.2,56.2,53.2,44.5,43.8,300.0,160.0,79.6,73.8,67.0,64.8,54.2,50.8,50.6,49.5,88.0,81.4,77.2,67.8,56.2,55.8,53.1,52.9,52.8,50.0,93.0,86.2,80.0,64.0,60.6,50.0,50.0,47.3,46.6,46.0,285.0,111.0,108.0,99.0,90.0,85.5,77.2,76.9,67.3,59.5,127.0,109.0,105.0,94.0,93.4,89.5,89.3,89.0,79.8,65.4,106.3,105.0,104.0,95.5,88.2,74.4,63.9,62.3,60.5,59.1],\"xaxis\":\"x\",\"yaxis\":\"y\",\"type\":\"histogram\"},{\"alignmentgroup\":\"True\",\"hovertemplate\":\"earnings ($ million)=%{x}\\u003cextra\\u003e\\u003c\\u002fextra\\u003e\",\"legendgroup\":\"\",\"marker\":{\"color\":\"#636efa\"},\"name\":\"\",\"notched\":true,\"offsetgroup\":\"\",\"showlegend\":false,\"x\":[28.6,26.0,13.0,10.0,9.0,8.6,8.5,8.1,8.1,8.1,60.5,31.5,16.0,14.5,13.0,11.0,10.2,9.3,9.0,8.5,35.9,28.0,22.0,14.5,11.1,11.0,9.5,9.2,9.0,8.5,36.0,25.0,18.5,16.0,15.8,15.2,15.0,12.7,12.6,11.5,30.0,16.7,14.8,13.6,13.5,13.5,12.1,12.0,11.4,11.3,43.9,40.0,22.5,22.2,21.9,18.0,16.0,15.1,15.0,14.5,75.0,52.6,33.0,24.4,16.5,15.5,15.2,15.1,12.9,12.9,78.3,54.3,38.0,35.0,27.0,26.1,25.4,19.1,17.9,17.0,69.0,38.0,29.8,26.8,24.1,21.6,18.5,18.3,18.1,17.2,49.0,47.0,43.5,40.0,35.5,33.0,31.0,29.0,26.5,23.0,59.0,53.0,48.0,37.0,26.0,24.5,24.0,23.0,23.0,21.0,69.0,67.0,36.0,28.0,24.0,24.0,23.0,23.0,22.0,20.0,20.0,78.0,75.0,35.0,30.5,30.0,28.0,26.0,25.5,24.0,23.0,80.3,80.0,42.0,35.0,31.9,29.7,28.2,28.0,26.2,26.1,87.0,60.0,38.0,37.5,33.4,33.0,32.5,28.8,28.0,28.0,90.0,58.0,55.0,47.0,32.0,31.0,30.0,30.0,29.0,29.0,100.0,43.0,42.0,40.0,36.0,33.0,33.0,32.0,31.0,31.0,115.0,50.0,45.0,45.0,44.0,39.0,38.0,37.0,35.0,35.0,110.0,45.0,45.0,45.0,42.0,40.0,40.0,40.0,35.0,34.0,105.0,65.0,48.0,46.0,43.7,43.0,42.8,42.0,39.9,38.3,75.0,53.0,48.0,47.0,46.5,40.0,38.0,35.0,34.0,32.3,85.0,62.0,59.4,53.0,52.7,52.3,47.8,46.0,42.5,42.4,78.1,71.5,61.9,59.8,51.0,49.0,48.7,47.2,44.0,41.3,105.0,80.0,72.3,64.7,61.5,61.2,56.2,53.2,44.5,43.8,300.0,160.0,79.6,73.8,67.0,64.8,54.2,50.8,50.6,49.5,88.0,81.4,77.2,67.8,56.2,55.8,53.1,52.9,52.8,50.0,93.0,86.2,80.0,64.0,60.6,50.0,50.0,47.3,46.6,46.0,285.0,111.0,108.0,99.0,90.0,85.5,77.2,76.9,67.3,59.5,127.0,109.0,105.0,94.0,93.4,89.5,89.3,89.0,79.8,65.4,106.3,105.0,104.0,95.5,88.2,74.4,63.9,62.3,60.5,59.1],\"xaxis\":\"x2\",\"yaxis\":\"y2\",\"type\":\"box\"}],                        {\"template\":{\"data\":{\"histogram2dcontour\":[{\"type\":\"histogram2dcontour\",\"colorbar\":{\"outlinewidth\":0,\"ticks\":\"\"},\"colorscale\":[[0.0,\"#0d0887\"],[0.1111111111111111,\"#46039f\"],[0.2222222222222222,\"#7201a8\"],[0.3333333333333333,\"#9c179e\"],[0.4444444444444444,\"#bd3786\"],[0.5555555555555556,\"#d8576b\"],[0.6666666666666666,\"#ed7953\"],[0.7777777777777778,\"#fb9f3a\"],[0.8888888888888888,\"#fdca26\"],[1.0,\"#f0f921\"]]}],\"choropleth\":[{\"type\":\"choropleth\",\"colorbar\":{\"outlinewidth\":0,\"ticks\":\"\"}}],\"histogram2d\":[{\"type\":\"histogram2d\",\"colorbar\":{\"outlinewidth\":0,\"ticks\":\"\"},\"colorscale\":[[0.0,\"#0d0887\"],[0.1111111111111111,\"#46039f\"],[0.2222222222222222,\"#7201a8\"],[0.3333333333333333,\"#9c179e\"],[0.4444444444444444,\"#bd3786\"],[0.5555555555555556,\"#d8576b\"],[0.6666666666666666,\"#ed7953\"],[0.7777777777777778,\"#fb9f3a\"],[0.8888888888888888,\"#fdca26\"],[1.0,\"#f0f921\"]]}],\"heatmap\":[{\"type\":\"heatmap\",\"colorbar\":{\"outlinewidth\":0,\"ticks\":\"\"},\"colorscale\":[[0.0,\"#0d0887\"],[0.1111111111111111,\"#46039f\"],[0.2222222222222222,\"#7201a8\"],[0.3333333333333333,\"#9c179e\"],[0.4444444444444444,\"#bd3786\"],[0.5555555555555556,\"#d8576b\"],[0.6666666666666666,\"#ed7953\"],[0.7777777777777778,\"#fb9f3a\"],[0.8888888888888888,\"#fdca26\"],[1.0,\"#f0f921\"]]}],\"heatmapgl\":[{\"type\":\"heatmapgl\",\"colorbar\":{\"outlinewidth\":0,\"ticks\":\"\"},\"colorscale\":[[0.0,\"#0d0887\"],[0.1111111111111111,\"#46039f\"],[0.2222222222222222,\"#7201a8\"],[0.3333333333333333,\"#9c179e\"],[0.4444444444444444,\"#bd3786\"],[0.5555555555555556,\"#d8576b\"],[0.6666666666666666,\"#ed7953\"],[0.7777777777777778,\"#fb9f3a\"],[0.8888888888888888,\"#fdca26\"],[1.0,\"#f0f921\"]]}],\"contourcarpet\":[{\"type\":\"contourcarpet\",\"colorbar\":{\"outlinewidth\":0,\"ticks\":\"\"}}],\"contour\":[{\"type\":\"contour\",\"colorbar\":{\"outlinewidth\":0,\"ticks\":\"\"},\"colorscale\":[[0.0,\"#0d0887\"],[0.1111111111111111,\"#46039f\"],[0.2222222222222222,\"#7201a8\"],[0.3333333333333333,\"#9c179e\"],[0.4444444444444444,\"#bd3786\"],[0.5555555555555556,\"#d8576b\"],[0.6666666666666666,\"#ed7953\"],[0.7777777777777778,\"#fb9f3a\"],[0.8888888888888888,\"#fdca26\"],[1.0,\"#f0f921\"]]}],\"surface\":[{\"type\":\"surface\",\"colorbar\":{\"outlinewidth\":0,\"ticks\":\"\"},\"colorscale\":[[0.0,\"#0d0887\"],[0.1111111111111111,\"#46039f\"],[0.2222222222222222,\"#7201a8\"],[0.3333333333333333,\"#9c179e\"],[0.4444444444444444,\"#bd3786\"],[0.5555555555555556,\"#d8576b\"],[0.6666666666666666,\"#ed7953\"],[0.7777777777777778,\"#fb9f3a\"],[0.8888888888888888,\"#fdca26\"],[1.0,\"#f0f921\"]]}],\"mesh3d\":[{\"type\":\"mesh3d\",\"colorbar\":{\"outlinewidth\":0,\"ticks\":\"\"}}],\"scatter\":[{\"fillpattern\":{\"fillmode\":\"overlay\",\"size\":10,\"solidity\":0.2},\"type\":\"scatter\"}],\"parcoords\":[{\"type\":\"parcoords\",\"line\":{\"colorbar\":{\"outlinewidth\":0,\"ticks\":\"\"}}}],\"scatterpolargl\":[{\"type\":\"scatterpolargl\",\"marker\":{\"colorbar\":{\"outlinewidth\":0,\"ticks\":\"\"}}}],\"bar\":[{\"error_x\":{\"color\":\"#2a3f5f\"},\"error_y\":{\"color\":\"#2a3f5f\"},\"marker\":{\"line\":{\"color\":\"#E5ECF6\",\"width\":0.5},\"pattern\":{\"fillmode\":\"overlay\",\"size\":10,\"solidity\":0.2}},\"type\":\"bar\"}],\"scattergeo\":[{\"type\":\"scattergeo\",\"marker\":{\"colorbar\":{\"outlinewidth\":0,\"ticks\":\"\"}}}],\"scatterpolar\":[{\"type\":\"scatterpolar\",\"marker\":{\"colorbar\":{\"outlinewidth\":0,\"ticks\":\"\"}}}],\"histogram\":[{\"marker\":{\"pattern\":{\"fillmode\":\"overlay\",\"size\":10,\"solidity\":0.2}},\"type\":\"histogram\"}],\"scattergl\":[{\"type\":\"scattergl\",\"marker\":{\"colorbar\":{\"outlinewidth\":0,\"ticks\":\"\"}}}],\"scatter3d\":[{\"type\":\"scatter3d\",\"line\":{\"colorbar\":{\"outlinewidth\":0,\"ticks\":\"\"}},\"marker\":{\"colorbar\":{\"outlinewidth\":0,\"ticks\":\"\"}}}],\"scattermapbox\":[{\"type\":\"scattermapbox\",\"marker\":{\"colorbar\":{\"outlinewidth\":0,\"ticks\":\"\"}}}],\"scatterternary\":[{\"type\":\"scatterternary\",\"marker\":{\"colorbar\":{\"outlinewidth\":0,\"ticks\":\"\"}}}],\"scattercarpet\":[{\"type\":\"scattercarpet\",\"marker\":{\"colorbar\":{\"outlinewidth\":0,\"ticks\":\"\"}}}],\"carpet\":[{\"aaxis\":{\"endlinecolor\":\"#2a3f5f\",\"gridcolor\":\"white\",\"linecolor\":\"white\",\"minorgridcolor\":\"white\",\"startlinecolor\":\"#2a3f5f\"},\"baxis\":{\"endlinecolor\":\"#2a3f5f\",\"gridcolor\":\"white\",\"linecolor\":\"white\",\"minorgridcolor\":\"white\",\"startlinecolor\":\"#2a3f5f\"},\"type\":\"carpet\"}],\"table\":[{\"cells\":{\"fill\":{\"color\":\"#EBF0F8\"},\"line\":{\"color\":\"white\"}},\"header\":{\"fill\":{\"color\":\"#C8D4E3\"},\"line\":{\"color\":\"white\"}},\"type\":\"table\"}],\"barpolar\":[{\"marker\":{\"line\":{\"color\":\"#E5ECF6\",\"width\":0.5},\"pattern\":{\"fillmode\":\"overlay\",\"size\":10,\"solidity\":0.2}},\"type\":\"barpolar\"}],\"pie\":[{\"automargin\":true,\"type\":\"pie\"}]},\"layout\":{\"autotypenumbers\":\"strict\",\"colorway\":[\"#636efa\",\"#EF553B\",\"#00cc96\",\"#ab63fa\",\"#FFA15A\",\"#19d3f3\",\"#FF6692\",\"#B6E880\",\"#FF97FF\",\"#FECB52\"],\"font\":{\"color\":\"#2a3f5f\"},\"hovermode\":\"closest\",\"hoverlabel\":{\"align\":\"left\"},\"paper_bgcolor\":\"white\",\"plot_bgcolor\":\"#E5ECF6\",\"polar\":{\"bgcolor\":\"#E5ECF6\",\"angularaxis\":{\"gridcolor\":\"white\",\"linecolor\":\"white\",\"ticks\":\"\"},\"radialaxis\":{\"gridcolor\":\"white\",\"linecolor\":\"white\",\"ticks\":\"\"}},\"ternary\":{\"bgcolor\":\"#E5ECF6\",\"aaxis\":{\"gridcolor\":\"white\",\"linecolor\":\"white\",\"ticks\":\"\"},\"baxis\":{\"gridcolor\":\"white\",\"linecolor\":\"white\",\"ticks\":\"\"},\"caxis\":{\"gridcolor\":\"white\",\"linecolor\":\"white\",\"ticks\":\"\"}},\"coloraxis\":{\"colorbar\":{\"outlinewidth\":0,\"ticks\":\"\"}},\"colorscale\":{\"sequential\":[[0.0,\"#0d0887\"],[0.1111111111111111,\"#46039f\"],[0.2222222222222222,\"#7201a8\"],[0.3333333333333333,\"#9c179e\"],[0.4444444444444444,\"#bd3786\"],[0.5555555555555556,\"#d8576b\"],[0.6666666666666666,\"#ed7953\"],[0.7777777777777778,\"#fb9f3a\"],[0.8888888888888888,\"#fdca26\"],[1.0,\"#f0f921\"]],\"sequentialminus\":[[0.0,\"#0d0887\"],[0.1111111111111111,\"#46039f\"],[0.2222222222222222,\"#7201a8\"],[0.3333333333333333,\"#9c179e\"],[0.4444444444444444,\"#bd3786\"],[0.5555555555555556,\"#d8576b\"],[0.6666666666666666,\"#ed7953\"],[0.7777777777777778,\"#fb9f3a\"],[0.8888888888888888,\"#fdca26\"],[1.0,\"#f0f921\"]],\"diverging\":[[0,\"#8e0152\"],[0.1,\"#c51b7d\"],[0.2,\"#de77ae\"],[0.3,\"#f1b6da\"],[0.4,\"#fde0ef\"],[0.5,\"#f7f7f7\"],[0.6,\"#e6f5d0\"],[0.7,\"#b8e186\"],[0.8,\"#7fbc41\"],[0.9,\"#4d9221\"],[1,\"#276419\"]]},\"xaxis\":{\"gridcolor\":\"white\",\"linecolor\":\"white\",\"ticks\":\"\",\"title\":{\"standoff\":15},\"zerolinecolor\":\"white\",\"automargin\":true,\"zerolinewidth\":2},\"yaxis\":{\"gridcolor\":\"white\",\"linecolor\":\"white\",\"ticks\":\"\",\"title\":{\"standoff\":15},\"zerolinecolor\":\"white\",\"automargin\":true,\"zerolinewidth\":2},\"scene\":{\"xaxis\":{\"backgroundcolor\":\"#E5ECF6\",\"gridcolor\":\"white\",\"linecolor\":\"white\",\"showbackground\":true,\"ticks\":\"\",\"zerolinecolor\":\"white\",\"gridwidth\":2},\"yaxis\":{\"backgroundcolor\":\"#E5ECF6\",\"gridcolor\":\"white\",\"linecolor\":\"white\",\"showbackground\":true,\"ticks\":\"\",\"zerolinecolor\":\"white\",\"gridwidth\":2},\"zaxis\":{\"backgroundcolor\":\"#E5ECF6\",\"gridcolor\":\"white\",\"linecolor\":\"white\",\"showbackground\":true,\"ticks\":\"\",\"zerolinecolor\":\"white\",\"gridwidth\":2}},\"shapedefaults\":{\"line\":{\"color\":\"#2a3f5f\"}},\"annotationdefaults\":{\"arrowcolor\":\"#2a3f5f\",\"arrowhead\":0,\"arrowwidth\":1},\"geo\":{\"bgcolor\":\"white\",\"landcolor\":\"#E5ECF6\",\"subunitcolor\":\"white\",\"showland\":true,\"showlakes\":true,\"lakecolor\":\"white\"},\"title\":{\"x\":0.05},\"mapbox\":{\"style\":\"light\"}}},\"xaxis\":{\"anchor\":\"y\",\"domain\":[0.0,1.0],\"title\":{\"text\":\"earnings ($ million)\"}},\"yaxis\":{\"anchor\":\"x\",\"domain\":[0.0,0.8316],\"title\":{\"text\":\"count\"}},\"xaxis2\":{\"anchor\":\"y2\",\"domain\":[0.0,1.0],\"matches\":\"x\",\"showticklabels\":false,\"showgrid\":true},\"yaxis2\":{\"anchor\":\"x2\",\"domain\":[0.8416,1.0],\"matches\":\"y2\",\"showticklabels\":false,\"showline\":false,\"ticks\":\"\",\"showgrid\":false},\"legend\":{\"tracegroupgap\":0},\"margin\":{\"t\":60},\"barmode\":\"relative\"},                        {\"responsive\": true}                    ).then(function(){\n",
              "                            \n",
              "var gd = document.getElementById('8bfcee33-efb3-46f2-a66c-eef2e9643fe2');\n",
              "var x = new MutationObserver(function (mutations, observer) {{\n",
              "        var display = window.getComputedStyle(gd).display;\n",
              "        if (!display || display === 'none') {{\n",
              "            console.log([gd, 'removed!']);\n",
              "            Plotly.purge(gd);\n",
              "            observer.disconnect();\n",
              "        }}\n",
              "}});\n",
              "\n",
              "// Listen for the removal of the full notebook cells\n",
              "var notebookContainer = gd.closest('#notebook-container');\n",
              "if (notebookContainer) {{\n",
              "    x.observe(notebookContainer, {childList: true});\n",
              "}}\n",
              "\n",
              "// Listen for the clearing of the current output cell\n",
              "var outputEl = gd.closest('.output');\n",
              "if (outputEl) {{\n",
              "    x.observe(outputEl, {childList: true});\n",
              "}}\n",
              "\n",
              "                        })                };                            </script>        </div>\n",
              "</body>\n",
              "</html>"
            ]
          },
          "metadata": {}
        }
      ]
    },
    {
      "cell_type": "markdown",
      "source": [
        "##### Вывод\n",
        "\n",
        "По данным понятно, что половина зарабатывает от 24 до 64 млн.\\$\n",
        "Есть несколько людей, которые зарабатывают более 300 млн.\\$  "
      ],
      "metadata": {
        "id": "pQChM9hVsoS4"
      }
    },
    {
      "cell_type": "markdown",
      "source": [
        "## Двумерный анализ"
      ],
      "metadata": {
        "id": "uFgKmpdduGgF"
      }
    },
    {
      "cell_type": "code",
      "source": [
        "df.info()"
      ],
      "metadata": {
        "colab": {
          "base_uri": "https://localhost:8080/"
        },
        "id": "gqRt8dn8uNPl",
        "outputId": "55954ca6-a01b-4d43-c5d3-b2c2a1fa333e"
      },
      "execution_count": 66,
      "outputs": [
        {
          "output_type": "stream",
          "name": "stdout",
          "text": [
            "<class 'pandas.core.frame.DataFrame'>\n",
            "RangeIndex: 301 entries, 0 to 300\n",
            "Data columns (total 8 columns):\n",
            " #   Column                Non-Null Count  Dtype  \n",
            "---  ------                --------------  -----  \n",
            " 0   S.NO                  301 non-null    int64  \n",
            " 1   Name                  301 non-null    object \n",
            " 2   Nationality           301 non-null    object \n",
            " 3   Current Rank          301 non-null    object \n",
            " 4   Previous Year Rank    301 non-null    object \n",
            " 5   Sport                 301 non-null    object \n",
            " 6   Year                  301 non-null    int64  \n",
            " 7   earnings ($ million)  301 non-null    float64\n",
            "dtypes: float64(1), int64(2), object(5)\n",
            "memory usage: 18.9+ KB\n"
          ]
        }
      ]
    },
    {
      "cell_type": "markdown",
      "source": [
        "### Количественный и категориальный переменные"
      ],
      "metadata": {
        "id": "ilClVAqauPvF"
      }
    },
    {
      "cell_type": "markdown",
      "source": [
        "Меня интересует только\n",
        "\n",
        "*   Nationality и earnings\n",
        "*   Current Rank и earnings\n",
        "*   Sport и earnings\n",
        "\n",
        "\n",
        "\n"
      ],
      "metadata": {
        "id": "uI-mis5KuWCT"
      }
    },
    {
      "cell_type": "markdown",
      "source": [
        "#### Nationality и earnings"
      ],
      "metadata": {
        "id": "NWg386gzu2wH"
      }
    },
    {
      "cell_type": "code",
      "source": [
        "plt.figure(figsize=(10, 8))\n",
        "sns.histplot(x = 'earnings ($ million)', hue = 'Nationality', data = df)\n",
        "plt.tight_layout()\n",
        "plt.show()"
      ],
      "metadata": {
        "colab": {
          "base_uri": "https://localhost:8080/",
          "height": 807
        },
        "id": "LNpdQzhBvlEg",
        "outputId": "c35adb5f-b733-4872-8cc9-c99110ac6fba"
      },
      "execution_count": 72,
      "outputs": [
        {
          "output_type": "display_data",
          "data": {
            "text/plain": [
              "<Figure size 1000x800 with 1 Axes>"
            ],
            "image/png": "[encoded data removed]"
          },
          "metadata": {}
        }
      ]
    },
    {
      "cell_type": "markdown",
      "source": [
        "##### Вывод\n",
        "\n",
        "Заработок сильно зависит от страны проживания"
      ],
      "metadata": {
        "id": "VtUnVFI5wEoQ"
      }
    },
    {
      "cell_type": "markdown",
      "source": [
        "#### Current Rank и earnings"
      ],
      "metadata": {
        "id": "aLKUp8wiwOeb"
      }
    },
    {
      "cell_type": "code",
      "source": [
        "plt.figure(figsize=(10, 8))\n",
        "sns.histplot(x = 'earnings ($ million)', hue = 'Current Rank', data = df)\n",
        "plt.tight_layout()\n",
        "plt.show()"
      ],
      "metadata": {
        "colab": {
          "base_uri": "https://localhost:8080/",
          "height": 807
        },
        "id": "bWENQYC_wMch",
        "outputId": "8b3eb849-9037-47e5-8ddc-81ac9742e70b"
      },
      "execution_count": 73,
      "outputs": [
        {
          "output_type": "display_data",
          "data": {
            "text/plain": [
              "<Figure size 1000x800 with 1 Axes>"
            ],
            "image/png": "[encoded data removed]"
          },
          "metadata": {}
        }
      ]
    },
    {
      "cell_type": "code",
      "source": [
        "px.box(df, x = 'Current Rank', y = 'earnings ($ million)', points= 'all')"
      ],
      "metadata": {
        "colab": {
          "base_uri": "https://localhost:8080/",
          "height": 542
        },
        "id": "wma9fNp4wXE9",
        "outputId": "8eae3ae0-70af-4e72-c381-c29e4d489573"
      },
      "execution_count": 75,
      "outputs": [
        {
          "output_type": "display_data",
          "data": {
            "text/html": [
              "<html>\n",
              "<head><meta charset=\"utf-8\" /></head>\n",
              "<body>\n",
              "    <div>            <script src=\"https://cdnjs.cloudflare.com/ajax/libs/mathjax/2.7.5/MathJax.js?config=TeX-AMS-MML_SVG\"></script><script type=\"text/javascript\">if (window.MathJax && window.MathJax.Hub && window.MathJax.Hub.Config) {window.MathJax.Hub.Config({SVG: {font: \"STIX-Web\"}});}</script>                <script type=\"text/javascript\">window.PlotlyConfig = {MathJaxConfig: 'local'};</script>\n",
              "        <script charset=\"utf-8\" src=\"https://cdn.plot.ly/plotly-2.35.2.min.js\"></script>                <div id=\"204d2a4d-6f73-4528-a4d6-cdcdffac593f\" class=\"plotly-graph-div\" style=\"height:525px; width:100%;\"></div>            <script type=\"text/javascript\">                                    window.PLOTLYENV=window.PLOTLYENV || {};                                    if (document.getElementById(\"204d2a4d-6f73-4528-a4d6-cdcdffac593f\")) {                    Plotly.newPlot(                        \"204d2a4d-6f73-4528-a4d6-cdcdffac593f\",                        [{\"alignmentgroup\":\"True\",\"boxpoints\":\"all\",\"hovertemplate\":\"Current Rank=%{x}\\u003cbr\\u003eearnings ($ million)=%{y}\\u003cextra\\u003e\\u003c\\u002fextra\\u003e\",\"legendgroup\":\"\",\"marker\":{\"color\":\"#636efa\"},\"name\":\"\",\"notched\":false,\"offsetgroup\":\"\",\"orientation\":\"v\",\"showlegend\":false,\"x\":[1,2,3,4,5,6,7,8,8,8,1,2,3,4,5,6,7,8,9,10,1,2,3,4,5,6,7,8,9,10,1,2,3,4,5,6,7,8,9,10,1,2,3,4,5,5,7,8,9,10,1,2,3,4,5,6,7,8,9,10,1,2,3,4,5,6,7,8,9,9,1,2,3,4,5,6,7,8,9,10,1,2,3,4,5,6,7,8,9,10,1,2,3,4,5,6,7,8,9,10,1,2,3,4,5,6,7,8,9,10,1,2,3,4,5,5,7,7,9,10,10,1,2,3,4,5,6,7,8,9,10,1,2,3,4,5,6,7,8,9,10,1,2,3,4,5,6,7,8,9,9,1,2,3,4,5,6,7,8,9,9,1,2,3,4,5,6,6,8,9,9,1,2,3,3,5,6,7,8,9,9,1,2,2,2,5,6,6,6,9,10,1,2,3,4,5,6,7,8,9,10,1,2,3,4,5,6,7,8,9,10,1,2,3,4,5,6,7,8,9,10,1,2,3,4,5,6,7,8,9,10,1,2,3,4,5,6,7,8,9,10,1,2,3,4,5,6,7,8,9,10,1,2,3,4,5,6,7,8,9,10,1,2,3,4,5,6,6,8,9,10,1,2,3,4,5,6,7,8,9,10,1,2,3,4,5,6,7,8,9,10,1,2,3,4,5,6,7,8,9,10],\"x0\":\" \",\"xaxis\":\"x\",\"y\":[28.6,26.0,13.0,10.0,9.0,8.6,8.5,8.1,8.1,8.1,60.5,31.5,16.0,14.5,13.0,11.0,10.2,9.3,9.0,8.5,35.9,28.0,22.0,14.5,11.1,11.0,9.5,9.2,9.0,8.5,36.0,25.0,18.5,16.0,15.8,15.2,15.0,12.7,12.6,11.5,30.0,16.7,14.8,13.6,13.5,13.5,12.1,12.0,11.4,11.3,43.9,40.0,22.5,22.2,21.9,18.0,16.0,15.1,15.0,14.5,75.0,52.6,33.0,24.4,16.5,15.5,15.2,15.1,12.9,12.9,78.3,54.3,38.0,35.0,27.0,26.1,25.4,19.1,17.9,17.0,69.0,38.0,29.8,26.8,24.1,21.6,18.5,18.3,18.1,17.2,49.0,47.0,43.5,40.0,35.5,33.0,31.0,29.0,26.5,23.0,59.0,53.0,48.0,37.0,26.0,24.5,24.0,23.0,23.0,21.0,69.0,67.0,36.0,28.0,24.0,24.0,23.0,23.0,22.0,20.0,20.0,78.0,75.0,35.0,30.5,30.0,28.0,26.0,25.5,24.0,23.0,80.3,80.0,42.0,35.0,31.9,29.7,28.2,28.0,26.2,26.1,87.0,60.0,38.0,37.5,33.4,33.0,32.5,28.8,28.0,28.0,90.0,58.0,55.0,47.0,32.0,31.0,30.0,30.0,29.0,29.0,100.0,43.0,42.0,40.0,36.0,33.0,33.0,32.0,31.0,31.0,115.0,50.0,45.0,45.0,44.0,39.0,38.0,37.0,35.0,35.0,110.0,45.0,45.0,45.0,42.0,40.0,40.0,40.0,35.0,34.0,105.0,65.0,48.0,46.0,43.7,43.0,42.8,42.0,39.9,38.3,75.0,53.0,48.0,47.0,46.5,40.0,38.0,35.0,34.0,32.3,85.0,62.0,59.4,53.0,52.7,52.3,47.8,46.0,42.5,42.4,78.1,71.5,61.9,59.8,51.0,49.0,48.7,47.2,44.0,41.3,105.0,80.0,72.3,64.7,61.5,61.2,56.2,53.2,44.5,43.8,300.0,160.0,79.6,73.8,67.0,64.8,54.2,50.8,50.6,49.5,88.0,81.4,77.2,67.8,56.2,55.8,53.1,52.9,52.8,50.0,93.0,86.2,80.0,64.0,60.6,50.0,50.0,47.3,46.6,46.0,285.0,111.0,108.0,99.0,90.0,85.5,77.2,76.9,67.3,59.5,127.0,109.0,105.0,94.0,93.4,89.5,89.3,89.0,79.8,65.4,106.3,105.0,104.0,95.5,88.2,74.4,63.9,62.3,60.5,59.1],\"y0\":\" \",\"yaxis\":\"y\",\"type\":\"box\"}],                        {\"template\":{\"data\":{\"histogram2dcontour\":[{\"type\":\"histogram2dcontour\",\"colorbar\":{\"outlinewidth\":0,\"ticks\":\"\"},\"colorscale\":[[0.0,\"#0d0887\"],[0.1111111111111111,\"#46039f\"],[0.2222222222222222,\"#7201a8\"],[0.3333333333333333,\"#9c179e\"],[0.4444444444444444,\"#bd3786\"],[0.5555555555555556,\"#d8576b\"],[0.6666666666666666,\"#ed7953\"],[0.7777777777777778,\"#fb9f3a\"],[0.8888888888888888,\"#fdca26\"],[1.0,\"#f0f921\"]]}],\"choropleth\":[{\"type\":\"choropleth\",\"colorbar\":{\"outlinewidth\":0,\"ticks\":\"\"}}],\"histogram2d\":[{\"type\":\"histogram2d\",\"colorbar\":{\"outlinewidth\":0,\"ticks\":\"\"},\"colorscale\":[[0.0,\"#0d0887\"],[0.1111111111111111,\"#46039f\"],[0.2222222222222222,\"#7201a8\"],[0.3333333333333333,\"#9c179e\"],[0.4444444444444444,\"#bd3786\"],[0.5555555555555556,\"#d8576b\"],[0.6666666666666666,\"#ed7953\"],[0.7777777777777778,\"#fb9f3a\"],[0.8888888888888888,\"#fdca26\"],[1.0,\"#f0f921\"]]}],\"heatmap\":[{\"type\":\"heatmap\",\"colorbar\":{\"outlinewidth\":0,\"ticks\":\"\"},\"colorscale\":[[0.0,\"#0d0887\"],[0.1111111111111111,\"#46039f\"],[0.2222222222222222,\"#7201a8\"],[0.3333333333333333,\"#9c179e\"],[0.4444444444444444,\"#bd3786\"],[0.5555555555555556,\"#d8576b\"],[0.6666666666666666,\"#ed7953\"],[0.7777777777777778,\"#fb9f3a\"],[0.8888888888888888,\"#fdca26\"],[1.0,\"#f0f921\"]]}],\"heatmapgl\":[{\"type\":\"heatmapgl\",\"colorbar\":{\"outlinewidth\":0,\"ticks\":\"\"},\"colorscale\":[[0.0,\"#0d0887\"],[0.1111111111111111,\"#46039f\"],[0.2222222222222222,\"#7201a8\"],[0.3333333333333333,\"#9c179e\"],[0.4444444444444444,\"#bd3786\"],[0.5555555555555556,\"#d8576b\"],[0.6666666666666666,\"#ed7953\"],[0.7777777777777778,\"#fb9f3a\"],[0.8888888888888888,\"#fdca26\"],[1.0,\"#f0f921\"]]}],\"contourcarpet\":[{\"type\":\"contourcarpet\",\"colorbar\":{\"outlinewidth\":0,\"ticks\":\"\"}}],\"contour\":[{\"type\":\"contour\",\"colorbar\":{\"outlinewidth\":0,\"ticks\":\"\"},\"colorscale\":[[0.0,\"#0d0887\"],[0.1111111111111111,\"#46039f\"],[0.2222222222222222,\"#7201a8\"],[0.3333333333333333,\"#9c179e\"],[0.4444444444444444,\"#bd3786\"],[0.5555555555555556,\"#d8576b\"],[0.6666666666666666,\"#ed7953\"],[0.7777777777777778,\"#fb9f3a\"],[0.8888888888888888,\"#fdca26\"],[1.0,\"#f0f921\"]]}],\"surface\":[{\"type\":\"surface\",\"colorbar\":{\"outlinewidth\":0,\"ticks\":\"\"},\"colorscale\":[[0.0,\"#0d0887\"],[0.1111111111111111,\"#46039f\"],[0.2222222222222222,\"#7201a8\"],[0.3333333333333333,\"#9c179e\"],[0.4444444444444444,\"#bd3786\"],[0.5555555555555556,\"#d8576b\"],[0.6666666666666666,\"#ed7953\"],[0.7777777777777778,\"#fb9f3a\"],[0.8888888888888888,\"#fdca26\"],[1.0,\"#f0f921\"]]}],\"mesh3d\":[{\"type\":\"mesh3d\",\"colorbar\":{\"outlinewidth\":0,\"ticks\":\"\"}}],\"scatter\":[{\"fillpattern\":{\"fillmode\":\"overlay\",\"size\":10,\"solidity\":0.2},\"type\":\"scatter\"}],\"parcoords\":[{\"type\":\"parcoords\",\"line\":{\"colorbar\":{\"outlinewidth\":0,\"ticks\":\"\"}}}],\"scatterpolargl\":[{\"type\":\"scatterpolargl\",\"marker\":{\"colorbar\":{\"outlinewidth\":0,\"ticks\":\"\"}}}],\"bar\":[{\"error_x\":{\"color\":\"#2a3f5f\"},\"error_y\":{\"color\":\"#2a3f5f\"},\"marker\":{\"line\":{\"color\":\"#E5ECF6\",\"width\":0.5},\"pattern\":{\"fillmode\":\"overlay\",\"size\":10,\"solidity\":0.2}},\"type\":\"bar\"}],\"scattergeo\":[{\"type\":\"scattergeo\",\"marker\":{\"colorbar\":{\"outlinewidth\":0,\"ticks\":\"\"}}}],\"scatterpolar\":[{\"type\":\"scatterpolar\",\"marker\":{\"colorbar\":{\"outlinewidth\":0,\"ticks\":\"\"}}}],\"histogram\":[{\"marker\":{\"pattern\":{\"fillmode\":\"overlay\",\"size\":10,\"solidity\":0.2}},\"type\":\"histogram\"}],\"scattergl\":[{\"type\":\"scattergl\",\"marker\":{\"colorbar\":{\"outlinewidth\":0,\"ticks\":\"\"}}}],\"scatter3d\":[{\"type\":\"scatter3d\",\"line\":{\"colorbar\":{\"outlinewidth\":0,\"ticks\":\"\"}},\"marker\":{\"colorbar\":{\"outlinewidth\":0,\"ticks\":\"\"}}}],\"scattermapbox\":[{\"type\":\"scattermapbox\",\"marker\":{\"colorbar\":{\"outlinewidth\":0,\"ticks\":\"\"}}}],\"scatterternary\":[{\"type\":\"scatterternary\",\"marker\":{\"colorbar\":{\"outlinewidth\":0,\"ticks\":\"\"}}}],\"scattercarpet\":[{\"type\":\"scattercarpet\",\"marker\":{\"colorbar\":{\"outlinewidth\":0,\"ticks\":\"\"}}}],\"carpet\":[{\"aaxis\":{\"endlinecolor\":\"#2a3f5f\",\"gridcolor\":\"white\",\"linecolor\":\"white\",\"minorgridcolor\":\"white\",\"startlinecolor\":\"#2a3f5f\"},\"baxis\":{\"endlinecolor\":\"#2a3f5f\",\"gridcolor\":\"white\",\"linecolor\":\"white\",\"minorgridcolor\":\"white\",\"startlinecolor\":\"#2a3f5f\"},\"type\":\"carpet\"}],\"table\":[{\"cells\":{\"fill\":{\"color\":\"#EBF0F8\"},\"line\":{\"color\":\"white\"}},\"header\":{\"fill\":{\"color\":\"#C8D4E3\"},\"line\":{\"color\":\"white\"}},\"type\":\"table\"}],\"barpolar\":[{\"marker\":{\"line\":{\"color\":\"#E5ECF6\",\"width\":0.5},\"pattern\":{\"fillmode\":\"overlay\",\"size\":10,\"solidity\":0.2}},\"type\":\"barpolar\"}],\"pie\":[{\"automargin\":true,\"type\":\"pie\"}]},\"layout\":{\"autotypenumbers\":\"strict\",\"colorway\":[\"#636efa\",\"#EF553B\",\"#00cc96\",\"#ab63fa\",\"#FFA15A\",\"#19d3f3\",\"#FF6692\",\"#B6E880\",\"#FF97FF\",\"#FECB52\"],\"font\":{\"color\":\"#2a3f5f\"},\"hovermode\":\"closest\",\"hoverlabel\":{\"align\":\"left\"},\"paper_bgcolor\":\"white\",\"plot_bgcolor\":\"#E5ECF6\",\"polar\":{\"bgcolor\":\"#E5ECF6\",\"angularaxis\":{\"gridcolor\":\"white\",\"linecolor\":\"white\",\"ticks\":\"\"},\"radialaxis\":{\"gridcolor\":\"white\",\"linecolor\":\"white\",\"ticks\":\"\"}},\"ternary\":{\"bgcolor\":\"#E5ECF6\",\"aaxis\":{\"gridcolor\":\"white\",\"linecolor\":\"white\",\"ticks\":\"\"},\"baxis\":{\"gridcolor\":\"white\",\"linecolor\":\"white\",\"ticks\":\"\"},\"caxis\":{\"gridcolor\":\"white\",\"linecolor\":\"white\",\"ticks\":\"\"}},\"coloraxis\":{\"colorbar\":{\"outlinewidth\":0,\"ticks\":\"\"}},\"colorscale\":{\"sequential\":[[0.0,\"#0d0887\"],[0.1111111111111111,\"#46039f\"],[0.2222222222222222,\"#7201a8\"],[0.3333333333333333,\"#9c179e\"],[0.4444444444444444,\"#bd3786\"],[0.5555555555555556,\"#d8576b\"],[0.6666666666666666,\"#ed7953\"],[0.7777777777777778,\"#fb9f3a\"],[0.8888888888888888,\"#fdca26\"],[1.0,\"#f0f921\"]],\"sequentialminus\":[[0.0,\"#0d0887\"],[0.1111111111111111,\"#46039f\"],[0.2222222222222222,\"#7201a8\"],[0.3333333333333333,\"#9c179e\"],[0.4444444444444444,\"#bd3786\"],[0.5555555555555556,\"#d8576b\"],[0.6666666666666666,\"#ed7953\"],[0.7777777777777778,\"#fb9f3a\"],[0.8888888888888888,\"#fdca26\"],[1.0,\"#f0f921\"]],\"diverging\":[[0,\"#8e0152\"],[0.1,\"#c51b7d\"],[0.2,\"#de77ae\"],[0.3,\"#f1b6da\"],[0.4,\"#fde0ef\"],[0.5,\"#f7f7f7\"],[0.6,\"#e6f5d0\"],[0.7,\"#b8e186\"],[0.8,\"#7fbc41\"],[0.9,\"#4d9221\"],[1,\"#276419\"]]},\"xaxis\":{\"gridcolor\":\"white\",\"linecolor\":\"white\",\"ticks\":\"\",\"title\":{\"standoff\":15},\"zerolinecolor\":\"white\",\"automargin\":true,\"zerolinewidth\":2},\"yaxis\":{\"gridcolor\":\"white\",\"linecolor\":\"white\",\"ticks\":\"\",\"title\":{\"standoff\":15},\"zerolinecolor\":\"white\",\"automargin\":true,\"zerolinewidth\":2},\"scene\":{\"xaxis\":{\"backgroundcolor\":\"#E5ECF6\",\"gridcolor\":\"white\",\"linecolor\":\"white\",\"showbackground\":true,\"ticks\":\"\",\"zerolinecolor\":\"white\",\"gridwidth\":2},\"yaxis\":{\"backgroundcolor\":\"#E5ECF6\",\"gridcolor\":\"white\",\"linecolor\":\"white\",\"showbackground\":true,\"ticks\":\"\",\"zerolinecolor\":\"white\",\"gridwidth\":2},\"zaxis\":{\"backgroundcolor\":\"#E5ECF6\",\"gridcolor\":\"white\",\"linecolor\":\"white\",\"showbackground\":true,\"ticks\":\"\",\"zerolinecolor\":\"white\",\"gridwidth\":2}},\"shapedefaults\":{\"line\":{\"color\":\"#2a3f5f\"}},\"annotationdefaults\":{\"arrowcolor\":\"#2a3f5f\",\"arrowhead\":0,\"arrowwidth\":1},\"geo\":{\"bgcolor\":\"white\",\"landcolor\":\"#E5ECF6\",\"subunitcolor\":\"white\",\"showland\":true,\"showlakes\":true,\"lakecolor\":\"white\"},\"title\":{\"x\":0.05},\"mapbox\":{\"style\":\"light\"}}},\"xaxis\":{\"anchor\":\"y\",\"domain\":[0.0,1.0],\"title\":{\"text\":\"Current Rank\"}},\"yaxis\":{\"anchor\":\"x\",\"domain\":[0.0,1.0],\"title\":{\"text\":\"earnings ($ million)\"}},\"legend\":{\"tracegroupgap\":0},\"margin\":{\"t\":60},\"boxmode\":\"group\"},                        {\"responsive\": true}                    ).then(function(){\n",
              "                            \n",
              "var gd = document.getElementById('204d2a4d-6f73-4528-a4d6-cdcdffac593f');\n",
              "var x = new MutationObserver(function (mutations, observer) {{\n",
              "        var display = window.getComputedStyle(gd).display;\n",
              "        if (!display || display === 'none') {{\n",
              "            console.log([gd, 'removed!']);\n",
              "            Plotly.purge(gd);\n",
              "            observer.disconnect();\n",
              "        }}\n",
              "}});\n",
              "\n",
              "// Listen for the removal of the full notebook cells\n",
              "var notebookContainer = gd.closest('#notebook-container');\n",
              "if (notebookContainer) {{\n",
              "    x.observe(notebookContainer, {childList: true});\n",
              "}}\n",
              "\n",
              "// Listen for the clearing of the current output cell\n",
              "var outputEl = gd.closest('.output');\n",
              "if (outputEl) {{\n",
              "    x.observe(outputEl, {childList: true});\n",
              "}}\n",
              "\n",
              "                        })                };                            </script>        </div>\n",
              "</body>\n",
              "</html>"
            ]
          },
          "metadata": {}
        }
      ]
    },
    {
      "cell_type": "code",
      "source": [
        "# px.histogram(df, x = 'earnings ($ million)', color = 'Current Rank', marginal= 'box')"
      ],
      "metadata": {
        "id": "EXnxEN8ZwUSj"
      },
      "execution_count": 77,
      "outputs": []
    },
    {
      "cell_type": "markdown",
      "source": [
        "##### Вывод\n",
        "\n",
        "Первые ранги зарабатывют больше"
      ],
      "metadata": {
        "id": "MExzXTDFxH6N"
      }
    },
    {
      "cell_type": "markdown",
      "source": [
        "#### Sport и earnings"
      ],
      "metadata": {
        "id": "ZlCgNozwxTEQ"
      }
    },
    {
      "cell_type": "code",
      "source": [
        "plt.figure(figsize=(10, 8))\n",
        "sns.histplot(x = 'earnings ($ million)', hue = 'Sport', data = df)\n",
        "plt.tight_layout()\n",
        "plt.show()"
      ],
      "metadata": {
        "colab": {
          "base_uri": "https://localhost:8080/",
          "height": 783
        },
        "id": "axyipAAyxVS3",
        "outputId": "07a7e4eb-0fac-4052-ddcc-af14d5e10d09"
      },
      "execution_count": 78,
      "outputs": [
        {
          "output_type": "display_data",
          "data": {
            "text/plain": [
              "<Figure size 1000x800 with 1 Axes>"
            ],
            "image/png": "[encoded data removed]"
          },
          "metadata": {}
        }
      ]
    },
    {
      "cell_type": "code",
      "source": [
        "px.box(df, x = 'Sport', y = 'earnings ($ million)', points= 'all')"
      ],
      "metadata": {
        "colab": {
          "base_uri": "https://localhost:8080/",
          "height": 542
        },
        "id": "8r-O5_0gxeqO",
        "outputId": "0bd52188-97b8-443b-d905-89c07fe80d0e"
      },
      "execution_count": 79,
      "outputs": [
        {
          "output_type": "display_data",
          "data": {
            "text/html": [
              "<html>\n",
              "<head><meta charset=\"utf-8\" /></head>\n",
              "<body>\n",
              "    <div>            <script src=\"https://cdnjs.cloudflare.com/ajax/libs/mathjax/2.7.5/MathJax.js?config=TeX-AMS-MML_SVG\"></script><script type=\"text/javascript\">if (window.MathJax && window.MathJax.Hub && window.MathJax.Hub.Config) {window.MathJax.Hub.Config({SVG: {font: \"STIX-Web\"}});}</script>                <script type=\"text/javascript\">window.PlotlyConfig = {MathJaxConfig: 'local'};</script>\n",
              "        <script charset=\"utf-8\" src=\"https://cdn.plot.ly/plotly-2.35.2.min.js\"></script>                <div id=\"30bca726-3858-431d-913f-244fe58a1e68\" class=\"plotly-graph-div\" style=\"height:525px; width:100%;\"></div>            <script type=\"text/javascript\">                                    window.PLOTLYENV=window.PLOTLYENV || {};                                    if (document.getElementById(\"30bca726-3858-431d-913f-244fe58a1e68\")) {                    Plotly.newPlot(                        \"30bca726-3858-431d-913f-244fe58a1e68\",                        [{\"alignmentgroup\":\"True\",\"boxpoints\":\"all\",\"hovertemplate\":\"Sport=%{x}\\u003cbr\\u003eearnings ($ million)=%{y}\\u003cextra\\u003e\\u003c\\u002fextra\\u003e\",\"legendgroup\":\"\",\"marker\":{\"color\":\"#636efa\"},\"name\":\"\",\"notched\":false,\"offsetgroup\":\"\",\"orientation\":\"v\",\"showlegend\":false,\"x\":[\"boxing\",\"boxing\",\"boxing\",\"auto racing\",\"auto racing\",\"golf\",\"golf\",\"basketball\",\"golf\",\"boxing\",\"boxing\",\"boxing\",\"basketball\",\"boxing\",\"auto racing\",\"auto racing\",\"boxing\",\"golf\",\"auto racing\",\"golf\",\"Basketball\",\"Boxing\",\"Auto Racing\",\"Auto Racing\",\"Golf\",\"Tennis\",\"NFL\",\"Golf\",\"Tennis\",\"Tennis\",\"Basketball\",\"Boxing\",\"Auto racing\",\"Auto Racing\",\"Boxing\",\"NBA\",\"Boxing\",\"Baseball\",\"Tennis\",\"NFL\",\"Basketball\",\"Basketball\",\"Golf\",\"Golf\",\"Auto Racing\",\"Ice Hockey\",\"Boxing\",\"Boxing\",\"Tennis\",\"Auto Racing\",\"basketball\",\"boxing\",\"American Football \\u002f Baseball\",\"boxing\",\"basketball\",\"boxing\",\"tennis\",\"golf\",\"auto racing\",\"ice hockey\",\"Boxing\",\"Basketball\",\"F1 Motorsports\",\"Basketball\",\"NFL\",\"Boxing\",\"Tennis\",\"Golf\",\"Basketball\",\"Basketball\",\"Basketball\",\"Boxing\",\"Boxing\",\"F1 Motorsports\",\"Boxing\",\"Golf\",\"Basketball\",\"NASCAR\",\"Hockey\",\"Basketball\",\"Basketball\",\"F1 Motorsports\",\"Ice Hockey\",\"Golf\",\"NASCAR\",\"Basketball\",\"Boxing\",\"Basketball\",\"Golf\",\"Baseball\",\"Auto Racing\",\"Golf\",\"Boxing\",\"Basketball\",\"Boxing\",\"Boxing\",\"Basketball\",\"Boxing\",\"Auto Racing\",\"Basketball\",\"Auto Racing\",\"Golf\",\"Boxing\",\"Basketball\",\"Basketball\",\"Auto Racing (Nascar)\",\"Basketball\",\"Boxing\",\"Boxing\",\"Basketball\",\"Golf\",\"F1 Motorsports\",\"Basketball\",\"Boxing\",\"Basketball\",\"Basketball\",\"Boxing\",\"Basketball\",\"Basketball\",\"Auto Racing\",\"Auto Racing (Nascar)\",\"Golf\",\"F1 Motorsports\",\"Basketball\",\"Basketball\",\"Boxing\",\"Basketball\",\"Baseball\",\"Basketball\",\"Tennis\",\"Auto Racing\",\"golf\",\"F1 racing\",\"American Football\",\"basketball\",\"basketball\",\"basketball\",\"tennis\",\"soccer\",\"baseball\",\"basketball\",\"golf\",\"F1 racing\",\"boxing\",\"American Football\",\"basketball\",\"basketball\",\"soccer\",\"basketball\",\"cycling\",\"motorcycle gp\",\"golf\",\"F1 racing\",\"boxing\",\"golf\",\"basketball\",\"basketball\",\"basketball\",\"motorcycle gp\",\"baseball\",\"American Football\",\"golf\",\"boxing\",\"golf\",\"F1 racing\",\"F1 racing\",\"soccer\",\"basketball\",\"basketball\",\"soccer\",\"basketball\",\"golf\",\"soccer\",\"basketball\",\"golf\",\"F1 racing\",\"basketball\",\"basketball\",\"soccer\",\"motorcycle gp\",\"tennis\",\"golf\",\"basketball\",\"basketball\",\"F1 racing\",\"soccer\",\"basketball\",\"golf\",\"boxing\",\"motorcycle gp\",\"NASCAR\",\"golf\",\"boxing\",\"basketball\",\"golf\",\"soccer\",\"tennis\",\"basketball\",\"boxing\",\"American Football\",\"American Football\",\"golf\",\"basketball\",\"basketball\",\"tennis\",\"golf\",\"soccer\",\"soccer\",\"baseball\",\"F1 racing\",\"soccer\",\"Boxing\",\"Boxing\",\"Golf\",\"Basketball\",\"Tennis\",\"Basketball\",\"Golf\",\"Soccer\",\"Soccer\",\"American Football\",\"Golf\",\"Tennis\",\"Basketball\",\"Basketball\",\"American Football\",\"American Football\",\"Golf\",\"Soccer\",\"Soccer\",\"Soccer\",\"Boxing\",\"Soccer\",\"Basketball\",\"Soccer\",\"Basketball\",\"Golf\",\"Tennis\",\"Golf\",\"Tennis\",\"American Football\",\"Boxing\",\"Boxing\",\"Soccer\",\"Soccer\",\"Tennis\",\"Basketball\",\"Basketball\",\"Golf\",\"Golf\",\"Basketball\",\"Soccer\",\"Soccer\",\"Basketball\",\"Tennis\",\"Basketball\",\"Tennis\",\"American Football\",\"Golf\",\"Golf\",\"Basketball\",\"Soccer\",\"Basketball\",\"Soccer\",\"Tennis\",\"Basketball\",\"American Football\",\"Golf\",\"Basketball\",\"Basketball\",\"auto racing\",\"Boxing\",\"Soccer\",\"Soccer\",\"MMA\",\"Soccer\",\"Basketball\",\"Tennis\",\"Basketball\",\"American Football\",\"American Football\",\"Soccer\",\"Soccer\",\"Soccer\",\"Boxing\",\"Tennis\",\"American Football\",\"American Football\",\"Basketball\",\"Basketball\",\"Basketball\",\"Tennis\",\"Soccer\",\"Soccer\",\"Soccer\",\"Basketball\",\"Basketball\",\"Basketball\",\"Golf\",\"American Football\",\"American Football\"],\"x0\":\" \",\"xaxis\":\"x\",\"y\":[28.6,26.0,13.0,10.0,9.0,8.6,8.5,8.1,8.1,8.1,60.5,31.5,16.0,14.5,13.0,11.0,10.2,9.3,9.0,8.5,35.9,28.0,22.0,14.5,11.1,11.0,9.5,9.2,9.0,8.5,36.0,25.0,18.5,16.0,15.8,15.2,15.0,12.7,12.6,11.5,30.0,16.7,14.8,13.6,13.5,13.5,12.1,12.0,11.4,11.3,43.9,40.0,22.5,22.2,21.9,18.0,16.0,15.1,15.0,14.5,75.0,52.6,33.0,24.4,16.5,15.5,15.2,15.1,12.9,12.9,78.3,54.3,38.0,35.0,27.0,26.1,25.4,19.1,17.9,17.0,69.0,38.0,29.8,26.8,24.1,21.6,18.5,18.3,18.1,17.2,49.0,47.0,43.5,40.0,35.5,33.0,31.0,29.0,26.5,23.0,59.0,53.0,48.0,37.0,26.0,24.5,24.0,23.0,23.0,21.0,69.0,67.0,36.0,28.0,24.0,24.0,23.0,23.0,22.0,20.0,20.0,78.0,75.0,35.0,30.5,30.0,28.0,26.0,25.5,24.0,23.0,80.3,80.0,42.0,35.0,31.9,29.7,28.2,28.0,26.2,26.1,87.0,60.0,38.0,37.5,33.4,33.0,32.5,28.8,28.0,28.0,90.0,58.0,55.0,47.0,32.0,31.0,30.0,30.0,29.0,29.0,100.0,43.0,42.0,40.0,36.0,33.0,33.0,32.0,31.0,31.0,115.0,50.0,45.0,45.0,44.0,39.0,38.0,37.0,35.0,35.0,110.0,45.0,45.0,45.0,42.0,40.0,40.0,40.0,35.0,34.0,105.0,65.0,48.0,46.0,43.7,43.0,42.8,42.0,39.9,38.3,75.0,53.0,48.0,47.0,46.5,40.0,38.0,35.0,34.0,32.3,85.0,62.0,59.4,53.0,52.7,52.3,47.8,46.0,42.5,42.4,78.1,71.5,61.9,59.8,51.0,49.0,48.7,47.2,44.0,41.3,105.0,80.0,72.3,64.7,61.5,61.2,56.2,53.2,44.5,43.8,300.0,160.0,79.6,73.8,67.0,64.8,54.2,50.8,50.6,49.5,88.0,81.4,77.2,67.8,56.2,55.8,53.1,52.9,52.8,50.0,93.0,86.2,80.0,64.0,60.6,50.0,50.0,47.3,46.6,46.0,285.0,111.0,108.0,99.0,90.0,85.5,77.2,76.9,67.3,59.5,127.0,109.0,105.0,94.0,93.4,89.5,89.3,89.0,79.8,65.4,106.3,105.0,104.0,95.5,88.2,74.4,63.9,62.3,60.5,59.1],\"y0\":\" \",\"yaxis\":\"y\",\"type\":\"box\"}],                        {\"template\":{\"data\":{\"histogram2dcontour\":[{\"type\":\"histogram2dcontour\",\"colorbar\":{\"outlinewidth\":0,\"ticks\":\"\"},\"colorscale\":[[0.0,\"#0d0887\"],[0.1111111111111111,\"#46039f\"],[0.2222222222222222,\"#7201a8\"],[0.3333333333333333,\"#9c179e\"],[0.4444444444444444,\"#bd3786\"],[0.5555555555555556,\"#d8576b\"],[0.6666666666666666,\"#ed7953\"],[0.7777777777777778,\"#fb9f3a\"],[0.8888888888888888,\"#fdca26\"],[1.0,\"#f0f921\"]]}],\"choropleth\":[{\"type\":\"choropleth\",\"colorbar\":{\"outlinewidth\":0,\"ticks\":\"\"}}],\"histogram2d\":[{\"type\":\"histogram2d\",\"colorbar\":{\"outlinewidth\":0,\"ticks\":\"\"},\"colorscale\":[[0.0,\"#0d0887\"],[0.1111111111111111,\"#46039f\"],[0.2222222222222222,\"#7201a8\"],[0.3333333333333333,\"#9c179e\"],[0.4444444444444444,\"#bd3786\"],[0.5555555555555556,\"#d8576b\"],[0.6666666666666666,\"#ed7953\"],[0.7777777777777778,\"#fb9f3a\"],[0.8888888888888888,\"#fdca26\"],[1.0,\"#f0f921\"]]}],\"heatmap\":[{\"type\":\"heatmap\",\"colorbar\":{\"outlinewidth\":0,\"ticks\":\"\"},\"colorscale\":[[0.0,\"#0d0887\"],[0.1111111111111111,\"#46039f\"],[0.2222222222222222,\"#7201a8\"],[0.3333333333333333,\"#9c179e\"],[0.4444444444444444,\"#bd3786\"],[0.5555555555555556,\"#d8576b\"],[0.6666666666666666,\"#ed7953\"],[0.7777777777777778,\"#fb9f3a\"],[0.8888888888888888,\"#fdca26\"],[1.0,\"#f0f921\"]]}],\"heatmapgl\":[{\"type\":\"heatmapgl\",\"colorbar\":{\"outlinewidth\":0,\"ticks\":\"\"},\"colorscale\":[[0.0,\"#0d0887\"],[0.1111111111111111,\"#46039f\"],[0.2222222222222222,\"#7201a8\"],[0.3333333333333333,\"#9c179e\"],[0.4444444444444444,\"#bd3786\"],[0.5555555555555556,\"#d8576b\"],[0.6666666666666666,\"#ed7953\"],[0.7777777777777778,\"#fb9f3a\"],[0.8888888888888888,\"#fdca26\"],[1.0,\"#f0f921\"]]}],\"contourcarpet\":[{\"type\":\"contourcarpet\",\"colorbar\":{\"outlinewidth\":0,\"ticks\":\"\"}}],\"contour\":[{\"type\":\"contour\",\"colorbar\":{\"outlinewidth\":0,\"ticks\":\"\"},\"colorscale\":[[0.0,\"#0d0887\"],[0.1111111111111111,\"#46039f\"],[0.2222222222222222,\"#7201a8\"],[0.3333333333333333,\"#9c179e\"],[0.4444444444444444,\"#bd3786\"],[0.5555555555555556,\"#d8576b\"],[0.6666666666666666,\"#ed7953\"],[0.7777777777777778,\"#fb9f3a\"],[0.8888888888888888,\"#fdca26\"],[1.0,\"#f0f921\"]]}],\"surface\":[{\"type\":\"surface\",\"colorbar\":{\"outlinewidth\":0,\"ticks\":\"\"},\"colorscale\":[[0.0,\"#0d0887\"],[0.1111111111111111,\"#46039f\"],[0.2222222222222222,\"#7201a8\"],[0.3333333333333333,\"#9c179e\"],[0.4444444444444444,\"#bd3786\"],[0.5555555555555556,\"#d8576b\"],[0.6666666666666666,\"#ed7953\"],[0.7777777777777778,\"#fb9f3a\"],[0.8888888888888888,\"#fdca26\"],[1.0,\"#f0f921\"]]}],\"mesh3d\":[{\"type\":\"mesh3d\",\"colorbar\":{\"outlinewidth\":0,\"ticks\":\"\"}}],\"scatter\":[{\"fillpattern\":{\"fillmode\":\"overlay\",\"size\":10,\"solidity\":0.2},\"type\":\"scatter\"}],\"parcoords\":[{\"type\":\"parcoords\",\"line\":{\"colorbar\":{\"outlinewidth\":0,\"ticks\":\"\"}}}],\"scatterpolargl\":[{\"type\":\"scatterpolargl\",\"marker\":{\"colorbar\":{\"outlinewidth\":0,\"ticks\":\"\"}}}],\"bar\":[{\"error_x\":{\"color\":\"#2a3f5f\"},\"error_y\":{\"color\":\"#2a3f5f\"},\"marker\":{\"line\":{\"color\":\"#E5ECF6\",\"width\":0.5},\"pattern\":{\"fillmode\":\"overlay\",\"size\":10,\"solidity\":0.2}},\"type\":\"bar\"}],\"scattergeo\":[{\"type\":\"scattergeo\",\"marker\":{\"colorbar\":{\"outlinewidth\":0,\"ticks\":\"\"}}}],\"scatterpolar\":[{\"type\":\"scatterpolar\",\"marker\":{\"colorbar\":{\"outlinewidth\":0,\"ticks\":\"\"}}}],\"histogram\":[{\"marker\":{\"pattern\":{\"fillmode\":\"overlay\",\"size\":10,\"solidity\":0.2}},\"type\":\"histogram\"}],\"scattergl\":[{\"type\":\"scattergl\",\"marker\":{\"colorbar\":{\"outlinewidth\":0,\"ticks\":\"\"}}}],\"scatter3d\":[{\"type\":\"scatter3d\",\"line\":{\"colorbar\":{\"outlinewidth\":0,\"ticks\":\"\"}},\"marker\":{\"colorbar\":{\"outlinewidth\":0,\"ticks\":\"\"}}}],\"scattermapbox\":[{\"type\":\"scattermapbox\",\"marker\":{\"colorbar\":{\"outlinewidth\":0,\"ticks\":\"\"}}}],\"scatterternary\":[{\"type\":\"scatterternary\",\"marker\":{\"colorbar\":{\"outlinewidth\":0,\"ticks\":\"\"}}}],\"scattercarpet\":[{\"type\":\"scattercarpet\",\"marker\":{\"colorbar\":{\"outlinewidth\":0,\"ticks\":\"\"}}}],\"carpet\":[{\"aaxis\":{\"endlinecolor\":\"#2a3f5f\",\"gridcolor\":\"white\",\"linecolor\":\"white\",\"minorgridcolor\":\"white\",\"startlinecolor\":\"#2a3f5f\"},\"baxis\":{\"endlinecolor\":\"#2a3f5f\",\"gridcolor\":\"white\",\"linecolor\":\"white\",\"minorgridcolor\":\"white\",\"startlinecolor\":\"#2a3f5f\"},\"type\":\"carpet\"}],\"table\":[{\"cells\":{\"fill\":{\"color\":\"#EBF0F8\"},\"line\":{\"color\":\"white\"}},\"header\":{\"fill\":{\"color\":\"#C8D4E3\"},\"line\":{\"color\":\"white\"}},\"type\":\"table\"}],\"barpolar\":[{\"marker\":{\"line\":{\"color\":\"#E5ECF6\",\"width\":0.5},\"pattern\":{\"fillmode\":\"overlay\",\"size\":10,\"solidity\":0.2}},\"type\":\"barpolar\"}],\"pie\":[{\"automargin\":true,\"type\":\"pie\"}]},\"layout\":{\"autotypenumbers\":\"strict\",\"colorway\":[\"#636efa\",\"#EF553B\",\"#00cc96\",\"#ab63fa\",\"#FFA15A\",\"#19d3f3\",\"#FF6692\",\"#B6E880\",\"#FF97FF\",\"#FECB52\"],\"font\":{\"color\":\"#2a3f5f\"},\"hovermode\":\"closest\",\"hoverlabel\":{\"align\":\"left\"},\"paper_bgcolor\":\"white\",\"plot_bgcolor\":\"#E5ECF6\",\"polar\":{\"bgcolor\":\"#E5ECF6\",\"angularaxis\":{\"gridcolor\":\"white\",\"linecolor\":\"white\",\"ticks\":\"\"},\"radialaxis\":{\"gridcolor\":\"white\",\"linecolor\":\"white\",\"ticks\":\"\"}},\"ternary\":{\"bgcolor\":\"#E5ECF6\",\"aaxis\":{\"gridcolor\":\"white\",\"linecolor\":\"white\",\"ticks\":\"\"},\"baxis\":{\"gridcolor\":\"white\",\"linecolor\":\"white\",\"ticks\":\"\"},\"caxis\":{\"gridcolor\":\"white\",\"linecolor\":\"white\",\"ticks\":\"\"}},\"coloraxis\":{\"colorbar\":{\"outlinewidth\":0,\"ticks\":\"\"}},\"colorscale\":{\"sequential\":[[0.0,\"#0d0887\"],[0.1111111111111111,\"#46039f\"],[0.2222222222222222,\"#7201a8\"],[0.3333333333333333,\"#9c179e\"],[0.4444444444444444,\"#bd3786\"],[0.5555555555555556,\"#d8576b\"],[0.6666666666666666,\"#ed7953\"],[0.7777777777777778,\"#fb9f3a\"],[0.8888888888888888,\"#fdca26\"],[1.0,\"#f0f921\"]],\"sequentialminus\":[[0.0,\"#0d0887\"],[0.1111111111111111,\"#46039f\"],[0.2222222222222222,\"#7201a8\"],[0.3333333333333333,\"#9c179e\"],[0.4444444444444444,\"#bd3786\"],[0.5555555555555556,\"#d8576b\"],[0.6666666666666666,\"#ed7953\"],[0.7777777777777778,\"#fb9f3a\"],[0.8888888888888888,\"#fdca26\"],[1.0,\"#f0f921\"]],\"diverging\":[[0,\"#8e0152\"],[0.1,\"#c51b7d\"],[0.2,\"#de77ae\"],[0.3,\"#f1b6da\"],[0.4,\"#fde0ef\"],[0.5,\"#f7f7f7\"],[0.6,\"#e6f5d0\"],[0.7,\"#b8e186\"],[0.8,\"#7fbc41\"],[0.9,\"#4d9221\"],[1,\"#276419\"]]},\"xaxis\":{\"gridcolor\":\"white\",\"linecolor\":\"white\",\"ticks\":\"\",\"title\":{\"standoff\":15},\"zerolinecolor\":\"white\",\"automargin\":true,\"zerolinewidth\":2},\"yaxis\":{\"gridcolor\":\"white\",\"linecolor\":\"white\",\"ticks\":\"\",\"title\":{\"standoff\":15},\"zerolinecolor\":\"white\",\"automargin\":true,\"zerolinewidth\":2},\"scene\":{\"xaxis\":{\"backgroundcolor\":\"#E5ECF6\",\"gridcolor\":\"white\",\"linecolor\":\"white\",\"showbackground\":true,\"ticks\":\"\",\"zerolinecolor\":\"white\",\"gridwidth\":2},\"yaxis\":{\"backgroundcolor\":\"#E5ECF6\",\"gridcolor\":\"white\",\"linecolor\":\"white\",\"showbackground\":true,\"ticks\":\"\",\"zerolinecolor\":\"white\",\"gridwidth\":2},\"zaxis\":{\"backgroundcolor\":\"#E5ECF6\",\"gridcolor\":\"white\",\"linecolor\":\"white\",\"showbackground\":true,\"ticks\":\"\",\"zerolinecolor\":\"white\",\"gridwidth\":2}},\"shapedefaults\":{\"line\":{\"color\":\"#2a3f5f\"}},\"annotationdefaults\":{\"arrowcolor\":\"#2a3f5f\",\"arrowhead\":0,\"arrowwidth\":1},\"geo\":{\"bgcolor\":\"white\",\"landcolor\":\"#E5ECF6\",\"subunitcolor\":\"white\",\"showland\":true,\"showlakes\":true,\"lakecolor\":\"white\"},\"title\":{\"x\":0.05},\"mapbox\":{\"style\":\"light\"}}},\"xaxis\":{\"anchor\":\"y\",\"domain\":[0.0,1.0],\"title\":{\"text\":\"Sport\"}},\"yaxis\":{\"anchor\":\"x\",\"domain\":[0.0,1.0],\"title\":{\"text\":\"earnings ($ million)\"}},\"legend\":{\"tracegroupgap\":0},\"margin\":{\"t\":60},\"boxmode\":\"group\"},                        {\"responsive\": true}                    ).then(function(){\n",
              "                            \n",
              "var gd = document.getElementById('30bca726-3858-431d-913f-244fe58a1e68');\n",
              "var x = new MutationObserver(function (mutations, observer) {{\n",
              "        var display = window.getComputedStyle(gd).display;\n",
              "        if (!display || display === 'none') {{\n",
              "            console.log([gd, 'removed!']);\n",
              "            Plotly.purge(gd);\n",
              "            observer.disconnect();\n",
              "        }}\n",
              "}});\n",
              "\n",
              "// Listen for the removal of the full notebook cells\n",
              "var notebookContainer = gd.closest('#notebook-container');\n",
              "if (notebookContainer) {{\n",
              "    x.observe(notebookContainer, {childList: true});\n",
              "}}\n",
              "\n",
              "// Listen for the clearing of the current output cell\n",
              "var outputEl = gd.closest('.output');\n",
              "if (outputEl) {{\n",
              "    x.observe(outputEl, {childList: true});\n",
              "}}\n",
              "\n",
              "                        })                };                            </script>        </div>\n",
              "</body>\n",
              "</html>"
            ]
          },
          "metadata": {}
        }
      ]
    },
    {
      "cell_type": "markdown",
      "source": [
        "##### Вывод\n",
        "\n",
        "По графику понятно, что больше зарабатыют в боксе"
      ],
      "metadata": {
        "id": "N5DTG4DqxiQm"
      }
    },
    {
      "cell_type": "markdown",
      "source": [
        "### Две количественные переменные"
      ],
      "metadata": {
        "id": "tg7CpF_OxugT"
      }
    },
    {
      "cell_type": "code",
      "source": [
        "df.info()"
      ],
      "metadata": {
        "colab": {
          "base_uri": "https://localhost:8080/"
        },
        "id": "iRtz8lVux08i",
        "outputId": "fe0512fb-cd7e-4488-c90b-fea5b3896327"
      },
      "execution_count": 80,
      "outputs": [
        {
          "output_type": "stream",
          "name": "stdout",
          "text": [
            "<class 'pandas.core.frame.DataFrame'>\n",
            "RangeIndex: 301 entries, 0 to 300\n",
            "Data columns (total 8 columns):\n",
            " #   Column                Non-Null Count  Dtype  \n",
            "---  ------                --------------  -----  \n",
            " 0   S.NO                  301 non-null    int64  \n",
            " 1   Name                  301 non-null    object \n",
            " 2   Nationality           301 non-null    object \n",
            " 3   Current Rank          301 non-null    object \n",
            " 4   Previous Year Rank    301 non-null    object \n",
            " 5   Sport                 301 non-null    object \n",
            " 6   Year                  301 non-null    int64  \n",
            " 7   earnings ($ million)  301 non-null    float64\n",
            "dtypes: float64(1), int64(2), object(5)\n",
            "memory usage: 18.9+ KB\n"
          ]
        }
      ]
    },
    {
      "cell_type": "markdown",
      "source": [
        "Меня интересует год и заработок"
      ],
      "metadata": {
        "id": "n9b9H9xwxz4e"
      }
    },
    {
      "cell_type": "code",
      "source": [
        "# plt.plot(df['Year'], df['earnings ($ million)'])\n",
        "# plt.xlabel('Год')\n",
        "# plt.ylabel('Заработок')\n",
        "# plt.tight_layout()\n",
        "# plt.show()"
      ],
      "metadata": {
        "id": "KHg5C_haxgU2"
      },
      "execution_count": 85,
      "outputs": []
    },
    {
      "cell_type": "code",
      "source": [
        "plt.scatter(df['Year'], df['earnings ($ million)'])\n",
        "plt.xlabel('Год')\n",
        "plt.ylabel('Заработок')\n",
        "plt.tight_layout()\n",
        "plt.show()"
      ],
      "metadata": {
        "colab": {
          "base_uri": "https://localhost:8080/",
          "height": 487
        },
        "id": "_ESu68PMyFnh",
        "outputId": "fdb031ae-ce75-485a-d6c4-19668a5bf5c9"
      },
      "execution_count": 84,
      "outputs": [
        {
          "output_type": "display_data",
          "data": {
            "text/plain": [
              "<Figure size 640x480 with 1 Axes>"
            ],
            "image/png": "[encoded data removed]"
          },
          "metadata": {}
        }
      ]
    },
    {
      "cell_type": "code",
      "source": [
        "sns.heatmap(df[['Year', 'earnings ($ million)']].corr(), cmap = 'coolwarm')"
      ],
      "metadata": {
        "colab": {
          "base_uri": "https://localhost:8080/",
          "height": 452
        },
        "id": "tmJcrA1P0oti",
        "outputId": "a6925ffe-108f-4ce1-df9b-b6c9d64dff31"
      },
      "execution_count": 89,
      "outputs": [
        {
          "output_type": "execute_result",
          "data": {
            "text/plain": [
              "<Axes: >"
            ]
          },
          "metadata": {},
          "execution_count": 89
        },
        {
          "output_type": "display_data",
          "data": {
            "text/plain": [
              "<Figure size 640x480 with 2 Axes>"
            ],
            "image/png": "[encoded data removed]"
          },
          "metadata": {}
        }
      ]
    },
    {
      "cell_type": "markdown",
      "source": [
        "##### Вывод\n",
        "\n",
        "Данные столбцы имеют линейную зависимость. Если убрать выбросы"
      ],
      "metadata": {
        "id": "bRCMe_b71REL"
      }
    },
    {
      "cell_type": "markdown",
      "source": [
        "## Сохранение результата"
      ],
      "metadata": {
        "id": "QNgoTar81r9r"
      }
    },
    {
      "cell_type": "code",
      "source": [
        "df.info()"
      ],
      "metadata": {
        "colab": {
          "base_uri": "https://localhost:8080/"
        },
        "id": "60m3h_TE2CyV",
        "outputId": "e8cd4748-aa70-402d-fc55-137473077315"
      },
      "execution_count": 91,
      "outputs": [
        {
          "output_type": "stream",
          "name": "stdout",
          "text": [
            "<class 'pandas.core.frame.DataFrame'>\n",
            "RangeIndex: 301 entries, 0 to 300\n",
            "Data columns (total 8 columns):\n",
            " #   Column                Non-Null Count  Dtype  \n",
            "---  ------                --------------  -----  \n",
            " 0   S.NO                  301 non-null    int64  \n",
            " 1   Name                  301 non-null    object \n",
            " 2   Nationality           301 non-null    object \n",
            " 3   Current Rank          301 non-null    object \n",
            " 4   Previous Year Rank    301 non-null    object \n",
            " 5   Sport                 301 non-null    object \n",
            " 6   Year                  301 non-null    int64  \n",
            " 7   earnings ($ million)  301 non-null    float64\n",
            "dtypes: float64(1), int64(2), object(5)\n",
            "memory usage: 18.9+ KB\n"
          ]
        }
      ]
    },
    {
      "cell_type": "code",
      "source": [
        "df.columns = ['index', 'Name', 'Nationality', 'CurrentRank', 'PreviousYearRank', 'Sport', 'Year', 'earnings_million_dollar']"
      ],
      "metadata": {
        "id": "UnZda4lE2HIX"
      },
      "execution_count": 92,
      "outputs": []
    },
    {
      "cell_type": "code",
      "source": [
        "df.head(1)"
      ],
      "metadata": {
        "colab": {
          "base_uri": "https://localhost:8080/",
          "height": 81
        },
        "id": "DX51o5ak20mq",
        "outputId": "b36f655b-bb99-4df2-c423-6b07f2bbffab"
      },
      "execution_count": 93,
      "outputs": [
        {
          "output_type": "execute_result",
          "data": {
            "text/plain": [
              "   index        Name Nationality CurrentRank PreviousYearRank   Sport  Year  \\\n",
              "0      1  Mike Tyson         USA           1              >10  boxing  1990   \n",
              "\n",
              "   earnings_million_dollar  \n",
              "0                     28.6  "
            ],
            "text/html": [
              "\n",
              "  <div id=\"df-d6fc3c8b-13f0-445b-9975-55a4aa903b08\" class=\"colab-df-container\">\n",
              "    <div>\n",
              "<style scoped>\n",
              "    .dataframe tbody tr th:only-of-type {\n",
              "        vertical-align: middle;\n",
              "    }\n",
              "\n",
              "    .dataframe tbody tr th {\n",
              "        vertical-align: top;\n",
              "    }\n",
              "\n",
              "    .dataframe thead th {\n",
              "        text-align: right;\n",
              "    }\n",
              "</style>\n",
              "<table border=\"1\" class=\"dataframe\">\n",
              "  <thead>\n",
              "    <tr style=\"text-align: right;\">\n",
              "      <th></th>\n",
              "      <th>index</th>\n",
              "      <th>Name</th>\n",
              "      <th>Nationality</th>\n",
              "      <th>CurrentRank</th>\n",
              "      <th>PreviousYearRank</th>\n",
              "      <th>Sport</th>\n",
              "      <th>Year</th>\n",
              "      <th>earnings_million_dollar</th>\n",
              "    </tr>\n",
              "  </thead>\n",
              "  <tbody>\n",
              "    <tr>\n",
              "      <th>0</th>\n",
              "      <td>1</td>\n",
              "      <td>Mike Tyson</td>\n",
              "      <td>USA</td>\n",
              "      <td>1</td>\n",
              "      <td>&gt;10</td>\n",
              "      <td>boxing</td>\n",
              "      <td>1990</td>\n",
              "      <td>28.6</td>\n",
              "    </tr>\n",
              "  </tbody>\n",
              "</table>\n",
              "</div>\n",
              "    <div class=\"colab-df-buttons\">\n",
              "\n",
              "  <div class=\"colab-df-container\">\n",
              "    <button class=\"colab-df-convert\" onclick=\"convertToInteractive('df-d6fc3c8b-13f0-445b-9975-55a4aa903b08')\"\n",
              "            title=\"Convert this dataframe to an interactive table.\"\n",
              "            style=\"display:none;\">\n",
              "\n",
              "  <svg xmlns=\"http://www.w3.org/2000/svg\" height=\"24px\" viewBox=\"0 -960 960 960\">\n",
              "    <path d=\"M120-120v-720h720v720H120Zm60-500h600v-160H180v160Zm220 220h160v-160H400v160Zm0 220h160v-160H400v160ZM180-400h160v-160H180v160Zm440 0h160v-160H620v160ZM180-180h160v-160H180v160Zm440 0h160v-160H620v160Z\"/>\n",
              "  </svg>\n",
              "    </button>\n",
              "\n",
              "  <style>\n",
              "    .colab-df-container {\n",
              "      display:flex;\n",
              "      gap: 12px;\n",
              "    }\n",
              "\n",
              "    .colab-df-convert {\n",
              "      background-color: #E8F0FE;\n",
              "      border: none;\n",
              "      border-radius: 50%;\n",
              "      cursor: pointer;\n",
              "      display: none;\n",
              "      fill: #1967D2;\n",
              "      height: 32px;\n",
              "      padding: 0 0 0 0;\n",
              "      width: 32px;\n",
              "    }\n",
              "\n",
              "    .colab-df-convert:hover {\n",
              "      background-color: #E2EBFA;\n",
              "      box-shadow: 0px 1px 2px rgba(60, 64, 67, 0.3), 0px 1px 3px 1px rgba(60, 64, 67, 0.15);\n",
              "      fill: #174EA6;\n",
              "    }\n",
              "\n",
              "    .colab-df-buttons div {\n",
              "      margin-bottom: 4px;\n",
              "    }\n",
              "\n",
              "    [theme=dark] .colab-df-convert {\n",
              "      background-color: #3B4455;\n",
              "      fill: #D2E3FC;\n",
              "    }\n",
              "\n",
              "    [theme=dark] .colab-df-convert:hover {\n",
              "      background-color: #434B5C;\n",
              "      box-shadow: 0px 1px 3px 1px rgba(0, 0, 0, 0.15);\n",
              "      filter: drop-shadow(0px 1px 2px rgba(0, 0, 0, 0.3));\n",
              "      fill: #FFFFFF;\n",
              "    }\n",
              "  </style>\n",
              "\n",
              "    <script>\n",
              "      const buttonEl =\n",
              "        document.querySelector('#df-d6fc3c8b-13f0-445b-9975-55a4aa903b08 button.colab-df-convert');\n",
              "      buttonEl.style.display =\n",
              "        google.colab.kernel.accessAllowed ? 'block' : 'none';\n",
              "\n",
              "      async function convertToInteractive(key) {\n",
              "        const element = document.querySelector('#df-d6fc3c8b-13f0-445b-9975-55a4aa903b08');\n",
              "        const dataTable =\n",
              "          await google.colab.kernel.invokeFunction('convertToInteractive',\n",
              "                                                    [key], {});\n",
              "        if (!dataTable) return;\n",
              "\n",
              "        const docLinkHtml = 'Like what you see? Visit the ' +\n",
              "          '<a target=\"_blank\" href=https://colab.research.google.com/notebooks/data_table.ipynb>data table notebook</a>'\n",
              "          + ' to learn more about interactive tables.';\n",
              "        element.innerHTML = '';\n",
              "        dataTable['output_type'] = 'display_data';\n",
              "        await google.colab.output.renderOutput(dataTable, element);\n",
              "        const docLink = document.createElement('div');\n",
              "        docLink.innerHTML = docLinkHtml;\n",
              "        element.appendChild(docLink);\n",
              "      }\n",
              "    </script>\n",
              "  </div>\n",
              "\n",
              "    </div>\n",
              "  </div>\n"
            ],
            "application/vnd.google.colaboratory.intrinsic+json": {
              "type": "dataframe",
              "variable_name": "df",
              "summary": "{\n  \"name\": \"df\",\n  \"rows\": 301,\n  \"fields\": [\n    {\n      \"column\": \"index\",\n      \"properties\": {\n        \"dtype\": \"number\",\n        \"std\": 87,\n        \"min\": 1,\n        \"max\": 301,\n        \"num_unique_values\": 301,\n        \"samples\": [\n          178,\n          290,\n          229\n        ],\n        \"semantic_type\": \"\",\n        \"description\": \"\"\n      }\n    },\n    {\n      \"column\": \"Name\",\n      \"properties\": {\n        \"dtype\": \"category\",\n        \"num_unique_values\": 82,\n        \"samples\": [\n          \"Oscar De La Hoya\",\n          \"Mike Tyson\",\n          \"Gerhard Berger\"\n        ],\n        \"semantic_type\": \"\",\n        \"description\": \"\"\n      }\n    },\n    {\n      \"column\": \"Nationality\",\n      \"properties\": {\n        \"dtype\": \"category\",\n        \"num_unique_values\": 22,\n        \"samples\": [\n          \"USA\",\n          \"Portugal\",\n          \"Russia\"\n        ],\n        \"semantic_type\": \"\",\n        \"description\": \"\"\n      }\n    },\n    {\n      \"column\": \"CurrentRank\",\n      \"properties\": {\n        \"dtype\": \"date\",\n        \"min\": 1,\n        \"max\": 10,\n        \"num_unique_values\": 10,\n        \"samples\": [\n          9,\n          2,\n          6\n        ],\n        \"semantic_type\": \"\",\n        \"description\": \"\"\n      }\n    },\n    {\n      \"column\": \"PreviousYearRank\",\n      \"properties\": {\n        \"dtype\": \"category\",\n        \"num_unique_values\": 36,\n        \"samples\": [\n          \"??\",\n          \">40\",\n          \"26\"\n        ],\n        \"semantic_type\": \"\",\n        \"description\": \"\"\n      }\n    },\n    {\n      \"column\": \"Sport\",\n      \"properties\": {\n        \"dtype\": \"category\",\n        \"num_unique_values\": 29,\n        \"samples\": [\n          \"Soccer\",\n          \"ice hockey\",\n          \"Baseball\"\n        ],\n        \"semantic_type\": \"\",\n        \"description\": \"\"\n      }\n    },\n    {\n      \"column\": \"Year\",\n      \"properties\": {\n        \"dtype\": \"number\",\n        \"std\": 9,\n        \"min\": 1990,\n        \"max\": 2020,\n        \"num_unique_values\": 30,\n        \"samples\": [\n          2018,\n          2006,\n          2014\n        ],\n        \"semantic_type\": \"\",\n        \"description\": \"\"\n      }\n    },\n    {\n      \"column\": \"earnings_million_dollar\",\n      \"properties\": {\n        \"dtype\": \"number\",\n        \"std\": 33.525337196045136,\n        \"min\": 8.1,\n        \"max\": 300.0,\n        \"num_unique_values\": 198,\n        \"samples\": [\n          26.8,\n          39.0,\n          28.0\n        ],\n        \"semantic_type\": \"\",\n        \"description\": \"\"\n      }\n    }\n  ]\n}"
            }
          },
          "metadata": {},
          "execution_count": 93
        }
      ]
    },
    {
      "cell_type": "code",
      "source": [
        "df.to_csv(\"forbes_richest_atheletes.csv\", index=False)"
      ],
      "metadata": {
        "id": "wLQnpN6O026N"
      },
      "execution_count": 94,
      "outputs": []
    },
    {
      "cell_type": "markdown",
      "source": [
        "# Статистический анализ"
      ],
      "metadata": {
        "id": "nC9e2_nR3AyX"
      }
    },
    {
      "cell_type": "markdown",
      "source": [
        "## Чтение данных"
      ],
      "metadata": {
        "id": "jzZpPxAP3LUn"
      }
    },
    {
      "cell_type": "code",
      "source": [
        "df = pd.read_csv(\"/content/forbes_richest_atheletes.csv\")"
      ],
      "metadata": {
        "id": "g1dRSh-P3Jsv"
      },
      "execution_count": 95,
      "outputs": []
    },
    {
      "cell_type": "code",
      "source": [
        "df.head()"
      ],
      "metadata": {
        "colab": {
          "base_uri": "https://localhost:8080/",
          "height": 206
        },
        "id": "Ozm8Y7ui3EEK",
        "outputId": "c8d1cc62-1418-4795-ad3b-65681dc11f40"
      },
      "execution_count": 96,
      "outputs": [
        {
          "output_type": "execute_result",
          "data": {
            "text/plain": [
              "   index               Name Nationality  CurrentRank PreviousYearRank  \\\n",
              "0      1         Mike Tyson         USA            1              >10   \n",
              "1      2     Buster Douglas         USA            2              >10   \n",
              "2      3  Sugar Ray Leonard         USA            3              >10   \n",
              "3      4       Ayrton Senna      Brazil            4              >10   \n",
              "4      5        Alain Prost      France            5              >10   \n",
              "\n",
              "         Sport  Year  earnings_million_dollar  \n",
              "0       boxing  1990                     28.6  \n",
              "1       boxing  1990                     26.0  \n",
              "2       boxing  1990                     13.0  \n",
              "3  auto racing  1990                     10.0  \n",
              "4  auto racing  1990                      9.0  "
            ],
            "text/html": [
              "\n",
              "  <div id=\"df-470cc88c-4c1a-4606-af9c-c6336f438b65\" class=\"colab-df-container\">\n",
              "    <div>\n",
              "<style scoped>\n",
              "    .dataframe tbody tr th:only-of-type {\n",
              "        vertical-align: middle;\n",
              "    }\n",
              "\n",
              "    .dataframe tbody tr th {\n",
              "        vertical-align: top;\n",
              "    }\n",
              "\n",
              "    .dataframe thead th {\n",
              "        text-align: right;\n",
              "    }\n",
              "</style>\n",
              "<table border=\"1\" class=\"dataframe\">\n",
              "  <thead>\n",
              "    <tr style=\"text-align: right;\">\n",
              "      <th></th>\n",
              "      <th>index</th>\n",
              "      <th>Name</th>\n",
              "      <th>Nationality</th>\n",
              "      <th>CurrentRank</th>\n",
              "      <th>PreviousYearRank</th>\n",
              "      <th>Sport</th>\n",
              "      <th>Year</th>\n",
              "      <th>earnings_million_dollar</th>\n",
              "    </tr>\n",
              "  </thead>\n",
              "  <tbody>\n",
              "    <tr>\n",
              "      <th>0</th>\n",
              "      <td>1</td>\n",
              "      <td>Mike Tyson</td>\n",
              "      <td>USA</td>\n",
              "      <td>1</td>\n",
              "      <td>&gt;10</td>\n",
              "      <td>boxing</td>\n",
              "      <td>1990</td>\n",
              "      <td>28.6</td>\n",
              "    </tr>\n",
              "    <tr>\n",
              "      <th>1</th>\n",
              "      <td>2</td>\n",
              "      <td>Buster Douglas</td>\n",
              "      <td>USA</td>\n",
              "      <td>2</td>\n",
              "      <td>&gt;10</td>\n",
              "      <td>boxing</td>\n",
              "      <td>1990</td>\n",
              "      <td>26.0</td>\n",
              "    </tr>\n",
              "    <tr>\n",
              "      <th>2</th>\n",
              "      <td>3</td>\n",
              "      <td>Sugar Ray Leonard</td>\n",
              "      <td>USA</td>\n",
              "      <td>3</td>\n",
              "      <td>&gt;10</td>\n",
              "      <td>boxing</td>\n",
              "      <td>1990</td>\n",
              "      <td>13.0</td>\n",
              "    </tr>\n",
              "    <tr>\n",
              "      <th>3</th>\n",
              "      <td>4</td>\n",
              "      <td>Ayrton Senna</td>\n",
              "      <td>Brazil</td>\n",
              "      <td>4</td>\n",
              "      <td>&gt;10</td>\n",
              "      <td>auto racing</td>\n",
              "      <td>1990</td>\n",
              "      <td>10.0</td>\n",
              "    </tr>\n",
              "    <tr>\n",
              "      <th>4</th>\n",
              "      <td>5</td>\n",
              "      <td>Alain Prost</td>\n",
              "      <td>France</td>\n",
              "      <td>5</td>\n",
              "      <td>&gt;10</td>\n",
              "      <td>auto racing</td>\n",
              "      <td>1990</td>\n",
              "      <td>9.0</td>\n",
              "    </tr>\n",
              "  </tbody>\n",
              "</table>\n",
              "</div>\n",
              "    <div class=\"colab-df-buttons\">\n",
              "\n",
              "  <div class=\"colab-df-container\">\n",
              "    <button class=\"colab-df-convert\" onclick=\"convertToInteractive('df-470cc88c-4c1a-4606-af9c-c6336f438b65')\"\n",
              "            title=\"Convert this dataframe to an interactive table.\"\n",
              "            style=\"display:none;\">\n",
              "\n",
              "  <svg xmlns=\"http://www.w3.org/2000/svg\" height=\"24px\" viewBox=\"0 -960 960 960\">\n",
              "    <path d=\"M120-120v-720h720v720H120Zm60-500h600v-160H180v160Zm220 220h160v-160H400v160Zm0 220h160v-160H400v160ZM180-400h160v-160H180v160Zm440 0h160v-160H620v160ZM180-180h160v-160H180v160Zm440 0h160v-160H620v160Z\"/>\n",
              "  </svg>\n",
              "    </button>\n",
              "\n",
              "  <style>\n",
              "    .colab-df-container {\n",
              "      display:flex;\n",
              "      gap: 12px;\n",
              "    }\n",
              "\n",
              "    .colab-df-convert {\n",
              "      background-color: #E8F0FE;\n",
              "      border: none;\n",
              "      border-radius: 50%;\n",
              "      cursor: pointer;\n",
              "      display: none;\n",
              "      fill: #1967D2;\n",
              "      height: 32px;\n",
              "      padding: 0 0 0 0;\n",
              "      width: 32px;\n",
              "    }\n",
              "\n",
              "    .colab-df-convert:hover {\n",
              "      background-color: #E2EBFA;\n",
              "      box-shadow: 0px 1px 2px rgba(60, 64, 67, 0.3), 0px 1px 3px 1px rgba(60, 64, 67, 0.15);\n",
              "      fill: #174EA6;\n",
              "    }\n",
              "\n",
              "    .colab-df-buttons div {\n",
              "      margin-bottom: 4px;\n",
              "    }\n",
              "\n",
              "    [theme=dark] .colab-df-convert {\n",
              "      background-color: #3B4455;\n",
              "      fill: #D2E3FC;\n",
              "    }\n",
              "\n",
              "    [theme=dark] .colab-df-convert:hover {\n",
              "      background-color: #434B5C;\n",
              "      box-shadow: 0px 1px 3px 1px rgba(0, 0, 0, 0.15);\n",
              "      filter: drop-shadow(0px 1px 2px rgba(0, 0, 0, 0.3));\n",
              "      fill: #FFFFFF;\n",
              "    }\n",
              "  </style>\n",
              "\n",
              "    <script>\n",
              "      const buttonEl =\n",
              "        document.querySelector('#df-470cc88c-4c1a-4606-af9c-c6336f438b65 button.colab-df-convert');\n",
              "      buttonEl.style.display =\n",
              "        google.colab.kernel.accessAllowed ? 'block' : 'none';\n",
              "\n",
              "      async function convertToInteractive(key) {\n",
              "        const element = document.querySelector('#df-470cc88c-4c1a-4606-af9c-c6336f438b65');\n",
              "        const dataTable =\n",
              "          await google.colab.kernel.invokeFunction('convertToInteractive',\n",
              "                                                    [key], {});\n",
              "        if (!dataTable) return;\n",
              "\n",
              "        const docLinkHtml = 'Like what you see? Visit the ' +\n",
              "          '<a target=\"_blank\" href=https://colab.research.google.com/notebooks/data_table.ipynb>data table notebook</a>'\n",
              "          + ' to learn more about interactive tables.';\n",
              "        element.innerHTML = '';\n",
              "        dataTable['output_type'] = 'display_data';\n",
              "        await google.colab.output.renderOutput(dataTable, element);\n",
              "        const docLink = document.createElement('div');\n",
              "        docLink.innerHTML = docLinkHtml;\n",
              "        element.appendChild(docLink);\n",
              "      }\n",
              "    </script>\n",
              "  </div>\n",
              "\n",
              "\n",
              "    <div id=\"df-784f10bb-46e1-42c0-98dd-cfe0675d5172\">\n",
              "      <button class=\"colab-df-quickchart\" onclick=\"quickchart('df-784f10bb-46e1-42c0-98dd-cfe0675d5172')\"\n",
              "                title=\"Suggest charts\"\n",
              "                style=\"display:none;\">\n",
              "\n",
              "<svg xmlns=\"http://www.w3.org/2000/svg\" height=\"24px\"viewBox=\"0 0 24 24\"\n",
              "     width=\"24px\">\n",
              "    <g>\n",
              "        <path d=\"M19 3H5c-1.1 0-2 .9-2 2v14c0 1.1.9 2 2 2h14c1.1 0 2-.9 2-2V5c0-1.1-.9-2-2-2zM9 17H7v-7h2v7zm4 0h-2V7h2v10zm4 0h-2v-4h2v4z\"/>\n",
              "    </g>\n",
              "</svg>\n",
              "      </button>\n",
              "\n",
              "<style>\n",
              "  .colab-df-quickchart {\n",
              "      --bg-color: #E8F0FE;\n",
              "      --fill-color: #1967D2;\n",
              "      --hover-bg-color: #E2EBFA;\n",
              "      --hover-fill-color: #174EA6;\n",
              "      --disabled-fill-color: #AAA;\n",
              "      --disabled-bg-color: #DDD;\n",
              "  }\n",
              "\n",
              "  [theme=dark] .colab-df-quickchart {\n",
              "      --bg-color: #3B4455;\n",
              "      --fill-color: #D2E3FC;\n",
              "      --hover-bg-color: #434B5C;\n",
              "      --hover-fill-color: #FFFFFF;\n",
              "      --disabled-bg-color: #3B4455;\n",
              "      --disabled-fill-color: #666;\n",
              "  }\n",
              "\n",
              "  .colab-df-quickchart {\n",
              "    background-color: var(--bg-color);\n",
              "    border: none;\n",
              "    border-radius: 50%;\n",
              "    cursor: pointer;\n",
              "    display: none;\n",
              "    fill: var(--fill-color);\n",
              "    height: 32px;\n",
              "    padding: 0;\n",
              "    width: 32px;\n",
              "  }\n",
              "\n",
              "  .colab-df-quickchart:hover {\n",
              "    background-color: var(--hover-bg-color);\n",
              "    box-shadow: 0 1px 2px rgba(60, 64, 67, 0.3), 0 1px 3px 1px rgba(60, 64, 67, 0.15);\n",
              "    fill: var(--button-hover-fill-color);\n",
              "  }\n",
              "\n",
              "  .colab-df-quickchart-complete:disabled,\n",
              "  .colab-df-quickchart-complete:disabled:hover {\n",
              "    background-color: var(--disabled-bg-color);\n",
              "    fill: var(--disabled-fill-color);\n",
              "    box-shadow: none;\n",
              "  }\n",
              "\n",
              "  .colab-df-spinner {\n",
              "    border: 2px solid var(--fill-color);\n",
              "    border-color: transparent;\n",
              "    border-bottom-color: var(--fill-color);\n",
              "    animation:\n",
              "      spin 1s steps(1) infinite;\n",
              "  }\n",
              "\n",
              "  @keyframes spin {\n",
              "    0% {\n",
              "      border-color: transparent;\n",
              "      border-bottom-color: var(--fill-color);\n",
              "      border-left-color: var(--fill-color);\n",
              "    }\n",
              "    20% {\n",
              "      border-color: transparent;\n",
              "      border-left-color: var(--fill-color);\n",
              "      border-top-color: var(--fill-color);\n",
              "    }\n",
              "    30% {\n",
              "      border-color: transparent;\n",
              "      border-left-color: var(--fill-color);\n",
              "      border-top-color: var(--fill-color);\n",
              "      border-right-color: var(--fill-color);\n",
              "    }\n",
              "    40% {\n",
              "      border-color: transparent;\n",
              "      border-right-color: var(--fill-color);\n",
              "      border-top-color: var(--fill-color);\n",
              "    }\n",
              "    60% {\n",
              "      border-color: transparent;\n",
              "      border-right-color: var(--fill-color);\n",
              "    }\n",
              "    80% {\n",
              "      border-color: transparent;\n",
              "      border-right-color: var(--fill-color);\n",
              "      border-bottom-color: var(--fill-color);\n",
              "    }\n",
              "    90% {\n",
              "      border-color: transparent;\n",
              "      border-bottom-color: var(--fill-color);\n",
              "    }\n",
              "  }\n",
              "</style>\n",
              "\n",
              "      <script>\n",
              "        async function quickchart(key) {\n",
              "          const quickchartButtonEl =\n",
              "            document.querySelector('#' + key + ' button');\n",
              "          quickchartButtonEl.disabled = true;  // To prevent multiple clicks.\n",
              "          quickchartButtonEl.classList.add('colab-df-spinner');\n",
              "          try {\n",
              "            const charts = await google.colab.kernel.invokeFunction(\n",
              "                'suggestCharts', [key], {});\n",
              "          } catch (error) {\n",
              "            console.error('Error during call to suggestCharts:', error);\n",
              "          }\n",
              "          quickchartButtonEl.classList.remove('colab-df-spinner');\n",
              "          quickchartButtonEl.classList.add('colab-df-quickchart-complete');\n",
              "        }\n",
              "        (() => {\n",
              "          let quickchartButtonEl =\n",
              "            document.querySelector('#df-784f10bb-46e1-42c0-98dd-cfe0675d5172 button');\n",
              "          quickchartButtonEl.style.display =\n",
              "            google.colab.kernel.accessAllowed ? 'block' : 'none';\n",
              "        })();\n",
              "      </script>\n",
              "    </div>\n",
              "    </div>\n",
              "  </div>\n"
            ],
            "application/vnd.google.colaboratory.intrinsic+json": {
              "type": "dataframe",
              "variable_name": "df",
              "summary": "{\n  \"name\": \"df\",\n  \"rows\": 301,\n  \"fields\": [\n    {\n      \"column\": \"index\",\n      \"properties\": {\n        \"dtype\": \"number\",\n        \"std\": 87,\n        \"min\": 1,\n        \"max\": 301,\n        \"num_unique_values\": 301,\n        \"samples\": [\n          178,\n          290,\n          229\n        ],\n        \"semantic_type\": \"\",\n        \"description\": \"\"\n      }\n    },\n    {\n      \"column\": \"Name\",\n      \"properties\": {\n        \"dtype\": \"category\",\n        \"num_unique_values\": 82,\n        \"samples\": [\n          \"Oscar De La Hoya\",\n          \"Mike Tyson\",\n          \"Gerhard Berger\"\n        ],\n        \"semantic_type\": \"\",\n        \"description\": \"\"\n      }\n    },\n    {\n      \"column\": \"Nationality\",\n      \"properties\": {\n        \"dtype\": \"category\",\n        \"num_unique_values\": 22,\n        \"samples\": [\n          \"USA\",\n          \"Portugal\",\n          \"Russia\"\n        ],\n        \"semantic_type\": \"\",\n        \"description\": \"\"\n      }\n    },\n    {\n      \"column\": \"CurrentRank\",\n      \"properties\": {\n        \"dtype\": \"number\",\n        \"std\": 2,\n        \"min\": 1,\n        \"max\": 10,\n        \"num_unique_values\": 10,\n        \"samples\": [\n          9,\n          2,\n          6\n        ],\n        \"semantic_type\": \"\",\n        \"description\": \"\"\n      }\n    },\n    {\n      \"column\": \"PreviousYearRank\",\n      \"properties\": {\n        \"dtype\": \"category\",\n        \"num_unique_values\": 36,\n        \"samples\": [\n          \"??\",\n          \">40\",\n          \"26\"\n        ],\n        \"semantic_type\": \"\",\n        \"description\": \"\"\n      }\n    },\n    {\n      \"column\": \"Sport\",\n      \"properties\": {\n        \"dtype\": \"category\",\n        \"num_unique_values\": 29,\n        \"samples\": [\n          \"Soccer\",\n          \"ice hockey\",\n          \"Baseball\"\n        ],\n        \"semantic_type\": \"\",\n        \"description\": \"\"\n      }\n    },\n    {\n      \"column\": \"Year\",\n      \"properties\": {\n        \"dtype\": \"number\",\n        \"std\": 9,\n        \"min\": 1990,\n        \"max\": 2020,\n        \"num_unique_values\": 30,\n        \"samples\": [\n          2018,\n          2006,\n          2014\n        ],\n        \"semantic_type\": \"\",\n        \"description\": \"\"\n      }\n    },\n    {\n      \"column\": \"earnings_million_dollar\",\n      \"properties\": {\n        \"dtype\": \"number\",\n        \"std\": 33.525337196045136,\n        \"min\": 8.1,\n        \"max\": 300.0,\n        \"num_unique_values\": 198,\n        \"samples\": [\n          26.8,\n          39.0,\n          28.0\n        ],\n        \"semantic_type\": \"\",\n        \"description\": \"\"\n      }\n    }\n  ]\n}"
            }
          },
          "metadata": {},
          "execution_count": 96
        }
      ]
    },
    {
      "cell_type": "markdown",
      "source": [
        "## Будем работать с заработком"
      ],
      "metadata": {
        "id": "FOboRg8T5APn"
      }
    },
    {
      "cell_type": "markdown",
      "source": [
        "В данном случае предполагаю, что средний заработок спортсменов составляет 24 млн.<br><br>\n",
        "Нулевая гипотеза:\n",
        "\n",
        "$$ H_0: \\rho = 24 $$\n",
        "\n",
        "Альтернативная гипотеза:\n",
        "\n",
        "$$ H_1: \\rho \\neq 24 $$"
      ],
      "metadata": {
        "id": "GKOpYxFy5eJB"
      }
    },
    {
      "cell_type": "markdown",
      "source": [
        "## Работа с данными"
      ],
      "metadata": {
        "id": "U2xW3RYm7OUG"
      }
    },
    {
      "cell_type": "code",
      "source": [
        "data_array = df['earnings_million_dollar'].to_numpy()"
      ],
      "metadata": {
        "id": "bF3Np0pG7Xpx"
      },
      "execution_count": 261,
      "outputs": []
    },
    {
      "cell_type": "code",
      "source": [
        "data_array"
      ],
      "metadata": {
        "colab": {
          "base_uri": "https://localhost:8080/"
        },
        "id": "VVP9_Q247ahr",
        "outputId": "fb398fd0-2b07-4de0-d74e-690e679833b6"
      },
      "execution_count": 262,
      "outputs": [
        {
          "output_type": "execute_result",
          "data": {
            "text/plain": [
              "array([ 28.6,  26. ,  13. ,  10. ,   9. ,   8.6,   8.5,   8.1,   8.1,\n",
              "         8.1,  60.5,  31.5,  16. ,  14.5,  13. ,  11. ,  10.2,   9.3,\n",
              "         9. ,   8.5,  35.9,  28. ,  22. ,  14.5,  11.1,  11. ,   9.5,\n",
              "         9.2,   9. ,   8.5,  36. ,  25. ,  18.5,  16. ,  15.8,  15.2,\n",
              "        15. ,  12.7,  12.6,  11.5,  30. ,  16.7,  14.8,  13.6,  13.5,\n",
              "        13.5,  12.1,  12. ,  11.4,  11.3,  43.9,  40. ,  22.5,  22.2,\n",
              "        21.9,  18. ,  16. ,  15.1,  15. ,  14.5,  75. ,  52.6,  33. ,\n",
              "        24.4,  16.5,  15.5,  15.2,  15.1,  12.9,  12.9,  78.3,  54.3,\n",
              "        38. ,  35. ,  27. ,  26.1,  25.4,  19.1,  17.9,  17. ,  69. ,\n",
              "        38. ,  29.8,  26.8,  24.1,  21.6,  18.5,  18.3,  18.1,  17.2,\n",
              "        49. ,  47. ,  43.5,  40. ,  35.5,  33. ,  31. ,  29. ,  26.5,\n",
              "        23. ,  59. ,  53. ,  48. ,  37. ,  26. ,  24.5,  24. ,  23. ,\n",
              "        23. ,  21. ,  69. ,  67. ,  36. ,  28. ,  24. ,  24. ,  23. ,\n",
              "        23. ,  22. ,  20. ,  20. ,  78. ,  75. ,  35. ,  30.5,  30. ,\n",
              "        28. ,  26. ,  25.5,  24. ,  23. ,  80.3,  80. ,  42. ,  35. ,\n",
              "        31.9,  29.7,  28.2,  28. ,  26.2,  26.1,  87. ,  60. ,  38. ,\n",
              "        37.5,  33.4,  33. ,  32.5,  28.8,  28. ,  28. ,  90. ,  58. ,\n",
              "        55. ,  47. ,  32. ,  31. ,  30. ,  30. ,  29. ,  29. , 100. ,\n",
              "        43. ,  42. ,  40. ,  36. ,  33. ,  33. ,  32. ,  31. ,  31. ,\n",
              "       115. ,  50. ,  45. ,  45. ,  44. ,  39. ,  38. ,  37. ,  35. ,\n",
              "        35. , 110. ,  45. ,  45. ,  45. ,  42. ,  40. ,  40. ,  40. ,\n",
              "        35. ,  34. , 105. ,  65. ,  48. ,  46. ,  43.7,  43. ,  42.8,\n",
              "        42. ,  39.9,  38.3,  75. ,  53. ,  48. ,  47. ,  46.5,  40. ,\n",
              "        38. ,  35. ,  34. ,  32.3,  85. ,  62. ,  59.4,  53. ,  52.7,\n",
              "        52.3,  47.8,  46. ,  42.5,  42.4,  78.1,  71.5,  61.9,  59.8,\n",
              "        51. ,  49. ,  48.7,  47.2,  44. ,  41.3, 105. ,  80. ,  72.3,\n",
              "        64.7,  61.5,  61.2,  56.2,  53.2,  44.5,  43.8, 300. , 160. ,\n",
              "        79.6,  73.8,  67. ,  64.8,  54.2,  50.8,  50.6,  49.5,  88. ,\n",
              "        81.4,  77.2,  67.8,  56.2,  55.8,  53.1,  52.9,  52.8,  50. ,\n",
              "        93. ,  86.2,  80. ,  64. ,  60.6,  50. ,  50. ,  47.3,  46.6,\n",
              "        46. , 285. , 111. , 108. ,  99. ,  90. ,  85.5,  77.2,  76.9,\n",
              "        67.3,  59.5, 127. , 109. , 105. ,  94. ,  93.4,  89.5,  89.3,\n",
              "        89. ,  79.8,  65.4, 106.3, 105. , 104. ,  95.5,  88.2,  74.4,\n",
              "        63.9,  62.3,  60.5,  59.1])"
            ]
          },
          "metadata": {},
          "execution_count": 262
        }
      ]
    },
    {
      "cell_type": "code",
      "source": [
        "len(data_array)"
      ],
      "metadata": {
        "colab": {
          "base_uri": "https://localhost:8080/"
        },
        "id": "RAk5xaHW8Bic",
        "outputId": "f5f7b76b-1314-499f-fa49-756797b2b308"
      },
      "execution_count": 263,
      "outputs": [
        {
          "output_type": "execute_result",
          "data": {
            "text/plain": [
              "301"
            ]
          },
          "metadata": {},
          "execution_count": 263
        }
      ]
    },
    {
      "cell_type": "markdown",
      "source": [
        "Выше при исследовании данных было видно, что данные имеют ненормальное распределение. Наши тесты работают только с нормальными данными или с данными, которые похожи на нормальные"
      ],
      "metadata": {
        "id": "q8tGkE-V8Ypm"
      }
    },
    {
      "cell_type": "code",
      "source": [
        "# Добавить свой код в ячейку\n",
        "\n",
        "mean_val = np.mean(data_array)\n",
        "median_val = np.median(data_array)\n",
        "var_val = np.var(data_array, ddof=1)\n",
        "quantil_one = np.percentile(data_array, 25)\n",
        "quantil_three = np.percentile(data_array, 75)\n",
        "iqr = quantil_three - quantil_one\n",
        "\n",
        "print(f\"Среднее значение: {mean_val:.2f}\") # :.2f - округление до 2 знаков после запятой\n",
        "print(f\"Медиана: {median_val:.2f}\")\n",
        "print(f\"Выборочная дисперсия: {var_val:.2f}\")\n",
        "print(f\"Межквартильный размах (IQR): {iqr:.2f}\")"
      ],
      "metadata": {
        "colab": {
          "base_uri": "https://localhost:8080/"
        },
        "id": "XnVuNZJy3X3i",
        "outputId": "0400737a-087a-43b0-c461-b23f57aecb39"
      },
      "execution_count": 264,
      "outputs": [
        {
          "output_type": "stream",
          "name": "stdout",
          "text": [
            "Среднее значение: 45.52\n",
            "Медиана: 39.00\n",
            "Выборочная дисперсия: 1123.95\n",
            "Межквартильный размах (IQR): 35.40\n"
          ]
        }
      ]
    },
    {
      "cell_type": "code",
      "source": [
        "plt.boxplot(data_array, vert=False)\n",
        "plt.title(\"Диаграмма box-plot выборки\")\n",
        "plt.xlabel(\"Значения\")\n",
        "plt.show()"
      ],
      "metadata": {
        "colab": {
          "base_uri": "https://localhost:8080/",
          "height": 472
        },
        "id": "MzilqsXX7UqP",
        "outputId": "51b1b70b-25a2-4bdc-cd8c-c129e16ac68a"
      },
      "execution_count": 265,
      "outputs": [
        {
          "output_type": "display_data",
          "data": {
            "text/plain": [
              "<Figure size 640x480 with 1 Axes>"
            ],
            "image/png": "[encoded data removed]"
          },
          "metadata": {}
        }
      ]
    },
    {
      "cell_type": "code",
      "source": [
        "lower_bound = quantil_one - 1.5 * iqr\n",
        "upper_bound = quantil_three + 1.5 * iqr\n",
        "data_array = data_array[(data_array >= lower_bound) & (data_array <= upper_bound)]"
      ],
      "metadata": {
        "id": "EpTCoyEl7uw6"
      },
      "execution_count": 266,
      "outputs": []
    },
    {
      "cell_type": "code",
      "source": [
        "len(data_array)"
      ],
      "metadata": {
        "colab": {
          "base_uri": "https://localhost:8080/"
        },
        "id": "-wbgMyZL72HH",
        "outputId": "3a1596f1-2b97-4537-9881-922d3c275162"
      },
      "execution_count": 267,
      "outputs": [
        {
          "output_type": "execute_result",
          "data": {
            "text/plain": [
              "296"
            ]
          },
          "metadata": {},
          "execution_count": 267
        }
      ]
    },
    {
      "cell_type": "code",
      "source": [
        "pd.Series(data_array).hist()"
      ],
      "metadata": {
        "colab": {
          "base_uri": "https://localhost:8080/",
          "height": 447
        },
        "id": "63elswb5725G",
        "outputId": "62e74346-b014-487e-9039-124029250af6"
      },
      "execution_count": 268,
      "outputs": [
        {
          "output_type": "execute_result",
          "data": {
            "text/plain": [
              "<Axes: >"
            ]
          },
          "metadata": {},
          "execution_count": 268
        },
        {
          "output_type": "display_data",
          "data": {
            "text/plain": [
              "<Figure size 640x480 with 1 Axes>"
            ],
            "image/png": "[encoded data removed]"
          },
          "metadata": {}
        }
      ]
    },
    {
      "cell_type": "markdown",
      "source": [
        "Данные все равно не имеют равномерное распределение"
      ],
      "metadata": {
        "id": "wENqddsj9Xua"
      }
    },
    {
      "cell_type": "code",
      "source": [
        "math_expectation = np.mean(data_array)\n",
        "sigma_mle = np.std(data_array, ddof=0)\n",
        "\n",
        "print(f\"Оценка MLE для среднего (Математичекое ожидание): {math_expectation:.4f}\")\n",
        "print(f\"Оценка MLE для стандартного отклонения (Сигма): {sigma_mle:.4f}\")"
      ],
      "metadata": {
        "colab": {
          "base_uri": "https://localhost:8080/"
        },
        "id": "7kx-4CD08xNe",
        "outputId": "8e08151d-cb69-45cb-b9c4-84523138e7c3"
      },
      "execution_count": 269,
      "outputs": [
        {
          "output_type": "stream",
          "name": "stdout",
          "text": [
            "Оценка MLE для среднего (Математичекое ожидание): 42.9507\n",
            "Оценка MLE для стандартного отклонения (Сигма): 25.2386\n"
          ]
        }
      ]
    },
    {
      "cell_type": "code",
      "source": [
        "from scipy.stats import shapiro, norm"
      ],
      "metadata": {
        "id": "-bFPvR2m9s0U"
      },
      "execution_count": 270,
      "outputs": []
    },
    {
      "cell_type": "code",
      "source": [
        "statistics_shapiro, p_value = shapiro(data_array)\n",
        "\n",
        "print(f\"Статистика Шапиро-Уилка: {statistics_shapiro:.4f}\")\n",
        "print(f\"P-value: {p_value:.4f}\")"
      ],
      "metadata": {
        "colab": {
          "base_uri": "https://localhost:8080/"
        },
        "id": "n3YBBBJJ9fNn",
        "outputId": "668f7c11-286e-4127-ca8b-6b0d35b9ae4d"
      },
      "execution_count": 271,
      "outputs": [
        {
          "output_type": "stream",
          "name": "stdout",
          "text": [
            "Статистика Шапиро-Уилка: 0.9360\n",
            "P-value: 0.0000\n"
          ]
        }
      ]
    },
    {
      "cell_type": "code",
      "source": [
        "alpha = 0.05\n",
        "if p_value < alpha:\n",
        "    print(\"Отвергаем гипотезу о нормальности распределения (данные не нормальны).\")\n",
        "else:\n",
        "    print(\"Нет оснований отвергать гипотезу о нормальности распределения (данные нормальны).\")"
      ],
      "metadata": {
        "colab": {
          "base_uri": "https://localhost:8080/"
        },
        "id": "etBxRuXb9kVA",
        "outputId": "3b96667f-fbe2-458c-de37-036d7ac3e6f9"
      },
      "execution_count": 272,
      "outputs": [
        {
          "output_type": "stream",
          "name": "stdout",
          "text": [
            "Отвергаем гипотезу о нормальности распределения (данные не нормальны).\n"
          ]
        }
      ]
    },
    {
      "cell_type": "code",
      "source": [
        "pd.Series(data_array).hist()"
      ],
      "metadata": {
        "colab": {
          "base_uri": "https://localhost:8080/",
          "height": 447
        },
        "id": "fZWXTu6RSM77",
        "outputId": "9a9677c1-363e-48ea-f313-2b838f5b8cb2"
      },
      "execution_count": 273,
      "outputs": [
        {
          "output_type": "execute_result",
          "data": {
            "text/plain": [
              "<Axes: >"
            ]
          },
          "metadata": {},
          "execution_count": 273
        },
        {
          "output_type": "display_data",
          "data": {
            "text/plain": [
              "<Figure size 640x480 with 1 Axes>"
            ],
            "image/png": "[encoded data removed]"
          },
          "metadata": {}
        }
      ]
    },
    {
      "cell_type": "code",
      "source": [
        "plt.boxplot(data_array, vert=False)\n",
        "plt.title(\"Диаграмма box-plot выборки\")\n",
        "plt.xlabel(\"Значения\")\n",
        "plt.show()"
      ],
      "metadata": {
        "colab": {
          "base_uri": "https://localhost:8080/",
          "height": 472
        },
        "id": "ZP_tHiJISNSE",
        "outputId": "1a93bb62-9783-49a8-ac7b-6eded1ee6e01"
      },
      "execution_count": 274,
      "outputs": [
        {
          "output_type": "display_data",
          "data": {
            "text/plain": [
              "<Figure size 640x480 with 1 Axes>"
            ],
            "image/png": "[encoded data removed]"
          },
          "metadata": {}
        }
      ]
    },
    {
      "cell_type": "markdown",
      "source": [
        "Применим Z-тест. НО:<br>\n",
        "Z-критерий можно использовать для ненормальных данных, если выборка большая."
      ],
      "metadata": {
        "id": "C0aoX6FxTGaL"
      }
    },
    {
      "cell_type": "markdown",
      "source": [
        "## Z-test"
      ],
      "metadata": {
        "id": "Nh5DeOtATNhW"
      }
    },
    {
      "cell_type": "markdown",
      "source": [
        "![image.png](data:image/png;base64,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)"
      ],
      "metadata": {
        "id": "p7I5xeJzTcM3"
      }
    },
    {
      "cell_type": "code",
      "source": [
        "from scipy import stats"
      ],
      "metadata": {
        "id": "pU6VnvvhTyTZ"
      },
      "execution_count": 279,
      "outputs": []
    },
    {
      "cell_type": "code",
      "source": [
        "mu0 = 24 # гипотеза\n",
        "sigma = np.std(data_array)\n",
        "sample_mean = np.mean(data_array)\n",
        "n = len(data_array)\n",
        "z_score = (sample_mean - mu0) / (sigma / np.sqrt(n))\n",
        "p_value = 2 * (1 - stats.norm.cdf(abs(z_score)))\n",
        "print(f\"z-статистика = {z_score:.3f}, p-value = {p_value:.4f}\")"
      ],
      "metadata": {
        "colab": {
          "base_uri": "https://localhost:8080/"
        },
        "id": "72kYTmt-TExf",
        "outputId": "c3275c0d-65d0-4757-e291-5de064df95b2"
      },
      "execution_count": 282,
      "outputs": [
        {
          "output_type": "stream",
          "name": "stdout",
          "text": [
            "z-статистика = 12.918, p-value = 0.0000\n"
          ]
        }
      ]
    },
    {
      "cell_type": "code",
      "source": [
        "alpha = 0.05\n",
        "if p_value < alpha:\n",
        "    print(\"Отвергаем нулевую гипотезу\")\n",
        "else:\n",
        "    print(\"Нет оснований отвергать нулевую гипотезу\")"
      ],
      "metadata": {
        "colab": {
          "base_uri": "https://localhost:8080/"
        },
        "id": "SitJqtVZUJQI",
        "outputId": "db471c61-4f53-4b7f-dbb9-fb1e5cc11062"
      },
      "execution_count": 283,
      "outputs": [
        {
          "output_type": "stream",
          "name": "stdout",
          "text": [
            "Отвергаем нулевую гипотезу\n"
          ]
        }
      ]
    },
    {
      "cell_type": "markdown",
      "source": [
        "## Вывод\n",
        "\n",
        "Отвергаем нулевую гипотезу и принимаем альтернативную гипотезу"
      ],
      "metadata": {
        "id": "io2DBg2-UDWe"
      }
    },
    {
      "cell_type": "code",
      "source": [],
      "metadata": {
        "id": "bUsSa-QjTapw"
      },
      "execution_count": null,
      "outputs": []
    }
  ]
}